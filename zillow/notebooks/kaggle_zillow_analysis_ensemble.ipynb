{
 "cells": [
  {
   "cell_type": "markdown",
   "metadata": {},
   "source": [
    "<h1 style=\"text-align: center;\" markdown=\"1\"><font color=green>Kaggle Zillow Competition</font> </h1>\n",
    "\n",
    "<font color=green>**Description**: </font>\n",
    "    https://www.kaggle.com/c/zillow-prize-1 \n",
    "\n",
    "<font color=green>**Objective**:</font>  Build a model to improve the Zestimate residual error.  <font color=green>$logerror=log(Zestimate)−log(SalePrice)$ </font> \n",
    "***\n",
    "<font color=green> ** Table of contents **</font> \n",
    "1. [Load data](#section_1)   \n",
    "1. [Check data](#section_2)  \n",
    "1. [Merge & clean data](#section_3)      \n",
    "1. [Prepare for training](#section_4)\n",
    "   -  [feature engineering](#section_4_a)\n",
    "   -  [additional features via SQL](#section_4_b)\n",
    "   -  [impute missing values](#section_4_c) \n",
    "   -  [check feature importance](#section_4_d)\n",
    "       - [XgBoost feature importance](#section_4_d_1)\n",
    "       - [initial look at some features](#section_4_d_2)\n",
    "   -  [generate training & testing sets](#section_4_e)\n",
    "1. [Train models](#section_5) \n",
    "   -  [LightGBM](#section_5_a)\n",
    "   -  [XgBoost](#section_5_b) \n",
    "   -  [random forest](#section_5_c) \n",
    "   -  [elastic net](#section_5_d) \n",
    "   -  [catboost](#section_5_e) \n",
    "1. [Plots](#section_6)\n",
    "plot learning curve & visualize result of each model (roc auc )     \n",
    "1. [Comparisons](#section_7)\n",
    "ensemble & compare again \n",
    "\n"
   ]
  },
  {
   "cell_type": "markdown",
   "metadata": {},
   "source": [
    "## import modules"
   ]
  },
  {
   "cell_type": "code",
   "execution_count": 344,
   "metadata": {},
   "outputs": [],
   "source": [
    "import pandas as pd\n",
    "import numpy as np\n",
    "from scipy import stats\n",
    "from pylab import rcParams\n",
    "\n",
    "# ML models\n",
    "import pickle\n",
    "import xgboost as xgb\n",
    "import lightgbm as lgb\n",
    "from sklearn import linear_model\n",
    "from sklearn.preprocessing import Imputer, LabelEncoder\n",
    "from sklearn.metrics import explained_variance_score, mean_absolute_error\n",
    "\n",
    "# time series models\n",
    "import statsmodels.api as sm\n",
    "from statsmodels.tsa.stattools import adfuller\n",
    "from statsmodels.tsa.arima_model import ARIMA\n",
    "from statsmodels.tsa.statespace.sarimax import SARIMAX\n",
    "import itertools\n",
    "\n",
    "# Datetime operations\n",
    "import time\n",
    "\n",
    "# Visualisations\n",
    "from matplotlib import pyplot\n",
    "import matplotlib.pyplot as plt\n",
    "from matplotlib.axes import Subplot\n",
    "import seaborn as sns\n",
    "plt.style.use('fivethirtyeight')\n",
    "import pickle\n",
    "import ggplot\n",
    "import warnings\n",
    "\n",
    "%matplotlib inline\n",
    "\n",
    "import warnings\n",
    "warnings.filterwarnings('ignore')"
   ]
  },
  {
   "cell_type": "markdown",
   "metadata": {},
   "source": [
    "<a id=\"section_1\"></a>\n",
    "#  1.  Load data"
   ]
  },
  {
   "cell_type": "code",
   "execution_count": 375,
   "metadata": {},
   "outputs": [],
   "source": [
    "df_properties_2016 = pd.read_csv('/Users/fangjie/Workspace/data-science/competitions/zillow/properties_2016.csv',low_memory = False)\n",
    "df_properties_2017 = pd.read_csv('/Users/fangjie/Workspace/data-science/competitions/zillow/properties_2017.csv',low_memory = False)\n",
    "df_transactions_2016 = pd.read_csv('/Users/fangjie/Workspace/data-science/competitions/zillow/train_2016_v2.csv',parse_dates=['transactiondate'],low_memory = False)\n",
    "df_transactions_2017 = pd.read_csv('/Users/fangjie/Workspace/data-science/competitions/zillow/train_2017.csv',parse_dates=['transactiondate'],low_memory = False)\n",
    "sample_submission = pd.read_csv('/Users/fangjie/Workspace/data-science/competitions/zillow/sample_submission.csv', low_memory = False)\n"
   ]
  },
  {
   "cell_type": "markdown",
   "metadata": {},
   "source": [
    "<a id=\"section_2\"></a>\n",
    "# 2. Check data"
   ]
  },
  {
   "cell_type": "code",
   "execution_count": 346,
   "metadata": {
    "scrolled": false
   },
   "outputs": [
    {
     "data": {
      "text/html": [
       "<div>\n",
       "<style>\n",
       "    .dataframe thead tr:only-child th {\n",
       "        text-align: right;\n",
       "    }\n",
       "\n",
       "    .dataframe thead th {\n",
       "        text-align: left;\n",
       "    }\n",
       "\n",
       "    .dataframe tbody tr th {\n",
       "        vertical-align: top;\n",
       "    }\n",
       "</style>\n",
       "<table border=\"1\" class=\"dataframe\">\n",
       "  <thead>\n",
       "    <tr style=\"text-align: right;\">\n",
       "      <th></th>\n",
       "      <th>parcelid</th>\n",
       "      <th>airconditioningtypeid</th>\n",
       "      <th>architecturalstyletypeid</th>\n",
       "      <th>basementsqft</th>\n",
       "      <th>bathroomcnt</th>\n",
       "      <th>bedroomcnt</th>\n",
       "      <th>buildingclasstypeid</th>\n",
       "      <th>buildingqualitytypeid</th>\n",
       "      <th>calculatedbathnbr</th>\n",
       "      <th>decktypeid</th>\n",
       "      <th>...</th>\n",
       "      <th>numberofstories</th>\n",
       "      <th>fireplaceflag</th>\n",
       "      <th>structuretaxvaluedollarcnt</th>\n",
       "      <th>taxvaluedollarcnt</th>\n",
       "      <th>assessmentyear</th>\n",
       "      <th>landtaxvaluedollarcnt</th>\n",
       "      <th>taxamount</th>\n",
       "      <th>taxdelinquencyflag</th>\n",
       "      <th>taxdelinquencyyear</th>\n",
       "      <th>censustractandblock</th>\n",
       "    </tr>\n",
       "  </thead>\n",
       "  <tbody>\n",
       "    <tr>\n",
       "      <th>0</th>\n",
       "      <td>10754147</td>\n",
       "      <td>NaN</td>\n",
       "      <td>NaN</td>\n",
       "      <td>NaN</td>\n",
       "      <td>0.0</td>\n",
       "      <td>0.0</td>\n",
       "      <td>NaN</td>\n",
       "      <td>NaN</td>\n",
       "      <td>NaN</td>\n",
       "      <td>NaN</td>\n",
       "      <td>...</td>\n",
       "      <td>NaN</td>\n",
       "      <td>NaN</td>\n",
       "      <td>NaN</td>\n",
       "      <td>9.0</td>\n",
       "      <td>2015.0</td>\n",
       "      <td>9.0</td>\n",
       "      <td>NaN</td>\n",
       "      <td>NaN</td>\n",
       "      <td>NaN</td>\n",
       "      <td>NaN</td>\n",
       "    </tr>\n",
       "    <tr>\n",
       "      <th>1</th>\n",
       "      <td>10759547</td>\n",
       "      <td>NaN</td>\n",
       "      <td>NaN</td>\n",
       "      <td>NaN</td>\n",
       "      <td>0.0</td>\n",
       "      <td>0.0</td>\n",
       "      <td>NaN</td>\n",
       "      <td>NaN</td>\n",
       "      <td>NaN</td>\n",
       "      <td>NaN</td>\n",
       "      <td>...</td>\n",
       "      <td>NaN</td>\n",
       "      <td>NaN</td>\n",
       "      <td>NaN</td>\n",
       "      <td>27516.0</td>\n",
       "      <td>2015.0</td>\n",
       "      <td>27516.0</td>\n",
       "      <td>NaN</td>\n",
       "      <td>NaN</td>\n",
       "      <td>NaN</td>\n",
       "      <td>NaN</td>\n",
       "    </tr>\n",
       "    <tr>\n",
       "      <th>2</th>\n",
       "      <td>10843547</td>\n",
       "      <td>NaN</td>\n",
       "      <td>NaN</td>\n",
       "      <td>NaN</td>\n",
       "      <td>0.0</td>\n",
       "      <td>0.0</td>\n",
       "      <td>NaN</td>\n",
       "      <td>NaN</td>\n",
       "      <td>NaN</td>\n",
       "      <td>NaN</td>\n",
       "      <td>...</td>\n",
       "      <td>NaN</td>\n",
       "      <td>NaN</td>\n",
       "      <td>650756.0</td>\n",
       "      <td>1413387.0</td>\n",
       "      <td>2015.0</td>\n",
       "      <td>762631.0</td>\n",
       "      <td>20800.37</td>\n",
       "      <td>NaN</td>\n",
       "      <td>NaN</td>\n",
       "      <td>NaN</td>\n",
       "    </tr>\n",
       "    <tr>\n",
       "      <th>3</th>\n",
       "      <td>10859147</td>\n",
       "      <td>NaN</td>\n",
       "      <td>NaN</td>\n",
       "      <td>NaN</td>\n",
       "      <td>0.0</td>\n",
       "      <td>0.0</td>\n",
       "      <td>3.0</td>\n",
       "      <td>7.0</td>\n",
       "      <td>NaN</td>\n",
       "      <td>NaN</td>\n",
       "      <td>...</td>\n",
       "      <td>1.0</td>\n",
       "      <td>NaN</td>\n",
       "      <td>571346.0</td>\n",
       "      <td>1156834.0</td>\n",
       "      <td>2015.0</td>\n",
       "      <td>585488.0</td>\n",
       "      <td>14557.57</td>\n",
       "      <td>NaN</td>\n",
       "      <td>NaN</td>\n",
       "      <td>NaN</td>\n",
       "    </tr>\n",
       "    <tr>\n",
       "      <th>4</th>\n",
       "      <td>10879947</td>\n",
       "      <td>NaN</td>\n",
       "      <td>NaN</td>\n",
       "      <td>NaN</td>\n",
       "      <td>0.0</td>\n",
       "      <td>0.0</td>\n",
       "      <td>4.0</td>\n",
       "      <td>NaN</td>\n",
       "      <td>NaN</td>\n",
       "      <td>NaN</td>\n",
       "      <td>...</td>\n",
       "      <td>NaN</td>\n",
       "      <td>NaN</td>\n",
       "      <td>193796.0</td>\n",
       "      <td>433491.0</td>\n",
       "      <td>2015.0</td>\n",
       "      <td>239695.0</td>\n",
       "      <td>5725.17</td>\n",
       "      <td>NaN</td>\n",
       "      <td>NaN</td>\n",
       "      <td>NaN</td>\n",
       "    </tr>\n",
       "  </tbody>\n",
       "</table>\n",
       "<p>5 rows × 58 columns</p>\n",
       "</div>"
      ],
      "text/plain": [
       "   parcelid  airconditioningtypeid  architecturalstyletypeid  basementsqft  \\\n",
       "0  10754147                    NaN                       NaN           NaN   \n",
       "1  10759547                    NaN                       NaN           NaN   \n",
       "2  10843547                    NaN                       NaN           NaN   \n",
       "3  10859147                    NaN                       NaN           NaN   \n",
       "4  10879947                    NaN                       NaN           NaN   \n",
       "\n",
       "   bathroomcnt  bedroomcnt  buildingclasstypeid  buildingqualitytypeid  \\\n",
       "0          0.0         0.0                  NaN                    NaN   \n",
       "1          0.0         0.0                  NaN                    NaN   \n",
       "2          0.0         0.0                  NaN                    NaN   \n",
       "3          0.0         0.0                  3.0                    7.0   \n",
       "4          0.0         0.0                  4.0                    NaN   \n",
       "\n",
       "   calculatedbathnbr  decktypeid         ...           numberofstories  \\\n",
       "0                NaN         NaN         ...                       NaN   \n",
       "1                NaN         NaN         ...                       NaN   \n",
       "2                NaN         NaN         ...                       NaN   \n",
       "3                NaN         NaN         ...                       1.0   \n",
       "4                NaN         NaN         ...                       NaN   \n",
       "\n",
       "   fireplaceflag  structuretaxvaluedollarcnt  taxvaluedollarcnt  \\\n",
       "0            NaN                         NaN                9.0   \n",
       "1            NaN                         NaN            27516.0   \n",
       "2            NaN                    650756.0          1413387.0   \n",
       "3            NaN                    571346.0          1156834.0   \n",
       "4            NaN                    193796.0           433491.0   \n",
       "\n",
       "   assessmentyear  landtaxvaluedollarcnt  taxamount  taxdelinquencyflag  \\\n",
       "0          2015.0                    9.0        NaN                 NaN   \n",
       "1          2015.0                27516.0        NaN                 NaN   \n",
       "2          2015.0               762631.0   20800.37                 NaN   \n",
       "3          2015.0               585488.0   14557.57                 NaN   \n",
       "4          2015.0               239695.0    5725.17                 NaN   \n",
       "\n",
       "   taxdelinquencyyear  censustractandblock  \n",
       "0                 NaN                  NaN  \n",
       "1                 NaN                  NaN  \n",
       "2                 NaN                  NaN  \n",
       "3                 NaN                  NaN  \n",
       "4                 NaN                  NaN  \n",
       "\n",
       "[5 rows x 58 columns]"
      ]
     },
     "execution_count": 346,
     "metadata": {},
     "output_type": "execute_result"
    }
   ],
   "source": [
    "#df_transactions_2016.head() \n",
    "#df_transactions_2017.head()\n",
    "df_properties_2016.head()\n",
    "#df_properties_2017.head()"
   ]
  },
  {
   "cell_type": "code",
   "execution_count": 347,
   "metadata": {
    "scrolled": true
   },
   "outputs": [
    {
     "data": {
      "text/plain": [
       "(2985217, 58)"
      ]
     },
     "execution_count": 347,
     "metadata": {},
     "output_type": "execute_result"
    }
   ],
   "source": [
    "#df_transactions_2016.shape\n",
    "#df_transactions_2017.shape\n",
    "df_properties_2016.shape\n",
    "#df_properties_2017.shape"
   ]
  },
  {
   "cell_type": "code",
   "execution_count": 348,
   "metadata": {},
   "outputs": [
    {
     "data": {
      "text/plain": [
       "parcelid                    int64\n",
       "logerror                  float64\n",
       "transactiondate    datetime64[ns]\n",
       "dtype: object"
      ]
     },
     "execution_count": 348,
     "metadata": {},
     "output_type": "execute_result"
    }
   ],
   "source": [
    "df_transactions_2016.dtypes\n",
    "#df_transactions_2017.shape\n",
    "#df_properties_2016.shape\n",
    "#df_properties_2017.shape"
   ]
  },
  {
   "cell_type": "code",
   "execution_count": 349,
   "metadata": {},
   "outputs": [
    {
     "data": {
      "text/plain": [
       "True"
      ]
     },
     "execution_count": 349,
     "metadata": {},
     "output_type": "execute_result"
    }
   ],
   "source": [
    "#check uniqueness of parcelid\n",
    "df_properties_2016.parcelid.unique().shape[0] == df_properties_2016.parcelid.shape[0]"
   ]
  },
  {
   "cell_type": "code",
   "execution_count": 350,
   "metadata": {},
   "outputs": [
    {
     "data": {
      "text/plain": [
       "TaxScore                                              float64\n",
       "ValueRatio                                            float64\n",
       "airconditioningtypeid                                 float64\n",
       "architecturalstyletypeid                              float64\n",
       "assessmentyear                                        float64\n",
       "basementsqft                                          float64\n",
       "bathroomcnt                                           float64\n",
       "bedroomcnt                                            float64\n",
       "buildingclasstypeid                                   float64\n",
       "buildingqualitytypeid                                 float64\n",
       "calculatedbathnbr                                     float64\n",
       "calculatedfinishedsquarefeet                          float64\n",
       "censustractandblock                                   float64\n",
       "decktypeid                                            float64\n",
       "f_cat_median_year_in_rawcensustractandblock           float64\n",
       "f_cat_median_year_in_regionidcity                     float64\n",
       "f_cat_median_year_in_regionidneighborhood             float64\n",
       "f_cat_median_year_in_regionidzip                      float64\n",
       "f_num_AvRoomSize                                      float64\n",
       "f_num_Avg-structuretaxvaluedollarcnt                  float64\n",
       "f_num_Dev-structuretaxvaluedollarcnt                  float64\n",
       "f_num_ExtraRooms                                      float64\n",
       "                                                    ...      \n",
       "structuretaxvaluedollarcnt                            float64\n",
       "taxamount                                             float64\n",
       "taxdelinquencyflag                                     object\n",
       "taxdelinquencyyear                                    float64\n",
       "taxdelinquencyyear-2                                  float64\n",
       "taxdelinquencyyear-3                                  float64\n",
       "taxvaluedollarcnt                                     float64\n",
       "threequarterbathnbr                                   float64\n",
       "transaction_month                                       int64\n",
       "transaction_quarter                                     int64\n",
       "transactiondate                                datetime64[ns]\n",
       "typeconstructiontypeid                                float64\n",
       "unitcnt                                               float64\n",
       "yardbuildingsqft17                                    float64\n",
       "yardbuildingsqft26                                    float64\n",
       "yearbuilt                                             float64\n",
       "f_num_month                                             int64\n",
       "f_num_quarter                                           int64\n",
       "f_num_monthly_avg_logerror                            float64\n",
       "f_num_monthly_stddev_logerror                         float64\n",
       "f_num_quarterly_avg_logerror                          float64\n",
       "f_num_quarterly_stddev_logerror                       float64\n",
       "Length: 111, dtype: object"
      ]
     },
     "execution_count": 350,
     "metadata": {},
     "output_type": "execute_result"
    }
   ],
   "source": [
    "df_train_2016 = pd.merge(df_transactions_2016, df_properties_2016, how = 'left', on = 'parcelid')\n",
    "df_train_2017 = pd.merge(df_transactions_2017, df_properties_2017, how = 'left', on = 'parcelid')\n",
    "df_train.dtypes"
   ]
  },
  {
   "cell_type": "code",
   "execution_count": 351,
   "metadata": {},
   "outputs": [
    {
     "data": {
      "text/html": [
       "<div>\n",
       "<style>\n",
       "    .dataframe thead tr:only-child th {\n",
       "        text-align: right;\n",
       "    }\n",
       "\n",
       "    .dataframe thead th {\n",
       "        text-align: left;\n",
       "    }\n",
       "\n",
       "    .dataframe tbody tr th {\n",
       "        vertical-align: top;\n",
       "    }\n",
       "</style>\n",
       "<table border=\"1\" class=\"dataframe\">\n",
       "  <thead>\n",
       "    <tr style=\"text-align: right;\">\n",
       "      <th></th>\n",
       "      <th>TaxScore</th>\n",
       "      <th>ValueRatio</th>\n",
       "      <th>airconditioningtypeid</th>\n",
       "      <th>architecturalstyletypeid</th>\n",
       "      <th>assessmentyear</th>\n",
       "      <th>basementsqft</th>\n",
       "      <th>bathroomcnt</th>\n",
       "      <th>bedroomcnt</th>\n",
       "      <th>buildingclasstypeid</th>\n",
       "      <th>buildingqualitytypeid</th>\n",
       "      <th>...</th>\n",
       "      <th>unitcnt</th>\n",
       "      <th>yardbuildingsqft17</th>\n",
       "      <th>yardbuildingsqft26</th>\n",
       "      <th>yearbuilt</th>\n",
       "      <th>f_num_month</th>\n",
       "      <th>f_num_quarter</th>\n",
       "      <th>f_num_monthly_avg_logerror</th>\n",
       "      <th>f_num_monthly_stddev_logerror</th>\n",
       "      <th>f_num_quarterly_avg_logerror</th>\n",
       "      <th>f_num_quarterly_stddev_logerror</th>\n",
       "    </tr>\n",
       "  </thead>\n",
       "  <tbody>\n",
       "    <tr>\n",
       "      <th>count</th>\n",
       "      <td>1.678410e+05</td>\n",
       "      <td>167841.000000</td>\n",
       "      <td>53788.000000</td>\n",
       "      <td>468.000000</td>\n",
       "      <td>167854.000000</td>\n",
       "      <td>93.000000</td>\n",
       "      <td>167854.000000</td>\n",
       "      <td>167854.000000</td>\n",
       "      <td>31.000000</td>\n",
       "      <td>107173.000000</td>\n",
       "      <td>...</td>\n",
       "      <td>109056.000000</td>\n",
       "      <td>5039.000000</td>\n",
       "      <td>165.000000</td>\n",
       "      <td>166828.000000</td>\n",
       "      <td>167888.000000</td>\n",
       "      <td>167888.000000</td>\n",
       "      <td>167888.000000</td>\n",
       "      <td>167888.000000</td>\n",
       "      <td>167888.000000</td>\n",
       "      <td>167888.000000</td>\n",
       "    </tr>\n",
       "    <tr>\n",
       "      <th>mean</th>\n",
       "      <td>7.051045e+09</td>\n",
       "      <td>77.660173</td>\n",
       "      <td>1.814345</td>\n",
       "      <td>7.299145</td>\n",
       "      <td>2015.462181</td>\n",
       "      <td>695.376344</td>\n",
       "      <td>2.288265</td>\n",
       "      <td>3.041739</td>\n",
       "      <td>3.967742</td>\n",
       "      <td>6.015461</td>\n",
       "      <td>...</td>\n",
       "      <td>1.110365</td>\n",
       "      <td>307.919032</td>\n",
       "      <td>271.260606</td>\n",
       "      <td>1968.569311</td>\n",
       "      <td>5.485437</td>\n",
       "      <td>2.160845</td>\n",
       "      <td>0.013906</td>\n",
       "      <td>0.165224</td>\n",
       "      <td>0.016095</td>\n",
       "      <td>0.172686</td>\n",
       "    </tr>\n",
       "    <tr>\n",
       "      <th>std</th>\n",
       "      <td>9.887881e+10</td>\n",
       "      <td>45.426310</td>\n",
       "      <td>2.970239</td>\n",
       "      <td>2.719633</td>\n",
       "      <td>0.498569</td>\n",
       "      <td>583.952144</td>\n",
       "      <td>1.000835</td>\n",
       "      <td>1.149134</td>\n",
       "      <td>0.179605</td>\n",
       "      <td>1.882799</td>\n",
       "      <td>...</td>\n",
       "      <td>0.988168</td>\n",
       "      <td>227.430960</td>\n",
       "      <td>293.611447</td>\n",
       "      <td>23.777202</td>\n",
       "      <td>2.641648</td>\n",
       "      <td>0.874374</td>\n",
       "      <td>0.003957</td>\n",
       "      <td>0.012063</td>\n",
       "      <td>0.003442</td>\n",
       "      <td>0.007780</td>\n",
       "    </tr>\n",
       "    <tr>\n",
       "      <th>min</th>\n",
       "      <td>3.423772e+04</td>\n",
       "      <td>0.009129</td>\n",
       "      <td>1.000000</td>\n",
       "      <td>2.000000</td>\n",
       "      <td>2015.000000</td>\n",
       "      <td>38.000000</td>\n",
       "      <td>0.000000</td>\n",
       "      <td>0.000000</td>\n",
       "      <td>3.000000</td>\n",
       "      <td>1.000000</td>\n",
       "      <td>...</td>\n",
       "      <td>1.000000</td>\n",
       "      <td>11.000000</td>\n",
       "      <td>12.000000</td>\n",
       "      <td>1824.000000</td>\n",
       "      <td>1.000000</td>\n",
       "      <td>1.000000</td>\n",
       "      <td>0.008849</td>\n",
       "      <td>0.134488</td>\n",
       "      <td>0.008849</td>\n",
       "      <td>0.162658</td>\n",
       "    </tr>\n",
       "    <tr>\n",
       "      <th>25%</th>\n",
       "      <td>5.667888e+08</td>\n",
       "      <td>72.129814</td>\n",
       "      <td>1.000000</td>\n",
       "      <td>7.000000</td>\n",
       "      <td>2015.000000</td>\n",
       "      <td>280.000000</td>\n",
       "      <td>2.000000</td>\n",
       "      <td>2.000000</td>\n",
       "      <td>4.000000</td>\n",
       "      <td>4.000000</td>\n",
       "      <td>...</td>\n",
       "      <td>1.000000</td>\n",
       "      <td>175.000000</td>\n",
       "      <td>88.000000</td>\n",
       "      <td>1953.000000</td>\n",
       "      <td>3.000000</td>\n",
       "      <td>1.000000</td>\n",
       "      <td>0.010421</td>\n",
       "      <td>0.157046</td>\n",
       "      <td>0.012199</td>\n",
       "      <td>0.163923</td>\n",
       "    </tr>\n",
       "    <tr>\n",
       "      <th>50%</th>\n",
       "      <td>1.551562e+09</td>\n",
       "      <td>80.346664</td>\n",
       "      <td>1.000000</td>\n",
       "      <td>7.000000</td>\n",
       "      <td>2015.000000</td>\n",
       "      <td>588.000000</td>\n",
       "      <td>2.000000</td>\n",
       "      <td>3.000000</td>\n",
       "      <td>4.000000</td>\n",
       "      <td>7.000000</td>\n",
       "      <td>...</td>\n",
       "      <td>1.000000</td>\n",
       "      <td>252.000000</td>\n",
       "      <td>160.000000</td>\n",
       "      <td>1970.000000</td>\n",
       "      <td>6.000000</td>\n",
       "      <td>2.000000</td>\n",
       "      <td>0.013941</td>\n",
       "      <td>0.163154</td>\n",
       "      <td>0.018463</td>\n",
       "      <td>0.172725</td>\n",
       "    </tr>\n",
       "    <tr>\n",
       "      <th>75%</th>\n",
       "      <td>3.772205e+09</td>\n",
       "      <td>84.974756</td>\n",
       "      <td>1.000000</td>\n",
       "      <td>7.000000</td>\n",
       "      <td>2016.000000</td>\n",
       "      <td>819.000000</td>\n",
       "      <td>3.000000</td>\n",
       "      <td>4.000000</td>\n",
       "      <td>4.000000</td>\n",
       "      <td>7.000000</td>\n",
       "      <td>...</td>\n",
       "      <td>1.000000</td>\n",
       "      <td>375.000000</td>\n",
       "      <td>320.000000</td>\n",
       "      <td>1987.000000</td>\n",
       "      <td>8.000000</td>\n",
       "      <td>3.000000</td>\n",
       "      <td>0.018463</td>\n",
       "      <td>0.172725</td>\n",
       "      <td>0.019012</td>\n",
       "      <td>0.181878</td>\n",
       "    </tr>\n",
       "    <tr>\n",
       "      <th>max</th>\n",
       "      <td>2.878125e+13</td>\n",
       "      <td>10669.578381</td>\n",
       "      <td>13.000000</td>\n",
       "      <td>21.000000</td>\n",
       "      <td>2016.000000</td>\n",
       "      <td>3560.000000</td>\n",
       "      <td>20.000000</td>\n",
       "      <td>16.000000</td>\n",
       "      <td>4.000000</td>\n",
       "      <td>12.000000</td>\n",
       "      <td>...</td>\n",
       "      <td>237.000000</td>\n",
       "      <td>3191.000000</td>\n",
       "      <td>1366.000000</td>\n",
       "      <td>2016.000000</td>\n",
       "      <td>12.000000</td>\n",
       "      <td>4.000000</td>\n",
       "      <td>0.019829</td>\n",
       "      <td>0.189896</td>\n",
       "      <td>0.019012</td>\n",
       "      <td>0.181878</td>\n",
       "    </tr>\n",
       "  </tbody>\n",
       "</table>\n",
       "<p>8 rows × 105 columns</p>\n",
       "</div>"
      ],
      "text/plain": [
       "           TaxScore     ValueRatio  airconditioningtypeid  \\\n",
       "count  1.678410e+05  167841.000000           53788.000000   \n",
       "mean   7.051045e+09      77.660173               1.814345   \n",
       "std    9.887881e+10      45.426310               2.970239   \n",
       "min    3.423772e+04       0.009129               1.000000   \n",
       "25%    5.667888e+08      72.129814               1.000000   \n",
       "50%    1.551562e+09      80.346664               1.000000   \n",
       "75%    3.772205e+09      84.974756               1.000000   \n",
       "max    2.878125e+13   10669.578381              13.000000   \n",
       "\n",
       "       architecturalstyletypeid  assessmentyear  basementsqft    bathroomcnt  \\\n",
       "count                468.000000   167854.000000     93.000000  167854.000000   \n",
       "mean                   7.299145     2015.462181    695.376344       2.288265   \n",
       "std                    2.719633        0.498569    583.952144       1.000835   \n",
       "min                    2.000000     2015.000000     38.000000       0.000000   \n",
       "25%                    7.000000     2015.000000    280.000000       2.000000   \n",
       "50%                    7.000000     2015.000000    588.000000       2.000000   \n",
       "75%                    7.000000     2016.000000    819.000000       3.000000   \n",
       "max                   21.000000     2016.000000   3560.000000      20.000000   \n",
       "\n",
       "          bedroomcnt  buildingclasstypeid  buildingqualitytypeid  \\\n",
       "count  167854.000000            31.000000          107173.000000   \n",
       "mean        3.041739             3.967742               6.015461   \n",
       "std         1.149134             0.179605               1.882799   \n",
       "min         0.000000             3.000000               1.000000   \n",
       "25%         2.000000             4.000000               4.000000   \n",
       "50%         3.000000             4.000000               7.000000   \n",
       "75%         4.000000             4.000000               7.000000   \n",
       "max        16.000000             4.000000              12.000000   \n",
       "\n",
       "                    ...                       unitcnt  yardbuildingsqft17  \\\n",
       "count               ...                 109056.000000         5039.000000   \n",
       "mean                ...                      1.110365          307.919032   \n",
       "std                 ...                      0.988168          227.430960   \n",
       "min                 ...                      1.000000           11.000000   \n",
       "25%                 ...                      1.000000          175.000000   \n",
       "50%                 ...                      1.000000          252.000000   \n",
       "75%                 ...                      1.000000          375.000000   \n",
       "max                 ...                    237.000000         3191.000000   \n",
       "\n",
       "       yardbuildingsqft26      yearbuilt    f_num_month  f_num_quarter  \\\n",
       "count          165.000000  166828.000000  167888.000000  167888.000000   \n",
       "mean           271.260606    1968.569311       5.485437       2.160845   \n",
       "std            293.611447      23.777202       2.641648       0.874374   \n",
       "min             12.000000    1824.000000       1.000000       1.000000   \n",
       "25%             88.000000    1953.000000       3.000000       1.000000   \n",
       "50%            160.000000    1970.000000       6.000000       2.000000   \n",
       "75%            320.000000    1987.000000       8.000000       3.000000   \n",
       "max           1366.000000    2016.000000      12.000000       4.000000   \n",
       "\n",
       "       f_num_monthly_avg_logerror  f_num_monthly_stddev_logerror  \\\n",
       "count               167888.000000                  167888.000000   \n",
       "mean                     0.013906                       0.165224   \n",
       "std                      0.003957                       0.012063   \n",
       "min                      0.008849                       0.134488   \n",
       "25%                      0.010421                       0.157046   \n",
       "50%                      0.013941                       0.163154   \n",
       "75%                      0.018463                       0.172725   \n",
       "max                      0.019829                       0.189896   \n",
       "\n",
       "       f_num_quarterly_avg_logerror  f_num_quarterly_stddev_logerror  \n",
       "count                 167888.000000                    167888.000000  \n",
       "mean                       0.016095                         0.172686  \n",
       "std                        0.003442                         0.007780  \n",
       "min                        0.008849                         0.162658  \n",
       "25%                        0.012199                         0.163923  \n",
       "50%                        0.018463                         0.172725  \n",
       "75%                        0.019012                         0.181878  \n",
       "max                        0.019012                         0.181878  \n",
       "\n",
       "[8 rows x 105 columns]"
      ]
     },
     "execution_count": 351,
     "metadata": {},
     "output_type": "execute_result"
    }
   ],
   "source": [
    "df_train.describe()"
   ]
  },
  {
   "cell_type": "markdown",
   "metadata": {},
   "source": [
    "### check logerror data"
   ]
  },
  {
   "cell_type": "code",
   "execution_count": 352,
   "metadata": {
    "scrolled": true
   },
   "outputs": [
    {
     "data": {
      "text/plain": [
       "<matplotlib.axes._subplots.AxesSubplot at 0x2307d2c50>"
      ]
     },
     "execution_count": 352,
     "metadata": {},
     "output_type": "execute_result"
    },
    {
     "data": {
      "image/png": "[encoded data removed]",
      "text/plain": [
       "<matplotlib.figure.Figure at 0x2307d2ed0>"
      ]
     },
     "metadata": {},
     "output_type": "display_data"
    }
   ],
   "source": [
    "df_train.logerror.hist(bins = 40)\n",
    "# this looks weird - there seems to be some extreme outliers, let me remove them and plot again"
   ]
  },
  {
   "cell_type": "code",
   "execution_count": 353,
   "metadata": {},
   "outputs": [
    {
     "data": {
      "text/plain": [
       "<matplotlib.axes._subplots.AxesSubplot at 0x158c98350>"
      ]
     },
     "execution_count": 353,
     "metadata": {},
     "output_type": "execute_result"
    },
    {
     "data": {
      "image/png": "[encoded data removed]",
      "text/plain": [
       "<matplotlib.figure.Figure at 0x31075f790>"
      ]
     },
     "metadata": {},
     "output_type": "display_data"
    }
   ],
   "source": [
    "ulimit = np.percentile(df_train.logerror.values, 99)\n",
    "llimit = np.percentile(df_train.logerror.values, 1)\n",
    "df_train['logerror'].ix[df_train['logerror']>ulimit] = ulimit\n",
    "df_train['logerror'].ix[df_train['logerror']<llimit] = llimit\n",
    "\n",
    "df_train.logerror.hist(bins = 40)"
   ]
  },
  {
   "cell_type": "markdown",
   "metadata": {},
   "source": [
    "### check missing values"
   ]
  },
  {
   "cell_type": "code",
   "execution_count": 354,
   "metadata": {},
   "outputs": [
    {
     "data": {
      "text/html": [
       "<div>\n",
       "<style>\n",
       "    .dataframe thead tr:only-child th {\n",
       "        text-align: right;\n",
       "    }\n",
       "\n",
       "    .dataframe thead th {\n",
       "        text-align: left;\n",
       "    }\n",
       "\n",
       "    .dataframe tbody tr th {\n",
       "        vertical-align: top;\n",
       "    }\n",
       "</style>\n",
       "<table border=\"1\" class=\"dataframe\">\n",
       "  <thead>\n",
       "    <tr style=\"text-align: right;\">\n",
       "      <th></th>\n",
       "      <th>column_name</th>\n",
       "      <th>nan_count</th>\n",
       "      <th>nan_rate</th>\n",
       "    </tr>\n",
       "  </thead>\n",
       "  <tbody>\n",
       "    <tr>\n",
       "      <th>41</th>\n",
       "      <td>storytypeid</td>\n",
       "      <td>2983594</td>\n",
       "      <td>99.945632</td>\n",
       "    </tr>\n",
       "    <tr>\n",
       "      <th>3</th>\n",
       "      <td>basementsqft</td>\n",
       "      <td>2983590</td>\n",
       "      <td>99.945498</td>\n",
       "    </tr>\n",
       "    <tr>\n",
       "      <th>46</th>\n",
       "      <td>yardbuildingsqft26</td>\n",
       "      <td>2982571</td>\n",
       "      <td>99.911363</td>\n",
       "    </tr>\n",
       "    <tr>\n",
       "      <th>49</th>\n",
       "      <td>fireplaceflag</td>\n",
       "      <td>2980054</td>\n",
       "      <td>99.827048</td>\n",
       "    </tr>\n",
       "    <tr>\n",
       "      <th>2</th>\n",
       "      <td>architecturalstyletypeid</td>\n",
       "      <td>2979156</td>\n",
       "      <td>99.796966</td>\n",
       "    </tr>\n",
       "    <tr>\n",
       "      <th>43</th>\n",
       "      <td>typeconstructiontypeid</td>\n",
       "      <td>2978471</td>\n",
       "      <td>99.774020</td>\n",
       "    </tr>\n",
       "    <tr>\n",
       "      <th>13</th>\n",
       "      <td>finishedsquarefeet13</td>\n",
       "      <td>2977546</td>\n",
       "      <td>99.743034</td>\n",
       "    </tr>\n",
       "    <tr>\n",
       "      <th>6</th>\n",
       "      <td>buildingclasstypeid</td>\n",
       "      <td>2972486</td>\n",
       "      <td>99.573532</td>\n",
       "    </tr>\n",
       "    <tr>\n",
       "      <th>29</th>\n",
       "      <td>pooltypeid10</td>\n",
       "      <td>2968211</td>\n",
       "      <td>99.430326</td>\n",
       "    </tr>\n",
       "    <tr>\n",
       "      <th>9</th>\n",
       "      <td>decktypeid</td>\n",
       "      <td>2967838</td>\n",
       "      <td>99.417831</td>\n",
       "    </tr>\n",
       "  </tbody>\n",
       "</table>\n",
       "</div>"
      ],
      "text/plain": [
       "                 column_name  nan_count   nan_rate\n",
       "41               storytypeid    2983594  99.945632\n",
       "3               basementsqft    2983590  99.945498\n",
       "46        yardbuildingsqft26    2982571  99.911363\n",
       "49             fireplaceflag    2980054  99.827048\n",
       "2   architecturalstyletypeid    2979156  99.796966\n",
       "43    typeconstructiontypeid    2978471  99.774020\n",
       "13      finishedsquarefeet13    2977546  99.743034\n",
       "6        buildingclasstypeid    2972486  99.573532\n",
       "29              pooltypeid10    2968211  99.430326\n",
       "9                 decktypeid    2967838  99.417831"
      ]
     },
     "execution_count": 354,
     "metadata": {},
     "output_type": "execute_result"
    }
   ],
   "source": [
    "# check missing values\n",
    "df_nan = df_properties.isnull().sum(axis=0).reset_index()\n",
    "df_nan.head()\n",
    "df_nan.columns = ['column_name', 'nan_count']\n",
    "df_nan = df_nan.ix[df_nan['nan_count']>0]\n",
    "df_nan['nan_rate'] = df_nan['nan_count']*100.0/ df_properties.shape[0]\n",
    "df_nan = df_nan.sort_values(by='nan_rate',ascending=False)\n",
    "df_nan.head(10)"
   ]
  },
  {
   "cell_type": "code",
   "execution_count": 355,
   "metadata": {},
   "outputs": [],
   "source": [
    "# there are a lot of fields that have huge percentage of missing values\n",
    "# need to remove some if it gets too extreme cuz that will cause overfitting problems"
   ]
  },
  {
   "cell_type": "markdown",
   "metadata": {},
   "source": [
    "<a id=\"section_3\"></a>\n",
    "# 3. Merge data "
   ]
  },
  {
   "cell_type": "code",
   "execution_count": 423,
   "metadata": {},
   "outputs": [],
   "source": [
    "# assign 2017 tax data to NULL due to info leak\n",
    "# df_train_2017[['structuretaxvaluedollarcnt', 'landtaxvaluedollarcnt', 'taxvaluedollarcnt', 'taxamount']] = np.nan\n",
    "#df = pd.merge(left=df_properties, right=df_transactions, on='parcelid')\n",
    "#df_pred = pd.merge(left=df_properties, right=df_transactions.drop_duplicates(subset='parcelid',keep='first'), on='parcelid', how='left')\n",
    "# merge the two set \n",
    "df_train = pd.concat([df_train_2016, df_train_2017], axis = 0)\n",
    "df_pred_2016 = pd.merge(sample_submission[['ParcelId']], df_properties_2016.rename(columns = {'parcelid': 'ParcelId'}), \n",
    "                how = 'left', on = 'ParcelId')\n",
    "df_pred_2017 = pd.merge(sample_submission[['ParcelId']], df_properties_2017.rename(columns = {'parcelid': 'ParcelId'}), \n",
    "                how = 'left', on = 'ParcelId')"
   ]
  },
  {
   "cell_type": "code",
   "execution_count": 357,
   "metadata": {},
   "outputs": [
    {
     "data": {
      "text/plain": [
       "1    162541\n",
       "2      2660\n",
       "3         9\n",
       "Name: parcelid, dtype: int64"
      ]
     },
     "execution_count": 357,
     "metadata": {},
     "output_type": "execute_result"
    }
   ],
   "source": [
    "(df_train['parcelid'].value_counts().reset_index())['parcelid'].value_counts()"
   ]
  },
  {
   "cell_type": "code",
   "execution_count": 358,
   "metadata": {},
   "outputs": [
    {
     "data": {
      "text/plain": [
       "<matplotlib.axes._subplots.AxesSubplot at 0x13886ed10>"
      ]
     },
     "execution_count": 358,
     "metadata": {},
     "output_type": "execute_result"
    },
    {
     "data": {
      "image/png": "[encoded data removed]",
      "text/plain": [
       "<matplotlib.figure.Figure at 0x13a6004d0>"
      ]
     },
     "metadata": {},
     "output_type": "display_data"
    }
   ],
   "source": [
    "df_train.transactiondate.hist(xrot=90)"
   ]
  },
  {
   "cell_type": "code",
   "execution_count": 359,
   "metadata": {},
   "outputs": [
    {
     "data": {
      "text/plain": [
       "(2985217, 58)"
      ]
     },
     "execution_count": 359,
     "metadata": {},
     "output_type": "execute_result"
    }
   ],
   "source": [
    "df_pred_2016.shape"
   ]
  },
  {
   "cell_type": "code",
   "execution_count": 360,
   "metadata": {},
   "outputs": [
    {
     "data": {
      "text/html": [
       "<div>\n",
       "<style>\n",
       "    .dataframe thead tr:only-child th {\n",
       "        text-align: right;\n",
       "    }\n",
       "\n",
       "    .dataframe thead th {\n",
       "        text-align: left;\n",
       "    }\n",
       "\n",
       "    .dataframe tbody tr th {\n",
       "        vertical-align: top;\n",
       "    }\n",
       "</style>\n",
       "<table border=\"1\" class=\"dataframe\">\n",
       "  <thead>\n",
       "    <tr style=\"text-align: right;\">\n",
       "      <th></th>\n",
       "      <th>ParcelId</th>\n",
       "      <th>201610</th>\n",
       "      <th>201611</th>\n",
       "      <th>201612</th>\n",
       "      <th>201710</th>\n",
       "      <th>201711</th>\n",
       "      <th>201712</th>\n",
       "    </tr>\n",
       "  </thead>\n",
       "  <tbody>\n",
       "    <tr>\n",
       "      <th>0</th>\n",
       "      <td>10754147</td>\n",
       "      <td>0</td>\n",
       "      <td>0</td>\n",
       "      <td>0</td>\n",
       "      <td>0</td>\n",
       "      <td>0</td>\n",
       "      <td>0</td>\n",
       "    </tr>\n",
       "    <tr>\n",
       "      <th>1</th>\n",
       "      <td>10759547</td>\n",
       "      <td>0</td>\n",
       "      <td>0</td>\n",
       "      <td>0</td>\n",
       "      <td>0</td>\n",
       "      <td>0</td>\n",
       "      <td>0</td>\n",
       "    </tr>\n",
       "    <tr>\n",
       "      <th>2</th>\n",
       "      <td>10843547</td>\n",
       "      <td>0</td>\n",
       "      <td>0</td>\n",
       "      <td>0</td>\n",
       "      <td>0</td>\n",
       "      <td>0</td>\n",
       "      <td>0</td>\n",
       "    </tr>\n",
       "    <tr>\n",
       "      <th>3</th>\n",
       "      <td>10859147</td>\n",
       "      <td>0</td>\n",
       "      <td>0</td>\n",
       "      <td>0</td>\n",
       "      <td>0</td>\n",
       "      <td>0</td>\n",
       "      <td>0</td>\n",
       "    </tr>\n",
       "    <tr>\n",
       "      <th>4</th>\n",
       "      <td>10879947</td>\n",
       "      <td>0</td>\n",
       "      <td>0</td>\n",
       "      <td>0</td>\n",
       "      <td>0</td>\n",
       "      <td>0</td>\n",
       "      <td>0</td>\n",
       "    </tr>\n",
       "  </tbody>\n",
       "</table>\n",
       "</div>"
      ],
      "text/plain": [
       "   ParcelId  201610  201611  201612  201710  201711  201712\n",
       "0  10754147       0       0       0       0       0       0\n",
       "1  10759547       0       0       0       0       0       0\n",
       "2  10843547       0       0       0       0       0       0\n",
       "3  10859147       0       0       0       0       0       0\n",
       "4  10879947       0       0       0       0       0       0"
      ]
     },
     "execution_count": 360,
     "metadata": {},
     "output_type": "execute_result"
    }
   ],
   "source": [
    "sample_submission.head()"
   ]
  },
  {
   "cell_type": "code",
   "execution_count": 361,
   "metadata": {},
   "outputs": [
    {
     "data": {
      "text/plain": [
       "Index([u'ParcelId', u'airconditioningtypeid', u'architecturalstyletypeid',\n",
       "       u'basementsqft', u'bathroomcnt', u'bedroomcnt', u'buildingclasstypeid',\n",
       "       u'buildingqualitytypeid', u'calculatedbathnbr', u'decktypeid',\n",
       "       u'finishedfloor1squarefeet', u'calculatedfinishedsquarefeet',\n",
       "       u'finishedsquarefeet12', u'finishedsquarefeet13',\n",
       "       u'finishedsquarefeet15', u'finishedsquarefeet50',\n",
       "       u'finishedsquarefeet6', u'fips', u'fireplacecnt', u'fullbathcnt',\n",
       "       u'garagecarcnt', u'garagetotalsqft', u'hashottuborspa',\n",
       "       u'heatingorsystemtypeid', u'latitude', u'longitude',\n",
       "       u'lotsizesquarefeet', u'poolcnt', u'poolsizesum', u'pooltypeid10',\n",
       "       u'pooltypeid2', u'pooltypeid7', u'propertycountylandusecode',\n",
       "       u'propertylandusetypeid', u'propertyzoningdesc',\n",
       "       u'rawcensustractandblock', u'regionidcity', u'regionidcounty',\n",
       "       u'regionidneighborhood', u'regionidzip', u'roomcnt', u'storytypeid',\n",
       "       u'threequarterbathnbr', u'typeconstructiontypeid', u'unitcnt',\n",
       "       u'yardbuildingsqft17', u'yardbuildingsqft26', u'yearbuilt',\n",
       "       u'numberofstories', u'fireplaceflag', u'structuretaxvaluedollarcnt',\n",
       "       u'taxvaluedollarcnt', u'assessmentyear', u'landtaxvaluedollarcnt',\n",
       "       u'taxamount', u'taxdelinquencyflag', u'taxdelinquencyyear',\n",
       "       u'censustractandblock'],\n",
       "      dtype='object')"
      ]
     },
     "execution_count": 361,
     "metadata": {},
     "output_type": "execute_result"
    }
   ],
   "source": [
    "df_pred_2016.columns"
   ]
  },
  {
   "cell_type": "code",
   "execution_count": 390,
   "metadata": {},
   "outputs": [
    {
     "data": {
      "text/plain": [
       "Index([u'parcelid', u'logerror', u'transactiondate', u'airconditioningtypeid',\n",
       "       u'architecturalstyletypeid', u'basementsqft', u'bathroomcnt',\n",
       "       u'bedroomcnt', u'buildingclasstypeid', u'buildingqualitytypeid',\n",
       "       ...\n",
       "       u'f_num_n_prop_in_regionidcity', u'f_cat_median_year_in_regionidcity',\n",
       "       u'f_num_how_new_in_regionidcity', u'f_num_median_lat_in_regionidcity',\n",
       "       u'f_num_median_lon_in_regionidcity',\n",
       "       u'f_num_n_prop_in_rawcensustractandblock',\n",
       "       u'f_cat_median_year_in_rawcensustractandblock',\n",
       "       u'f_num_how_new_in_rawcensustractandblock',\n",
       "       u'f_num_median_lat_in_rawcensustractandblock',\n",
       "       u'f_num_median_lon_in_rawcensustractandblock'],\n",
       "      dtype='object', length=105)"
      ]
     },
     "execution_count": 390,
     "metadata": {},
     "output_type": "execute_result"
    }
   ],
   "source": [
    "df_train.columns"
   ]
  },
  {
   "cell_type": "markdown",
   "metadata": {},
   "source": [
    "<a id=\"section_4\"></a>\n",
    "# 4. Prepare data for training"
   ]
  },
  {
   "cell_type": "markdown",
   "metadata": {},
   "source": [
    "<a id=\"section_4_a\"></a>\n",
    "## 4a. feature engineering"
   ]
  },
  {
   "cell_type": "code",
   "execution_count": 400,
   "metadata": {},
   "outputs": [],
   "source": [
    "for region in parcel_location_variables:\n",
    "\n",
    "    #### COUNT OF PROPERTIES ####\n",
    "    # number of properties in the zipcode\n",
    "    group = df_pred_2017[region].value_counts().to_dict()\n",
    "    df_pred_2017['f_num_n_prop_in_'+region] = df_pred_2017[region].map(group)\n",
    "    df_train_2017['f_num_n_prop_in_'+region] = df_train_2017[region].map(group)\n",
    "    \n",
    "    ##### HOW NEW IS THIS BUILDING COMPARING TO OTHER BUILDINGS #####\n",
    "    group = df_pred_2017.groupby(region)['yearbuilt'].aggregate('median').to_dict()\n",
    "    df_pred_2017['f_cat_median_year_in_'+region] = df_pred_2017[region].map(group)\n",
    "    df_train_2017['f_cat_median_year_in_'+region] = df_train_2017[region].map(group)\n",
    "    \n",
    "    df_pred_2017['f_num_how_new_in_'+region] = df_pred_2017['yearbuilt'] - df_pred_2017['f_cat_median_year_in_'+region]\n",
    "    df_train_2017['f_num_how_new_in_'+region] = df_train_2017['yearbuilt'] - df_train_2017['f_cat_median_year_in_'+region]\n",
    "\n",
    "    # Neighborhood latitude and longitude\n",
    "    group = df_pred_2017.groupby(region)['latitude'].aggregate('median').to_dict()\n",
    "    df_pred_2017['f_num_median_lat_in_'+region] = df_pred_2017[region].map(group)\n",
    "    df_train_2017['f_num_median_lat_in_'+region] = df_train_2017[region].map(group)\n",
    "    \n",
    "    \n",
    "    group = df_pred_2017.groupby(region)['longitude'].aggregate('median').to_dict()\n",
    "    df_pred_2017['f_num_median_lon_in_'+region] = df_pred_2017[region].map(group)\n",
    "    df_train_2017['f_num_median_lon_in_'+region] = df_train_2017[region].map(group)\n",
    "\n",
    "    #Average structuretaxvaluedollarcnt by city\n",
    "    group = df_pred_2017.groupby(region)['structuretaxvaluedollarcnt'].aggregate('mean').to_dict()\n",
    "    df_pred_2017['f_num_Avg-structuretaxvaluedollarcnt'] = df_pred_2017['regionidcity'].map(group)\n",
    "    df_train_2017['f_num_Avg-structuretaxvaluedollarcnt'] = df_train_2017['regionidcity'].map(group)\n",
    "\n",
    "    #Deviation away from average\n",
    "    df_pred_2017['f_num_Dev-structuretaxvaluedollarcnt'] = abs((df_pred_2017['structuretaxvaluedollarcnt'] - df_pred_2017['f_num_Avg-structuretaxvaluedollarcnt']))/df_pred_2017['f_num_Avg-structuretaxvaluedollarcnt']\n",
    "    df_train_2017['f_num_Dev-structuretaxvaluedollarcnt'] = abs((df_train_2017['structuretaxvaluedollarcnt'] - df_train_2017['f_num_Avg-structuretaxvaluedollarcnt']))/df_train_2017['f_num_Avg-structuretaxvaluedollarcnt']"
   ]
  },
  {
   "cell_type": "code",
   "execution_count": 401,
   "metadata": {},
   "outputs": [],
   "source": [
    "def add_date_features(df):\n",
    "    #df[\"transaction_year\"] = df[\"transactiondate\"].dt.year\n",
    "    #df[\"transaction_month\"] = (df[\"transactiondate\"].dt.year - 2016)*12 + df[\"transactiondate\"].dt.month\n",
    "    \n",
    "    df[\"transaction_month\"] = df[\"transactiondate\"].dt.month\n",
    "    df[\"transaction_quarter\"] = df[\"transactiondate\"].dt.quarter\n",
    "    \n",
    "    # df.drop([\"transactiondate\"], inplace=True, axis=1)\n",
    "\n",
    "    #error in calculation of the finished living area of home\n",
    "    df['f_num_LivingAreaError'] = df['calculatedfinishedsquarefeet']/df['finishedsquarefeet12']\n",
    "\n",
    "    #proportion of living area\n",
    "    df['f_num_LivingAreaProp'] = df['calculatedfinishedsquarefeet']/df['lotsizesquarefeet']\n",
    "    df['f_num_LivingAreaProp2'] = df['finishedsquarefeet12']/df['finishedsquarefeet15']\n",
    "\n",
    "    #Amout of extra space\n",
    "    df['f_num_ExtraSpace'] = df['lotsizesquarefeet'] - df['calculatedfinishedsquarefeet'] \n",
    "    df['f_num_ExtraSpace-2'] = df['finishedsquarefeet15'] - df['finishedsquarefeet12'] \n",
    "\n",
    "    #Total number of rooms\n",
    "    df['f_num_TotalRooms'] = df['bathroomcnt']*df['bedroomcnt']\n",
    "\n",
    "    #Average room size\n",
    "    df['f_num_AvRoomSize'] = df['calculatedfinishedsquarefeet']/df['roomcnt'] \n",
    "\n",
    "    # Number of Extra rooms\n",
    "    df['f_num_ExtraRooms'] = df['roomcnt'] - df['f_num_TotalRooms'] \n",
    "\n",
    "    #Ratio of the built structure value to land area\n",
    "    df['f_num_ValueProp'] = df['structuretaxvaluedollarcnt']/df['landtaxvaluedollarcnt']\n",
    "\n",
    "    #Does property have a garage, pool or hot tub and AC?\n",
    "    df['f_num_GarPoolAC'] = ((df['garagecarcnt']>0) & (df['pooltypeid10']>0) & (df['airconditioningtypeid']!=5))*1 \n",
    "\n",
    "    df[\"f_num_location\"] = df[\"latitude\"] + df[\"longitude\"]\n",
    "    df[\"f_num_locatiof_num_2\"] = df[\"latitude\"]*df[\"longitude\"]\n",
    "    df[\"f_num_locatiof_num_2round\"] = df[\"f_num_locatiof_num_2\"].round(-4)\n",
    "\n",
    "    df[\"f_num_latitude-round\"] = df[\"latitude\"].round(-4)\n",
    "    df[\"f_num_longitude-round\"] = df[\"longitude\"].round(-4)\n",
    "    \n",
    "    #polnomials of the variable\n",
    "    df[\"f_num_structuretaxvaluedollarcnt-2\"] = df[\"structuretaxvaluedollarcnt\"] ** 2\n",
    "    df[\"f_num_structuretaxvaluedollarcnt-3\"] = df[\"structuretaxvaluedollarcnt\"] ** 3\n",
    "\n",
    "    #Ratio of tax of property over parcel\n",
    "    df['ValueRatio'] = df['taxvaluedollarcnt']/df['taxamount']\n",
    "\n",
    "    #TotalTaxScore\n",
    "    df['TaxScore'] = df['taxvaluedollarcnt']*df['taxamount']\n",
    "\n",
    "    #polnomials of tax delinquency year\n",
    "    df[\"taxdelinquencyyear-2\"] = df[\"taxdelinquencyyear\"] ** 2\n",
    "    df[\"taxdelinquencyyear-3\"] = df[\"taxdelinquencyyear\"] ** 3\n",
    "\n",
    "    return df"
   ]
  },
  {
   "cell_type": "code",
   "execution_count": 402,
   "metadata": {},
   "outputs": [],
   "source": [
    "df_train_2016 = add_date_features(df_train_2016)\n",
    "df_train_2017 = add_date_features(df_train_2017)"
   ]
  },
  {
   "cell_type": "code",
   "execution_count": 403,
   "metadata": {},
   "outputs": [],
   "source": [
    "parcel_location_variables = ['regionidneighborhood',\n",
    "                                 'regionidzip', \n",
    "                                 'regionidcity', \n",
    "                                 #'censustrack',\n",
    "                                 'rawcensustractandblock']\n",
    "\n",
    "# through for all 2016 data:\n",
    "for region in parcel_location_variables:\n",
    "\n",
    "    #### COUNT OF PROPERTIES ####\n",
    "    # number of properties in the zipcode\n",
    "    group = df_pred_2016[region].value_counts().to_dict()\n",
    "    df_pred_2016['f_num_n_prop_in_'+region] = df_pred_2016[region].map(group)\n",
    "    df_train_2016['f_num_n_prop_in_'+region] = df_train_2016[region].map(group)\n",
    "    \n",
    "    ##### HOW NEW IS THIS BUILDING COMPARING TO OTHER BUILDINGS #####\n",
    "    group = df_pred_2016.groupby(region)['yearbuilt'].aggregate('median').to_dict()\n",
    "    df_pred_2016['f_cat_median_year_in_'+region] = df_pred_2016[region].map(group)\n",
    "    df_train_2016['f_cat_median_year_in_'+region] = df_train_2016[region].map(group)\n",
    "    \n",
    "    df_pred_2016['f_num_how_new_in_'+region] = df_pred_2016['yearbuilt'] - df_pred_2016['f_cat_median_year_in_'+region]\n",
    "    df_train_2016['f_num_how_new_in_'+region] = df_train_2016['yearbuilt'] - df_train_2016['f_cat_median_year_in_'+region]\n",
    "\n",
    "    # Neighborhood latitude and longitude\n",
    "    group = df_pred_2016.groupby(region)['latitude'].aggregate('median').to_dict()\n",
    "    df_pred_2016['f_num_median_lat_in_'+region] = df_pred_2016[region].map(group)\n",
    "    df_train_2016['f_num_median_lat_in_'+region] = df_train_2016[region].map(group)\n",
    "    \n",
    "    \n",
    "    group = df_pred_2016.groupby(region)['longitude'].aggregate('median').to_dict()\n",
    "    df_pred_2016['f_num_median_lon_in_'+region] = df_pred_2016[region].map(group)\n",
    "    df_train_2016['f_num_median_lon_in_'+region] = df_train_2016[region].map(group)\n",
    "\n",
    "    #Average structuretaxvaluedollarcnt by city\n",
    "    group = df_pred_2016.groupby(region)['structuretaxvaluedollarcnt'].aggregate('mean').to_dict()\n",
    "    df_pred_2016['f_num_Avg-structuretaxvaluedollarcnt'] = df_pred_2016['regionidcity'].map(group)\n",
    "    df_train_2016['f_num_Avg-structuretaxvaluedollarcnt'] = df_train_2016['regionidcity'].map(group)\n",
    "\n",
    "    #Deviation away from average\n",
    "    df_pred_2016['f_num_Dev-structuretaxvaluedollarcnt'] = abs((df_pred_2016['structuretaxvaluedollarcnt'] - df_pred_2016['f_num_Avg-structuretaxvaluedollarcnt']))/df_pred_2016['f_num_Avg-structuretaxvaluedollarcnt']\n",
    "    df_train_2016['f_num_Dev-structuretaxvaluedollarcnt'] = abs((df_train_2016['structuretaxvaluedollarcnt'] - df_train_2016['f_num_Avg-structuretaxvaluedollarcnt']))/df_train_2016['f_num_Avg-structuretaxvaluedollarcnt']"
   ]
  },
  {
   "cell_type": "code",
   "execution_count": 404,
   "metadata": {},
   "outputs": [],
   "source": [
    "# and do it for 2017\n",
    "for region in parcel_location_variables:\n",
    "\n",
    "    #### COUNT OF PROPERTIES ####\n",
    "    # number of properties in the zipcode\n",
    "    group = df_pred_2017[region].value_counts().to_dict()\n",
    "    df_pred_2017['f_num_n_prop_in_'+region] = df_pred_2017[region].map(group)\n",
    "    df_train_2017['f_num_n_prop_in_'+region] = df_train_2017[region].map(group)\n",
    "    \n",
    "    ##### HOW NEW IS THIS BUILDING COMPARING TO OTHER BUILDINGS #####\n",
    "    group = df_pred_2017.groupby(region)['yearbuilt'].aggregate('median').to_dict()\n",
    "    df_pred_2017['f_cat_median_year_in_'+region] = df_pred_2017[region].map(group)\n",
    "    df_train_2017['f_cat_median_year_in_'+region] = df_train_2017[region].map(group)\n",
    "    \n",
    "    df_pred_2017['f_num_how_new_in_'+region] = df_pred_2017['yearbuilt'] - df_pred_2017['f_cat_median_year_in_'+region]\n",
    "    df_train_2017['f_num_how_new_in_'+region] = df_train_2017['yearbuilt'] - df_train_2017['f_cat_median_year_in_'+region]\n",
    "\n",
    "    # Neighborhood latitude and longitude\n",
    "    group = df_pred_2017.groupby(region)['latitude'].aggregate('median').to_dict()\n",
    "    df_pred_2017['f_num_median_lat_in_'+region] = df_pred_2017[region].map(group)\n",
    "    df_train_2017['f_num_median_lat_in_'+region] = df_train_2017[region].map(group)\n",
    "    \n",
    "    \n",
    "    group = df_pred_2017.groupby(region)['longitude'].aggregate('median').to_dict()\n",
    "    df_pred_2017['f_num_median_lon_in_'+region] = df_pred_2017[region].map(group)\n",
    "    df_train_2017['f_num_median_lon_in_'+region] = df_train_2017[region].map(group)\n",
    "\n",
    "    #Average structuretaxvaluedollarcnt by city\n",
    "    group = df_pred_2017.groupby(region)['structuretaxvaluedollarcnt'].aggregate('mean').to_dict()\n",
    "    df_pred_2017['f_num_Avg-structuretaxvaluedollarcnt'] = df_pred_2017['regionidcity'].map(group)\n",
    "    df_train_2017['f_num_Avg-structuretaxvaluedollarcnt'] = df_train_2017['regionidcity'].map(group)\n",
    "\n",
    "    #Deviation away from average\n",
    "    df_pred_2017['f_num_Dev-structuretaxvaluedollarcnt'] = abs((df_pred_2017['structuretaxvaluedollarcnt'] - df_pred_2017['f_num_Avg-structuretaxvaluedollarcnt']))/df_pred_2017['f_num_Avg-structuretaxvaluedollarcnt']\n",
    "    df_train_2017['f_num_Dev-structuretaxvaluedollarcnt'] = abs((df_train_2017['structuretaxvaluedollarcnt'] - df_train_2017['f_num_Avg-structuretaxvaluedollarcnt']))/df_train_2017['f_num_Avg-structuretaxvaluedollarcnt']"
   ]
  },
  {
   "cell_type": "markdown",
   "metadata": {},
   "source": [
    "<a id=\"section_4_b\"></a>\n",
    "## 4b. add additiona features via SQL"
   ]
  },
  {
   "cell_type": "code",
   "execution_count": 405,
   "metadata": {},
   "outputs": [
    {
     "name": "stdout",
     "output_type": "stream",
     "text": [
      "DROP TABLE IF EXISTS transactions_2016;\n",
      "DROP TABLE\n",
      "CREATE TABLE transactions_2016 (\n",
      "\tparcelid bigint, \n",
      "\tlogerror double precision,\n",
      "\ttransactiondate varchar\n",
      ");\n",
      "CREATE TABLE\n",
      "DROP TABLE IF EXISTS transactions_2017;\n",
      "DROP TABLE\n",
      "COPY transactions_2016\n",
      "FROM '/Users/fangjie/Workspace/data-science/competitions/zillow/train_2016_v2.csv' DELIMITER ',' CSV HEADER;\n",
      "COPY 90275\n",
      "CREATE TABLE transactions_2017 (\n",
      "\tparcelid bigint, \n",
      "\tlogerror double precision,\n",
      "\ttransactiondate varchar\n",
      ");\n",
      "CREATE TABLE\n",
      "COPY transactions_2017\n",
      "FROM '/Users/fangjie/Workspace/data-science/competitions/zillow/train_2017.csv' DELIMITER ',' CSV HEADER;\n",
      "COPY 77613\n",
      "DROP TABLE IF EXISTS transactions;\n",
      "DROP TABLE\n",
      "CREATE TABLE transactions AS\n",
      "SELECT * FROM transactions_2016\n",
      "UNION ALL\n",
      "SELECT * FROM transactions_2017;\n",
      "SELECT 167888\n",
      "DROP TABLE IF EXISTS tmp_additional_temporal_information;\n",
      "DROP TABLE\n",
      "CREATE TABLE tmp_additional_temporal_information AS\n",
      "SELECT \n",
      "    t.parcelid\n",
      "    , t.logerror\n",
      "    , t.transactiondate\n",
      "    , substring(transactiondate from 1 for 4) AS year\n",
      "    , substring(transactiondate from 6 for 2) AS month\n",
      "    , DATE_PART('dow',date(t.transactiondate)) AS day_of_week\n",
      "    , substring(transactiondate from 1 for 7) AS year_and_month\n",
      "FROM \n",
      "\ttransactions t\n",
      ";\n",
      "SELECT 167888\n",
      "-- this table the logerror information by month\n",
      "DROP TABLE IF EXISTS tmp_aggregated_logerror_information;\n",
      "DROP TABLE\n",
      "CREATE TABLE tmp_aggregated_logerror_information AS\n",
      "SELECT\n",
      "\tmonth\n",
      "\t, AVG(logerror) avg_logerror\n",
      "\t, AVG(abs(logerror)) avg_abs_logerror\n",
      "\t, STDDEV(logerror) std_dev_logerror\n",
      "\t, STDDEV(abs(logerror)) std_dev_abs_logerror \n",
      "FROM\n",
      "\ttmp_additional_temporal_information\n",
      "GROUP BY\n",
      "\t1\n",
      "ORDER BY\n",
      "\t1 ASC\n",
      ";\n",
      "SELECT 12\n",
      "COPY tmp_aggregated_logerror_information TO '/Users/fangjie/Workspace/data-science/competitions/zillow/2nd_monthly_transactions_features.csv' DELIMITER ',' CSV HEADER;\n",
      "COPY 12\n",
      "-- DROP TABLE IF EXISTS tmp_aggregated_logerror_infomation_and_trend;\n",
      "-- CREATE TABLE tmp_aggregated_logerror_infomation_and_trend AS\n",
      "-- SELECT\n",
      "-- \tyear_and_month\n",
      "-- \t, avg_logerror\n",
      "-- \t, avg_abs_logerror\n",
      "-- \t, std_dev_logerror\n",
      "-- \t, std_dev_abs_logerror\n",
      "\t\n",
      "-- \t, AVG(avg_logerror) OVER (ORDER BY year_and_month ASC ROWS BETWEEN 1 PRECEDING AND 1 PRECEDING) avg_logerror_last_1_month\n",
      "-- \t, AVG(avg_logerror) OVER (ORDER BY year_and_month ASC ROWS BETWEEN 2 PRECEDING AND 1 PRECEDING) avg_logerror_last_2_month\n",
      "-- \t, AVG(avg_logerror) OVER (ORDER BY year_and_month ASC ROWS BETWEEN 3 PRECEDING AND 1 PRECEDING) avg_logerror_last_3_month\n",
      "-- \t, AVG(std_dev_logerror) OVER (ORDER BY year_and_month ASC ROWS BETWEEN 1 PRECEDING AND 1 PRECEDING) avg_std_dev_logerror_last_1_month\n",
      "-- \t, AVG(std_dev_logerror) OVER (ORDER BY year_and_month ASC ROWS BETWEEN 2 PRECEDING AND 1 PRECEDING) avg_std_dev_logerror_last_2_month\n",
      "-- \t, AVG(std_dev_logerror) OVER (ORDER BY year_and_month ASC ROWS BETWEEN 3 PRECEDING AND 1 PRECEDING) avg_std_dev_logerror_last_3_month\n",
      "-- \t, AVG(std_dev_abs_logerror) OVER (ORDER BY year_and_month ASC ROWS BETWEEN 1 PRECEDING AND 1 PRECEDING) avg_std_dev_abs_logerror_last_1_month\n",
      "-- \t, AVG(std_dev_abs_logerror) OVER (ORDER BY year_and_month ASC ROWS BETWEEN 2 PRECEDING AND 1 PRECEDING) avg_std_dev_abs_logerror_last_2_month\n",
      "-- \t, AVG(std_dev_abs_logerror) OVER (ORDER BY year_and_month ASC ROWS BETWEEN 3 PRECEDING AND 1 PRECEDING) avg_std_dev_abs_logerror_last_3_month\n",
      "-- FROM\n",
      "-- \ttmp_aggregated_logerror_information\n",
      "-- ;\n",
      "-- COPY tmp_aggregated_logerror_infomation_and_trend TO '/Users/fangjie/Workspace/personal/Competitions/zillow/data/monthly_transactions_features.csv' DELIMITER ',' CSV HEADER;\n",
      "-- -- this table generates additional features for transactions\n",
      "-- DROP TABLE IF EXISTS transactions_additional_features;\n",
      "-- CREATE TABLE transactions_additional_features as\n",
      "-- SELECT \n",
      "-- \tt.parcelid\n",
      "--     , t.logerror\n",
      "--     , t.transactiondate\n",
      "--     , t.year\n",
      "--     , t.month\n",
      "--     , t.day_of_week\n",
      "--     , f.*\n",
      "-- FROM \n",
      "-- \ttmp_additional_temporal_information t\n",
      "-- JOIN\n",
      "-- \ttmp_aggregated_logerror_infomation_and_trend f\n",
      "-- ON\n",
      "-- \tt.year_and_month = f.year_and_month\t\t\n",
      "-- ;\n",
      "-- COPY transactions_additional_features TO '/Users/fangjie/Workspace/personal/Competitions/zillow/data/transactions_features.csv' DELIMITER ',' CSV HEADER;\n"
     ]
    }
   ],
   "source": [
    "!psql -d zillow -a -f /Users/fangjie/Workspace/data-science/competitions/zillow/sql_scripts/feature_engineering_time.sql"
   ]
  },
  {
   "cell_type": "code",
   "execution_count": 406,
   "metadata": {},
   "outputs": [],
   "source": [
    "d_features = pd.read_csv('/Users/fangjie/Workspace/data-science/competitions/zillow/2nd_monthly_transactions_features.csv')"
   ]
  },
  {
   "cell_type": "code",
   "execution_count": 407,
   "metadata": {},
   "outputs": [],
   "source": [
    "df_train = pd.concat([df_train_2016, df_train_2017], axis = 0)\n",
    "df_train['f_num_month'] = pd.to_datetime(df_train.transactiondate).dt.month.astype(int)\n",
    "df_train['f_num_quarter'] = pd.to_datetime(df_train.transactiondate).dt.quarter.astype(int)"
   ]
  },
  {
   "cell_type": "code",
   "execution_count": 408,
   "metadata": {},
   "outputs": [],
   "source": [
    "for m in [201610, 201611, 201612, 201710, 201711, 201712]:\n",
    "    year = str(m)[:4]\n",
    "    month = str(m)[4:]\n",
    "    \n",
    "    # avg log error, monthly\n",
    "    group = df_train.groupby(df_train.f_num_month)['logerror'].aggregate('mean').to_dict()\n",
    "    df_train['f_num_monthly_avg_logerror'] = df_train['f_num_month'].map(group)\n",
    "    eval('df_pred_'+str(year))['f_num_monthly_avg_logerror'] = group[int(month)]\n",
    "                                   \n",
    "    # std dev log error, monthly\n",
    "    group = df_train.groupby(df_train.f_num_month)['logerror'].aggregate('std').to_dict()\n",
    "    df_train['f_num_monthly_stddev_logerror'] = df_train['f_num_month'].map(group)\n",
    "    eval('df_pred_'+str(year))['f_num_monthly_stddev_logerror'] = group[int(month)]\n",
    "\n",
    "    # avg log error, quarterly\n",
    "    group = df_train.groupby(df_train.f_num_month)['logerror'].aggregate('mean').to_dict()\n",
    "    df_train['f_num_quarterly_avg_logerror'] = df_train['f_num_quarter'].map(group)\n",
    "    eval('df_pred_'+str(year))['f_num_quarterly_avg_logerror'] = group[4]\n",
    "    \n",
    "    # std dev log error, monthly\n",
    "    group = df_train.groupby(df_train.f_num_month)['logerror'].aggregate('std').to_dict()\n",
    "    df_train['f_num_quarterly_stddev_logerror'] = df_train['f_num_quarter'].map(group)\n",
    "    eval('df_pred_'+str(year))['f_num_quarterly_stddev_logerror'] = group[4]\n",
    "    "
   ]
  },
  {
   "cell_type": "code",
   "execution_count": 428,
   "metadata": {},
   "outputs": [],
   "source": [
    "df = df_train\n",
    "all_fields = set(df.columns)\n",
    "\n",
    "# these are fields that are used to identify fields\n",
    "identifiers = set(['transactiondate', 'parcelid'])\n",
    "\n",
    "# log error that we want to model\n",
    "label = set(['logerror'])\n",
    "\n",
    "# the following are categorical features\n",
    "feats_objects = set(\n",
    " ['taxdelinquencyflag',\n",
    " 'propertycountylandusecode',\n",
    " 'propertyzoningdesc',\n",
    " 'fireplaceflag',\n",
    " 'hashottuborspa']\n",
    ")\n",
    "\n",
    "# the following are numerical features that should be treated as categorical features\n",
    "feats_numeric_to_categorical = set([\n",
    "    'airconditioningtypeid',\n",
    "    'architecturalstyletypeid',\n",
    "    'buildingqualitytypeid',\n",
    "    'buildingclasstypeid',\n",
    "    'decktypeid',\n",
    "    'fips',\n",
    "    'heatingorsystemtypeid',\n",
    "    'propertylandusetypeid',\n",
    "    'regionidcounty',\n",
    "    'regionidcity',\n",
    "    'regionidzip',\n",
    "    'regionidneighborhood',\n",
    "    'storytypeid',\n",
    "    'typeconstructiontypeid',\n",
    "    'yearbuilt',\n",
    "    'assessmentyear',\n",
    "    'taxdelinquencyyear'\n",
    "])\n",
    "\n",
    "\n",
    "# the rest are numeric features\n",
    "feats_numeric = set([\n",
    "    'basementsqft',\n",
    "    'bathroomcnt',\n",
    "    'bedroomcnt',\n",
    "    'calculatedbathnbr',\n",
    "    'threequarterbathnbr',\n",
    "    'finishedfloor1squarefeet',\n",
    "    'calculatedfinishedsquarefeet',\n",
    "    'finishedsquarefeet6',\n",
    "    'finishedsquarefeet12',\n",
    "    'finishedsquarefeet13',\n",
    "    'finishedsquarefeet15',\n",
    "    'finishedsquarefeet50',\n",
    "    'fireplacecnt',\n",
    "    'fullbathcnt',\n",
    "    'garagecarcnt',\n",
    "    'garagetotalsqft',\n",
    "    'hashottuborspa',\n",
    "    'lotsizesquarefeet',\n",
    "    'numberofstories',\n",
    "    'poolcnt',\n",
    "    'poolsizesum',\n",
    "    'pooltypeid10',\n",
    "    'pooltypeid2',\n",
    "    'pooltypeid7',\n",
    "    'roomcnt',\n",
    "    'unitcnt',\n",
    "    'yardbuildingsqft17',\n",
    "    'yardbuildingsqft26',\n",
    "    'taxvaluedollarcnt',\n",
    "    'structuretaxvaluedollarcnt',\n",
    "    'landtaxvaluedollarcnt',\n",
    "    'taxamount'\n",
    "])\n",
    "\n",
    "feats_numerics_feature_engineered = set([col for col in df.columns if 'f_num' in col])\n",
    "\n",
    "\n",
    "feats_categorical_feature_engineered = set([col for col in df.columns if 'f_cat' in col])\n",
    "\n",
    "\n",
    "# fields that are thrown away for now\n",
    "feats_for_consideration_later = set([\n",
    "    'latitude',\n",
    "    'longitude',\n",
    "    'rawcensustractandblock',\n",
    "    'censustractandblock',\n",
    "])"
   ]
  },
  {
   "cell_type": "code",
   "execution_count": 410,
   "metadata": {},
   "outputs": [],
   "source": [
    "feats_categorical = feats_numeric_to_categorical | feats_objects | feats_categorical_feature_engineered\n",
    "feats_numeric = feats_numeric | feats_numerics_feature_engineered \n",
    "feats = feats_categorical | feats_numeric \n",
    "\n",
    "feats_categorical = list(feats_categorical)\n",
    "feats_numeric = list(feats_numeric)\n",
    "feats = list(feats)"
   ]
  },
  {
   "cell_type": "code",
   "execution_count": 429,
   "metadata": {},
   "outputs": [
    {
     "data": {
      "text/plain": [
       "{'basementsqft',\n",
       " 'bathroomcnt',\n",
       " 'bedroomcnt',\n",
       " 'calculatedbathnbr',\n",
       " 'calculatedfinishedsquarefeet',\n",
       " 'finishedfloor1squarefeet',\n",
       " 'finishedsquarefeet12',\n",
       " 'finishedsquarefeet13',\n",
       " 'finishedsquarefeet15',\n",
       " 'finishedsquarefeet50',\n",
       " 'finishedsquarefeet6',\n",
       " 'fireplacecnt',\n",
       " 'fullbathcnt',\n",
       " 'garagecarcnt',\n",
       " 'garagetotalsqft',\n",
       " 'hashottuborspa',\n",
       " 'landtaxvaluedollarcnt',\n",
       " 'lotsizesquarefeet',\n",
       " 'numberofstories',\n",
       " 'poolcnt',\n",
       " 'poolsizesum',\n",
       " 'pooltypeid10',\n",
       " 'pooltypeid2',\n",
       " 'pooltypeid7',\n",
       " 'roomcnt',\n",
       " 'structuretaxvaluedollarcnt',\n",
       " 'taxamount',\n",
       " 'taxvaluedollarcnt',\n",
       " 'threequarterbathnbr',\n",
       " 'unitcnt',\n",
       " 'yardbuildingsqft17',\n",
       " 'yardbuildingsqft26'}"
      ]
     },
     "execution_count": 429,
     "metadata": {},
     "output_type": "execute_result"
    }
   ],
   "source": [
    "feats_numeric"
   ]
  },
  {
   "cell_type": "code",
   "execution_count": 426,
   "metadata": {},
   "outputs": [],
   "source": [
    "df_train = pd.concat([df_train_2016, df_train_2017], axis = 0)\n",
    "df_train['f_num_month'] = pd.to_datetime(df_train.transactiondate).dt.month.astype(int)\n",
    "df_train['f_num_quarter'] = pd.to_datetime(df_train.transactiondate).dt.quarter.astype(int)"
   ]
  },
  {
   "cell_type": "code",
   "execution_count": 412,
   "metadata": {},
   "outputs": [
    {
     "data": {
      "text/html": [
       "<div>\n",
       "<style>\n",
       "    .dataframe thead tr:only-child th {\n",
       "        text-align: right;\n",
       "    }\n",
       "\n",
       "    .dataframe thead th {\n",
       "        text-align: left;\n",
       "    }\n",
       "\n",
       "    .dataframe tbody tr th {\n",
       "        vertical-align: top;\n",
       "    }\n",
       "</style>\n",
       "<table border=\"1\" class=\"dataframe\">\n",
       "  <thead>\n",
       "    <tr style=\"text-align: right;\">\n",
       "      <th></th>\n",
       "      <th>ParcelId</th>\n",
       "      <th>airconditioningtypeid</th>\n",
       "      <th>architecturalstyletypeid</th>\n",
       "      <th>basementsqft</th>\n",
       "      <th>bathroomcnt</th>\n",
       "      <th>bedroomcnt</th>\n",
       "      <th>buildingclasstypeid</th>\n",
       "      <th>buildingqualitytypeid</th>\n",
       "      <th>calculatedbathnbr</th>\n",
       "      <th>decktypeid</th>\n",
       "      <th>...</th>\n",
       "      <th>f_num_median_lon_in_regionidcity</th>\n",
       "      <th>f_num_n_prop_in_rawcensustractandblock</th>\n",
       "      <th>f_cat_median_year_in_rawcensustractandblock</th>\n",
       "      <th>f_num_how_new_in_rawcensustractandblock</th>\n",
       "      <th>f_num_median_lat_in_rawcensustractandblock</th>\n",
       "      <th>f_num_median_lon_in_rawcensustractandblock</th>\n",
       "      <th>f_num_monthly_avg_logerror</th>\n",
       "      <th>f_num_monthly_stddev_logerror</th>\n",
       "      <th>f_num_quarterly_avg_logerror</th>\n",
       "      <th>f_num_quarterly_stddev_logerror</th>\n",
       "    </tr>\n",
       "  </thead>\n",
       "  <tbody>\n",
       "    <tr>\n",
       "      <th>0</th>\n",
       "      <td>10754147</td>\n",
       "      <td>NaN</td>\n",
       "      <td>NaN</td>\n",
       "      <td>NaN</td>\n",
       "      <td>0.0</td>\n",
       "      <td>0.0</td>\n",
       "      <td>NaN</td>\n",
       "      <td>NaN</td>\n",
       "      <td>NaN</td>\n",
       "      <td>NaN</td>\n",
       "      <td>...</td>\n",
       "      <td>-118657093.5</td>\n",
       "      <td>10.0</td>\n",
       "      <td>1981.0</td>\n",
       "      <td>NaN</td>\n",
       "      <td>34148517.0</td>\n",
       "      <td>-118651951.0</td>\n",
       "      <td>0.019122</td>\n",
       "      <td>0.189896</td>\n",
       "      <td>0.008849</td>\n",
       "      <td>0.162658</td>\n",
       "    </tr>\n",
       "    <tr>\n",
       "      <th>1</th>\n",
       "      <td>10759547</td>\n",
       "      <td>NaN</td>\n",
       "      <td>NaN</td>\n",
       "      <td>NaN</td>\n",
       "      <td>0.0</td>\n",
       "      <td>0.0</td>\n",
       "      <td>NaN</td>\n",
       "      <td>NaN</td>\n",
       "      <td>NaN</td>\n",
       "      <td>NaN</td>\n",
       "      <td>...</td>\n",
       "      <td>-118657093.5</td>\n",
       "      <td>289.0</td>\n",
       "      <td>1970.0</td>\n",
       "      <td>NaN</td>\n",
       "      <td>34142656.0</td>\n",
       "      <td>-118625111.0</td>\n",
       "      <td>0.019122</td>\n",
       "      <td>0.189896</td>\n",
       "      <td>0.008849</td>\n",
       "      <td>0.162658</td>\n",
       "    </tr>\n",
       "    <tr>\n",
       "      <th>2</th>\n",
       "      <td>10843547</td>\n",
       "      <td>NaN</td>\n",
       "      <td>NaN</td>\n",
       "      <td>NaN</td>\n",
       "      <td>0.0</td>\n",
       "      <td>0.0</td>\n",
       "      <td>NaN</td>\n",
       "      <td>NaN</td>\n",
       "      <td>NaN</td>\n",
       "      <td>NaN</td>\n",
       "      <td>...</td>\n",
       "      <td>-118392977.5</td>\n",
       "      <td>1.0</td>\n",
       "      <td>NaN</td>\n",
       "      <td>NaN</td>\n",
       "      <td>33989359.0</td>\n",
       "      <td>-118394633.0</td>\n",
       "      <td>0.019122</td>\n",
       "      <td>0.189896</td>\n",
       "      <td>0.008849</td>\n",
       "      <td>0.162658</td>\n",
       "    </tr>\n",
       "    <tr>\n",
       "      <th>3</th>\n",
       "      <td>10859147</td>\n",
       "      <td>NaN</td>\n",
       "      <td>NaN</td>\n",
       "      <td>NaN</td>\n",
       "      <td>0.0</td>\n",
       "      <td>0.0</td>\n",
       "      <td>3.0</td>\n",
       "      <td>7.0</td>\n",
       "      <td>NaN</td>\n",
       "      <td>NaN</td>\n",
       "      <td>...</td>\n",
       "      <td>-118405049.0</td>\n",
       "      <td>29.0</td>\n",
       "      <td>1940.0</td>\n",
       "      <td>8.0</td>\n",
       "      <td>34147770.0</td>\n",
       "      <td>-118437123.0</td>\n",
       "      <td>0.019122</td>\n",
       "      <td>0.189896</td>\n",
       "      <td>0.008849</td>\n",
       "      <td>0.162658</td>\n",
       "    </tr>\n",
       "    <tr>\n",
       "      <th>4</th>\n",
       "      <td>10879947</td>\n",
       "      <td>NaN</td>\n",
       "      <td>NaN</td>\n",
       "      <td>NaN</td>\n",
       "      <td>0.0</td>\n",
       "      <td>0.0</td>\n",
       "      <td>4.0</td>\n",
       "      <td>NaN</td>\n",
       "      <td>NaN</td>\n",
       "      <td>NaN</td>\n",
       "      <td>...</td>\n",
       "      <td>-118405049.0</td>\n",
       "      <td>1.0</td>\n",
       "      <td>1947.0</td>\n",
       "      <td>0.0</td>\n",
       "      <td>34194168.0</td>\n",
       "      <td>-118385816.0</td>\n",
       "      <td>0.019122</td>\n",
       "      <td>0.189896</td>\n",
       "      <td>0.008849</td>\n",
       "      <td>0.162658</td>\n",
       "    </tr>\n",
       "  </tbody>\n",
       "</table>\n",
       "<p>5 rows × 84 columns</p>\n",
       "</div>"
      ],
      "text/plain": [
       "   ParcelId  airconditioningtypeid  architecturalstyletypeid  basementsqft  \\\n",
       "0  10754147                    NaN                       NaN           NaN   \n",
       "1  10759547                    NaN                       NaN           NaN   \n",
       "2  10843547                    NaN                       NaN           NaN   \n",
       "3  10859147                    NaN                       NaN           NaN   \n",
       "4  10879947                    NaN                       NaN           NaN   \n",
       "\n",
       "   bathroomcnt  bedroomcnt  buildingclasstypeid  buildingqualitytypeid  \\\n",
       "0          0.0         0.0                  NaN                    NaN   \n",
       "1          0.0         0.0                  NaN                    NaN   \n",
       "2          0.0         0.0                  NaN                    NaN   \n",
       "3          0.0         0.0                  3.0                    7.0   \n",
       "4          0.0         0.0                  4.0                    NaN   \n",
       "\n",
       "   calculatedbathnbr  decktypeid               ...                 \\\n",
       "0                NaN         NaN               ...                  \n",
       "1                NaN         NaN               ...                  \n",
       "2                NaN         NaN               ...                  \n",
       "3                NaN         NaN               ...                  \n",
       "4                NaN         NaN               ...                  \n",
       "\n",
       "   f_num_median_lon_in_regionidcity  f_num_n_prop_in_rawcensustractandblock  \\\n",
       "0                      -118657093.5                                    10.0   \n",
       "1                      -118657093.5                                   289.0   \n",
       "2                      -118392977.5                                     1.0   \n",
       "3                      -118405049.0                                    29.0   \n",
       "4                      -118405049.0                                     1.0   \n",
       "\n",
       "   f_cat_median_year_in_rawcensustractandblock  \\\n",
       "0                                       1981.0   \n",
       "1                                       1970.0   \n",
       "2                                          NaN   \n",
       "3                                       1940.0   \n",
       "4                                       1947.0   \n",
       "\n",
       "   f_num_how_new_in_rawcensustractandblock  \\\n",
       "0                                      NaN   \n",
       "1                                      NaN   \n",
       "2                                      NaN   \n",
       "3                                      8.0   \n",
       "4                                      0.0   \n",
       "\n",
       "   f_num_median_lat_in_rawcensustractandblock  \\\n",
       "0                                  34148517.0   \n",
       "1                                  34142656.0   \n",
       "2                                  33989359.0   \n",
       "3                                  34147770.0   \n",
       "4                                  34194168.0   \n",
       "\n",
       "   f_num_median_lon_in_rawcensustractandblock  f_num_monthly_avg_logerror  \\\n",
       "0                                -118651951.0                    0.019122   \n",
       "1                                -118625111.0                    0.019122   \n",
       "2                                -118394633.0                    0.019122   \n",
       "3                                -118437123.0                    0.019122   \n",
       "4                                -118385816.0                    0.019122   \n",
       "\n",
       "   f_num_monthly_stddev_logerror  f_num_quarterly_avg_logerror  \\\n",
       "0                       0.189896                      0.008849   \n",
       "1                       0.189896                      0.008849   \n",
       "2                       0.189896                      0.008849   \n",
       "3                       0.189896                      0.008849   \n",
       "4                       0.189896                      0.008849   \n",
       "\n",
       "   f_num_quarterly_stddev_logerror  \n",
       "0                         0.162658  \n",
       "1                         0.162658  \n",
       "2                         0.162658  \n",
       "3                         0.162658  \n",
       "4                         0.162658  \n",
       "\n",
       "[5 rows x 84 columns]"
      ]
     },
     "execution_count": 412,
     "metadata": {},
     "output_type": "execute_result"
    }
   ],
   "source": [
    "df_pred_2016.head()"
   ]
  },
  {
   "cell_type": "markdown",
   "metadata": {},
   "source": [
    "<a id=\"section_4_c\"></a>\n",
    "## 4c. impute missing data (non-linear)"
   ]
  },
  {
   "cell_type": "code",
   "execution_count": 413,
   "metadata": {},
   "outputs": [
    {
     "data": {
      "text/html": [
       "<div>\n",
       "<style>\n",
       "    .dataframe thead tr:only-child th {\n",
       "        text-align: right;\n",
       "    }\n",
       "\n",
       "    .dataframe thead th {\n",
       "        text-align: left;\n",
       "    }\n",
       "\n",
       "    .dataframe tbody tr th {\n",
       "        vertical-align: top;\n",
       "    }\n",
       "</style>\n",
       "<table border=\"1\" class=\"dataframe\">\n",
       "  <thead>\n",
       "    <tr style=\"text-align: right;\">\n",
       "      <th></th>\n",
       "      <th>parcelid</th>\n",
       "      <th>logerror</th>\n",
       "      <th>transactiondate</th>\n",
       "      <th>airconditioningtypeid</th>\n",
       "      <th>architecturalstyletypeid</th>\n",
       "      <th>basementsqft</th>\n",
       "      <th>bathroomcnt</th>\n",
       "      <th>bedroomcnt</th>\n",
       "      <th>buildingclasstypeid</th>\n",
       "      <th>buildingqualitytypeid</th>\n",
       "      <th>...</th>\n",
       "      <th>f_cat_median_year_in_rawcensustractandblock</th>\n",
       "      <th>f_num_how_new_in_rawcensustractandblock</th>\n",
       "      <th>f_num_median_lat_in_rawcensustractandblock</th>\n",
       "      <th>f_num_median_lon_in_rawcensustractandblock</th>\n",
       "      <th>f_num_month</th>\n",
       "      <th>f_num_quarter</th>\n",
       "      <th>f_num_monthly_avg_logerror</th>\n",
       "      <th>f_num_monthly_stddev_logerror</th>\n",
       "      <th>f_num_quarterly_avg_logerror</th>\n",
       "      <th>f_num_quarterly_stddev_logerror</th>\n",
       "    </tr>\n",
       "  </thead>\n",
       "  <tbody>\n",
       "    <tr>\n",
       "      <th>0</th>\n",
       "      <td>11016594</td>\n",
       "      <td>0.0276</td>\n",
       "      <td>2016-01-01</td>\n",
       "      <td>1.0</td>\n",
       "      <td>NaN</td>\n",
       "      <td>NaN</td>\n",
       "      <td>2.0</td>\n",
       "      <td>3.0</td>\n",
       "      <td>NaN</td>\n",
       "      <td>4.0</td>\n",
       "      <td>...</td>\n",
       "      <td>1959.0</td>\n",
       "      <td>0.0</td>\n",
       "      <td>34281281.0</td>\n",
       "      <td>-118492295.5</td>\n",
       "      <td>1</td>\n",
       "      <td>1</td>\n",
       "      <td>0.019012</td>\n",
       "      <td>0.172725</td>\n",
       "      <td>0.019012</td>\n",
       "      <td>0.172725</td>\n",
       "    </tr>\n",
       "    <tr>\n",
       "      <th>1</th>\n",
       "      <td>14366692</td>\n",
       "      <td>-0.1684</td>\n",
       "      <td>2016-01-01</td>\n",
       "      <td>NaN</td>\n",
       "      <td>NaN</td>\n",
       "      <td>NaN</td>\n",
       "      <td>3.5</td>\n",
       "      <td>4.0</td>\n",
       "      <td>NaN</td>\n",
       "      <td>NaN</td>\n",
       "      <td>...</td>\n",
       "      <td>2014.0</td>\n",
       "      <td>0.0</td>\n",
       "      <td>33669368.0</td>\n",
       "      <td>-117677644.0</td>\n",
       "      <td>1</td>\n",
       "      <td>1</td>\n",
       "      <td>0.019012</td>\n",
       "      <td>0.172725</td>\n",
       "      <td>0.019012</td>\n",
       "      <td>0.172725</td>\n",
       "    </tr>\n",
       "    <tr>\n",
       "      <th>2</th>\n",
       "      <td>12098116</td>\n",
       "      <td>-0.0040</td>\n",
       "      <td>2016-01-01</td>\n",
       "      <td>1.0</td>\n",
       "      <td>NaN</td>\n",
       "      <td>NaN</td>\n",
       "      <td>3.0</td>\n",
       "      <td>2.0</td>\n",
       "      <td>NaN</td>\n",
       "      <td>4.0</td>\n",
       "      <td>...</td>\n",
       "      <td>1937.0</td>\n",
       "      <td>3.0</td>\n",
       "      <td>34138109.5</td>\n",
       "      <td>-118175731.0</td>\n",
       "      <td>1</td>\n",
       "      <td>1</td>\n",
       "      <td>0.019012</td>\n",
       "      <td>0.172725</td>\n",
       "      <td>0.019012</td>\n",
       "      <td>0.172725</td>\n",
       "    </tr>\n",
       "    <tr>\n",
       "      <th>3</th>\n",
       "      <td>12643413</td>\n",
       "      <td>0.0218</td>\n",
       "      <td>2016-01-02</td>\n",
       "      <td>1.0</td>\n",
       "      <td>NaN</td>\n",
       "      <td>NaN</td>\n",
       "      <td>2.0</td>\n",
       "      <td>2.0</td>\n",
       "      <td>NaN</td>\n",
       "      <td>4.0</td>\n",
       "      <td>...</td>\n",
       "      <td>1987.0</td>\n",
       "      <td>0.0</td>\n",
       "      <td>33754700.0</td>\n",
       "      <td>-118308000.0</td>\n",
       "      <td>1</td>\n",
       "      <td>1</td>\n",
       "      <td>0.019012</td>\n",
       "      <td>0.172725</td>\n",
       "      <td>0.019012</td>\n",
       "      <td>0.172725</td>\n",
       "    </tr>\n",
       "    <tr>\n",
       "      <th>4</th>\n",
       "      <td>14432541</td>\n",
       "      <td>-0.0050</td>\n",
       "      <td>2016-01-02</td>\n",
       "      <td>NaN</td>\n",
       "      <td>NaN</td>\n",
       "      <td>NaN</td>\n",
       "      <td>2.5</td>\n",
       "      <td>4.0</td>\n",
       "      <td>NaN</td>\n",
       "      <td>NaN</td>\n",
       "      <td>...</td>\n",
       "      <td>1981.0</td>\n",
       "      <td>0.0</td>\n",
       "      <td>33485118.0</td>\n",
       "      <td>-117699023.0</td>\n",
       "      <td>1</td>\n",
       "      <td>1</td>\n",
       "      <td>0.019012</td>\n",
       "      <td>0.172725</td>\n",
       "      <td>0.019012</td>\n",
       "      <td>0.172725</td>\n",
       "    </tr>\n",
       "  </tbody>\n",
       "</table>\n",
       "<p>5 rows × 111 columns</p>\n",
       "</div>"
      ],
      "text/plain": [
       "   parcelid  logerror transactiondate  airconditioningtypeid  \\\n",
       "0  11016594    0.0276      2016-01-01                    1.0   \n",
       "1  14366692   -0.1684      2016-01-01                    NaN   \n",
       "2  12098116   -0.0040      2016-01-01                    1.0   \n",
       "3  12643413    0.0218      2016-01-02                    1.0   \n",
       "4  14432541   -0.0050      2016-01-02                    NaN   \n",
       "\n",
       "   architecturalstyletypeid  basementsqft  bathroomcnt  bedroomcnt  \\\n",
       "0                       NaN           NaN          2.0         3.0   \n",
       "1                       NaN           NaN          3.5         4.0   \n",
       "2                       NaN           NaN          3.0         2.0   \n",
       "3                       NaN           NaN          2.0         2.0   \n",
       "4                       NaN           NaN          2.5         4.0   \n",
       "\n",
       "   buildingclasstypeid  buildingqualitytypeid  \\\n",
       "0                  NaN                    4.0   \n",
       "1                  NaN                    NaN   \n",
       "2                  NaN                    4.0   \n",
       "3                  NaN                    4.0   \n",
       "4                  NaN                    NaN   \n",
       "\n",
       "                ...                 \\\n",
       "0               ...                  \n",
       "1               ...                  \n",
       "2               ...                  \n",
       "3               ...                  \n",
       "4               ...                  \n",
       "\n",
       "   f_cat_median_year_in_rawcensustractandblock  \\\n",
       "0                                       1959.0   \n",
       "1                                       2014.0   \n",
       "2                                       1937.0   \n",
       "3                                       1987.0   \n",
       "4                                       1981.0   \n",
       "\n",
       "   f_num_how_new_in_rawcensustractandblock  \\\n",
       "0                                      0.0   \n",
       "1                                      0.0   \n",
       "2                                      3.0   \n",
       "3                                      0.0   \n",
       "4                                      0.0   \n",
       "\n",
       "   f_num_median_lat_in_rawcensustractandblock  \\\n",
       "0                                  34281281.0   \n",
       "1                                  33669368.0   \n",
       "2                                  34138109.5   \n",
       "3                                  33754700.0   \n",
       "4                                  33485118.0   \n",
       "\n",
       "   f_num_median_lon_in_rawcensustractandblock  f_num_month  f_num_quarter  \\\n",
       "0                                -118492295.5            1              1   \n",
       "1                                -117677644.0            1              1   \n",
       "2                                -118175731.0            1              1   \n",
       "3                                -118308000.0            1              1   \n",
       "4                                -117699023.0            1              1   \n",
       "\n",
       "   f_num_monthly_avg_logerror  f_num_monthly_stddev_logerror  \\\n",
       "0                    0.019012                       0.172725   \n",
       "1                    0.019012                       0.172725   \n",
       "2                    0.019012                       0.172725   \n",
       "3                    0.019012                       0.172725   \n",
       "4                    0.019012                       0.172725   \n",
       "\n",
       "   f_num_quarterly_avg_logerror  f_num_quarterly_stddev_logerror  \n",
       "0                      0.019012                         0.172725  \n",
       "1                      0.019012                         0.172725  \n",
       "2                      0.019012                         0.172725  \n",
       "3                      0.019012                         0.172725  \n",
       "4                      0.019012                         0.172725  \n",
       "\n",
       "[5 rows x 111 columns]"
      ]
     },
     "execution_count": 413,
     "metadata": {},
     "output_type": "execute_result"
    }
   ],
   "source": [
    "df.head()"
   ]
  },
  {
   "cell_type": "code",
   "execution_count": null,
   "metadata": {},
   "outputs": [],
   "source": [
    "# need to impute all these with a `missing` value first\n",
    "df[feats_categorical_as_numeric] = df[feats_categorical_as_numeric].fillna(-1)\n",
    "df_pred_2016[feats_categorical_as_numeric] = df_pred_2016[feats_categorical_as_numeric].fillna(-1)\n",
    "df_pred_2017[feats_categorical_as_numeric] = df_pred_2017[feats_categorical_as_numeric].fillna(-1)"
   ]
  },
  {
   "cell_type": "code",
   "execution_count": 431,
   "metadata": {},
   "outputs": [
    {
     "ename": "KeyError",
     "evalue": "'f_cat_median_year_in_regionidneighborhood'",
     "output_type": "error",
     "traceback": [
      "\u001b[0;31m---------------------------------------------------------------------------\u001b[0m",
      "\u001b[0;31mKeyError\u001b[0m                                  Traceback (most recent call last)",
      "\u001b[0;32m<ipython-input-431-230eddb7d103>\u001b[0m in \u001b[0;36m<module>\u001b[0;34m()\u001b[0m\n\u001b[1;32m      1\u001b[0m \u001b[0;31m# use label encoder to encode all categorical variables\u001b[0m\u001b[0;34m\u001b[0m\u001b[0;34m\u001b[0m\u001b[0m\n\u001b[1;32m      2\u001b[0m \u001b[0;32mfor\u001b[0m \u001b[0mcolumn\u001b[0m \u001b[0;32min\u001b[0m \u001b[0mfeats_categorical\u001b[0m\u001b[0;34m:\u001b[0m\u001b[0;34m\u001b[0m\u001b[0m\n\u001b[0;32m----> 3\u001b[0;31m     \u001b[0mtmp\u001b[0m \u001b[0;34m=\u001b[0m \u001b[0mpd\u001b[0m\u001b[0;34m.\u001b[0m\u001b[0mconcat\u001b[0m\u001b[0;34m(\u001b[0m\u001b[0;34m[\u001b[0m\u001b[0mdf\u001b[0m\u001b[0;34m[\u001b[0m\u001b[0mcolumn\u001b[0m\u001b[0;34m]\u001b[0m\u001b[0;34m,\u001b[0m \u001b[0mdf_pred_2016\u001b[0m\u001b[0;34m[\u001b[0m\u001b[0mcolumn\u001b[0m\u001b[0;34m]\u001b[0m\u001b[0;34m,\u001b[0m \u001b[0mdf_pred_2017\u001b[0m\u001b[0;34m[\u001b[0m\u001b[0mcolumn\u001b[0m\u001b[0;34m]\u001b[0m\u001b[0;34m]\u001b[0m\u001b[0;34m,\u001b[0m \u001b[0maxis\u001b[0m \u001b[0;34m=\u001b[0m \u001b[0;36m0\u001b[0m\u001b[0;34m)\u001b[0m\u001b[0;34m\u001b[0m\u001b[0m\n\u001b[0m\u001b[1;32m      4\u001b[0m     \u001b[0mencoder\u001b[0m \u001b[0;34m=\u001b[0m \u001b[0mLabelEncoder\u001b[0m\u001b[0;34m(\u001b[0m\u001b[0;34m)\u001b[0m\u001b[0;34m.\u001b[0m\u001b[0mfit\u001b[0m\u001b[0;34m(\u001b[0m\u001b[0mtmp\u001b[0m\u001b[0;34m.\u001b[0m\u001b[0mastype\u001b[0m\u001b[0;34m(\u001b[0m\u001b[0mstr\u001b[0m\u001b[0;34m)\u001b[0m\u001b[0;34m)\u001b[0m\u001b[0;34m\u001b[0m\u001b[0m\n\u001b[1;32m      5\u001b[0m     \u001b[0mdf\u001b[0m\u001b[0;34m[\u001b[0m\u001b[0mcolumn\u001b[0m\u001b[0;34m]\u001b[0m \u001b[0;34m=\u001b[0m \u001b[0mencoder\u001b[0m\u001b[0;34m.\u001b[0m\u001b[0mtransform\u001b[0m\u001b[0;34m(\u001b[0m\u001b[0mdf\u001b[0m\u001b[0;34m[\u001b[0m\u001b[0mcolumn\u001b[0m\u001b[0;34m]\u001b[0m\u001b[0;34m.\u001b[0m\u001b[0mastype\u001b[0m\u001b[0;34m(\u001b[0m\u001b[0mstr\u001b[0m\u001b[0;34m)\u001b[0m\u001b[0;34m)\u001b[0m\u001b[0;34m.\u001b[0m\u001b[0mastype\u001b[0m\u001b[0;34m(\u001b[0m\u001b[0mnp\u001b[0m\u001b[0;34m.\u001b[0m\u001b[0mint32\u001b[0m\u001b[0;34m)\u001b[0m\u001b[0;34m\u001b[0m\u001b[0m\n",
      "\u001b[0;32m/Users/fangjie/Workspace/virtual-environments/new/lib/python2.7/site-packages/pandas/core/frame.pyc\u001b[0m in \u001b[0;36m__getitem__\u001b[0;34m(self, key)\u001b[0m\n\u001b[1;32m   1962\u001b[0m             \u001b[0;32mreturn\u001b[0m \u001b[0mself\u001b[0m\u001b[0;34m.\u001b[0m\u001b[0m_getitem_multilevel\u001b[0m\u001b[0;34m(\u001b[0m\u001b[0mkey\u001b[0m\u001b[0;34m)\u001b[0m\u001b[0;34m\u001b[0m\u001b[0m\n\u001b[1;32m   1963\u001b[0m         \u001b[0;32melse\u001b[0m\u001b[0;34m:\u001b[0m\u001b[0;34m\u001b[0m\u001b[0m\n\u001b[0;32m-> 1964\u001b[0;31m             \u001b[0;32mreturn\u001b[0m \u001b[0mself\u001b[0m\u001b[0;34m.\u001b[0m\u001b[0m_getitem_column\u001b[0m\u001b[0;34m(\u001b[0m\u001b[0mkey\u001b[0m\u001b[0;34m)\u001b[0m\u001b[0;34m\u001b[0m\u001b[0m\n\u001b[0m\u001b[1;32m   1965\u001b[0m \u001b[0;34m\u001b[0m\u001b[0m\n\u001b[1;32m   1966\u001b[0m     \u001b[0;32mdef\u001b[0m \u001b[0m_getitem_column\u001b[0m\u001b[0;34m(\u001b[0m\u001b[0mself\u001b[0m\u001b[0;34m,\u001b[0m \u001b[0mkey\u001b[0m\u001b[0;34m)\u001b[0m\u001b[0;34m:\u001b[0m\u001b[0;34m\u001b[0m\u001b[0m\n",
      "\u001b[0;32m/Users/fangjie/Workspace/virtual-environments/new/lib/python2.7/site-packages/pandas/core/frame.pyc\u001b[0m in \u001b[0;36m_getitem_column\u001b[0;34m(self, key)\u001b[0m\n\u001b[1;32m   1969\u001b[0m         \u001b[0;31m# get column\u001b[0m\u001b[0;34m\u001b[0m\u001b[0;34m\u001b[0m\u001b[0m\n\u001b[1;32m   1970\u001b[0m         \u001b[0;32mif\u001b[0m \u001b[0mself\u001b[0m\u001b[0;34m.\u001b[0m\u001b[0mcolumns\u001b[0m\u001b[0;34m.\u001b[0m\u001b[0mis_unique\u001b[0m\u001b[0;34m:\u001b[0m\u001b[0;34m\u001b[0m\u001b[0m\n\u001b[0;32m-> 1971\u001b[0;31m             \u001b[0;32mreturn\u001b[0m \u001b[0mself\u001b[0m\u001b[0;34m.\u001b[0m\u001b[0m_get_item_cache\u001b[0m\u001b[0;34m(\u001b[0m\u001b[0mkey\u001b[0m\u001b[0;34m)\u001b[0m\u001b[0;34m\u001b[0m\u001b[0m\n\u001b[0m\u001b[1;32m   1972\u001b[0m \u001b[0;34m\u001b[0m\u001b[0m\n\u001b[1;32m   1973\u001b[0m         \u001b[0;31m# duplicate columns & possible reduce dimensionality\u001b[0m\u001b[0;34m\u001b[0m\u001b[0;34m\u001b[0m\u001b[0m\n",
      "\u001b[0;32m/Users/fangjie/Workspace/virtual-environments/new/lib/python2.7/site-packages/pandas/core/generic.pyc\u001b[0m in \u001b[0;36m_get_item_cache\u001b[0;34m(self, item)\u001b[0m\n\u001b[1;32m   1643\u001b[0m         \u001b[0mres\u001b[0m \u001b[0;34m=\u001b[0m \u001b[0mcache\u001b[0m\u001b[0;34m.\u001b[0m\u001b[0mget\u001b[0m\u001b[0;34m(\u001b[0m\u001b[0mitem\u001b[0m\u001b[0;34m)\u001b[0m\u001b[0;34m\u001b[0m\u001b[0m\n\u001b[1;32m   1644\u001b[0m         \u001b[0;32mif\u001b[0m \u001b[0mres\u001b[0m \u001b[0;32mis\u001b[0m \u001b[0mNone\u001b[0m\u001b[0;34m:\u001b[0m\u001b[0;34m\u001b[0m\u001b[0m\n\u001b[0;32m-> 1645\u001b[0;31m             \u001b[0mvalues\u001b[0m \u001b[0;34m=\u001b[0m \u001b[0mself\u001b[0m\u001b[0;34m.\u001b[0m\u001b[0m_data\u001b[0m\u001b[0;34m.\u001b[0m\u001b[0mget\u001b[0m\u001b[0;34m(\u001b[0m\u001b[0mitem\u001b[0m\u001b[0;34m)\u001b[0m\u001b[0;34m\u001b[0m\u001b[0m\n\u001b[0m\u001b[1;32m   1646\u001b[0m             \u001b[0mres\u001b[0m \u001b[0;34m=\u001b[0m \u001b[0mself\u001b[0m\u001b[0;34m.\u001b[0m\u001b[0m_box_item_values\u001b[0m\u001b[0;34m(\u001b[0m\u001b[0mitem\u001b[0m\u001b[0;34m,\u001b[0m \u001b[0mvalues\u001b[0m\u001b[0;34m)\u001b[0m\u001b[0;34m\u001b[0m\u001b[0m\n\u001b[1;32m   1647\u001b[0m             \u001b[0mcache\u001b[0m\u001b[0;34m[\u001b[0m\u001b[0mitem\u001b[0m\u001b[0;34m]\u001b[0m \u001b[0;34m=\u001b[0m \u001b[0mres\u001b[0m\u001b[0;34m\u001b[0m\u001b[0m\n",
      "\u001b[0;32m/Users/fangjie/Workspace/virtual-environments/new/lib/python2.7/site-packages/pandas/core/internals.pyc\u001b[0m in \u001b[0;36mget\u001b[0;34m(self, item, fastpath)\u001b[0m\n\u001b[1;32m   3588\u001b[0m \u001b[0;34m\u001b[0m\u001b[0m\n\u001b[1;32m   3589\u001b[0m             \u001b[0;32mif\u001b[0m \u001b[0;32mnot\u001b[0m \u001b[0misnull\u001b[0m\u001b[0;34m(\u001b[0m\u001b[0mitem\u001b[0m\u001b[0;34m)\u001b[0m\u001b[0;34m:\u001b[0m\u001b[0;34m\u001b[0m\u001b[0m\n\u001b[0;32m-> 3590\u001b[0;31m                 \u001b[0mloc\u001b[0m \u001b[0;34m=\u001b[0m \u001b[0mself\u001b[0m\u001b[0;34m.\u001b[0m\u001b[0mitems\u001b[0m\u001b[0;34m.\u001b[0m\u001b[0mget_loc\u001b[0m\u001b[0;34m(\u001b[0m\u001b[0mitem\u001b[0m\u001b[0;34m)\u001b[0m\u001b[0;34m\u001b[0m\u001b[0m\n\u001b[0m\u001b[1;32m   3591\u001b[0m             \u001b[0;32melse\u001b[0m\u001b[0;34m:\u001b[0m\u001b[0;34m\u001b[0m\u001b[0m\n\u001b[1;32m   3592\u001b[0m                 \u001b[0mindexer\u001b[0m \u001b[0;34m=\u001b[0m \u001b[0mnp\u001b[0m\u001b[0;34m.\u001b[0m\u001b[0marange\u001b[0m\u001b[0;34m(\u001b[0m\u001b[0mlen\u001b[0m\u001b[0;34m(\u001b[0m\u001b[0mself\u001b[0m\u001b[0;34m.\u001b[0m\u001b[0mitems\u001b[0m\u001b[0;34m)\u001b[0m\u001b[0;34m)\u001b[0m\u001b[0;34m[\u001b[0m\u001b[0misnull\u001b[0m\u001b[0;34m(\u001b[0m\u001b[0mself\u001b[0m\u001b[0;34m.\u001b[0m\u001b[0mitems\u001b[0m\u001b[0;34m)\u001b[0m\u001b[0;34m]\u001b[0m\u001b[0;34m\u001b[0m\u001b[0m\n",
      "\u001b[0;32m/Users/fangjie/Workspace/virtual-environments/new/lib/python2.7/site-packages/pandas/core/indexes/base.pyc\u001b[0m in \u001b[0;36mget_loc\u001b[0;34m(self, key, method, tolerance)\u001b[0m\n\u001b[1;32m   2442\u001b[0m                 \u001b[0;32mreturn\u001b[0m \u001b[0mself\u001b[0m\u001b[0;34m.\u001b[0m\u001b[0m_engine\u001b[0m\u001b[0;34m.\u001b[0m\u001b[0mget_loc\u001b[0m\u001b[0;34m(\u001b[0m\u001b[0mkey\u001b[0m\u001b[0;34m)\u001b[0m\u001b[0;34m\u001b[0m\u001b[0m\n\u001b[1;32m   2443\u001b[0m             \u001b[0;32mexcept\u001b[0m \u001b[0mKeyError\u001b[0m\u001b[0;34m:\u001b[0m\u001b[0;34m\u001b[0m\u001b[0m\n\u001b[0;32m-> 2444\u001b[0;31m                 \u001b[0;32mreturn\u001b[0m \u001b[0mself\u001b[0m\u001b[0;34m.\u001b[0m\u001b[0m_engine\u001b[0m\u001b[0;34m.\u001b[0m\u001b[0mget_loc\u001b[0m\u001b[0;34m(\u001b[0m\u001b[0mself\u001b[0m\u001b[0;34m.\u001b[0m\u001b[0m_maybe_cast_indexer\u001b[0m\u001b[0;34m(\u001b[0m\u001b[0mkey\u001b[0m\u001b[0;34m)\u001b[0m\u001b[0;34m)\u001b[0m\u001b[0;34m\u001b[0m\u001b[0m\n\u001b[0m\u001b[1;32m   2445\u001b[0m \u001b[0;34m\u001b[0m\u001b[0m\n\u001b[1;32m   2446\u001b[0m         \u001b[0mindexer\u001b[0m \u001b[0;34m=\u001b[0m \u001b[0mself\u001b[0m\u001b[0;34m.\u001b[0m\u001b[0mget_indexer\u001b[0m\u001b[0;34m(\u001b[0m\u001b[0;34m[\u001b[0m\u001b[0mkey\u001b[0m\u001b[0;34m]\u001b[0m\u001b[0;34m,\u001b[0m \u001b[0mmethod\u001b[0m\u001b[0;34m=\u001b[0m\u001b[0mmethod\u001b[0m\u001b[0;34m,\u001b[0m \u001b[0mtolerance\u001b[0m\u001b[0;34m=\u001b[0m\u001b[0mtolerance\u001b[0m\u001b[0;34m)\u001b[0m\u001b[0;34m\u001b[0m\u001b[0m\n",
      "\u001b[0;32mpandas/_libs/index.pyx\u001b[0m in \u001b[0;36mpandas._libs.index.IndexEngine.get_loc (pandas/_libs/index.c:5280)\u001b[0;34m()\u001b[0m\n",
      "\u001b[0;32mpandas/_libs/index.pyx\u001b[0m in \u001b[0;36mpandas._libs.index.IndexEngine.get_loc (pandas/_libs/index.c:5126)\u001b[0;34m()\u001b[0m\n",
      "\u001b[0;32mpandas/_libs/hashtable_class_helper.pxi\u001b[0m in \u001b[0;36mpandas._libs.hashtable.PyObjectHashTable.get_item (pandas/_libs/hashtable.c:20523)\u001b[0;34m()\u001b[0m\n",
      "\u001b[0;32mpandas/_libs/hashtable_class_helper.pxi\u001b[0m in \u001b[0;36mpandas._libs.hashtable.PyObjectHashTable.get_item (pandas/_libs/hashtable.c:20477)\u001b[0;34m()\u001b[0m\n",
      "\u001b[0;31mKeyError\u001b[0m: 'f_cat_median_year_in_regionidneighborhood'"
     ]
    }
   ],
   "source": [
    "# use label encoder to encode all categorical variables\n",
    "for column in feats_categorical:\n",
    "    tmp = pd.concat([df[column], df_pred_2016[column], df_pred_2017[column]], axis = 0)\n",
    "    encoder = LabelEncoder().fit(tmp.astype(str))\n",
    "    df[column] = encoder.transform(df[column].astype(str)).astype(np.int32)\n",
    "    df_pred_2016[column] = encoder.transform(df_pred_2016[column].astype(str)).astype(np.int32)\n",
    "    df_pred_2017[column] = encoder.transform(df_pred_2017[column].astype(str)).astype(np.int32)"
   ]
  },
  {
   "cell_type": "code",
   "execution_count": 430,
   "metadata": {},
   "outputs": [
    {
     "ename": "TypeError",
     "evalue": "unhashable type: 'set'",
     "output_type": "error",
     "traceback": [
      "\u001b[0;31m---------------------------------------------------------------------------\u001b[0m",
      "\u001b[0;31mTypeError\u001b[0m                                 Traceback (most recent call last)",
      "\u001b[0;32m<ipython-input-430-259247347536>\u001b[0m in \u001b[0;36m<module>\u001b[0;34m()\u001b[0m\n\u001b[1;32m      1\u001b[0m \u001b[0;31m# for numeric variables, fill with a big negative number\u001b[0m\u001b[0;34m\u001b[0m\u001b[0;34m\u001b[0m\u001b[0m\n\u001b[0;32m----> 2\u001b[0;31m \u001b[0mdf\u001b[0m\u001b[0;34m[\u001b[0m\u001b[0mfeats_numeric\u001b[0m\u001b[0;34m]\u001b[0m \u001b[0;34m=\u001b[0m \u001b[0mdf\u001b[0m\u001b[0;34m[\u001b[0m\u001b[0mfeats_numeric\u001b[0m\u001b[0;34m]\u001b[0m\u001b[0;34m.\u001b[0m\u001b[0mfillna\u001b[0m\u001b[0;34m(\u001b[0m\u001b[0;34m-\u001b[0m\u001b[0;36m999\u001b[0m\u001b[0;34m)\u001b[0m\u001b[0;34m\u001b[0m\u001b[0m\n\u001b[0m\u001b[1;32m      3\u001b[0m \u001b[0;34m\u001b[0m\u001b[0m\n\u001b[1;32m      4\u001b[0m \u001b[0mfeats_numeric_not_contain_timeseries\u001b[0m \u001b[0;34m=\u001b[0m \u001b[0;34m[\u001b[0m\u001b[0mx\u001b[0m \u001b[0;32mfor\u001b[0m \u001b[0mx\u001b[0m \u001b[0;32min\u001b[0m \u001b[0mfeats_numeric\u001b[0m \u001b[0;32mif\u001b[0m \u001b[0;34m\"_logerror\"\u001b[0m \u001b[0;32mnot\u001b[0m \u001b[0;32min\u001b[0m \u001b[0mx\u001b[0m \u001b[0;32mand\u001b[0m \u001b[0;34m\"f_num_month\"\u001b[0m \u001b[0;32mnot\u001b[0m \u001b[0;32min\u001b[0m \u001b[0mx\u001b[0m \u001b[0;32mand\u001b[0m \u001b[0;34m\"f_num_quarter\"\u001b[0m \u001b[0;32mnot\u001b[0m \u001b[0;32min\u001b[0m \u001b[0mx\u001b[0m\u001b[0;34m]\u001b[0m\u001b[0;34m\u001b[0m\u001b[0m\n\u001b[1;32m      5\u001b[0m \u001b[0;34m\u001b[0m\u001b[0m\n",
      "\u001b[0;32m/Users/fangjie/Workspace/virtual-environments/new/lib/python2.7/site-packages/pandas/core/frame.pyc\u001b[0m in \u001b[0;36m__getitem__\u001b[0;34m(self, key)\u001b[0m\n\u001b[1;32m   1962\u001b[0m             \u001b[0;32mreturn\u001b[0m \u001b[0mself\u001b[0m\u001b[0;34m.\u001b[0m\u001b[0m_getitem_multilevel\u001b[0m\u001b[0;34m(\u001b[0m\u001b[0mkey\u001b[0m\u001b[0;34m)\u001b[0m\u001b[0;34m\u001b[0m\u001b[0m\n\u001b[1;32m   1963\u001b[0m         \u001b[0;32melse\u001b[0m\u001b[0;34m:\u001b[0m\u001b[0;34m\u001b[0m\u001b[0m\n\u001b[0;32m-> 1964\u001b[0;31m             \u001b[0;32mreturn\u001b[0m \u001b[0mself\u001b[0m\u001b[0;34m.\u001b[0m\u001b[0m_getitem_column\u001b[0m\u001b[0;34m(\u001b[0m\u001b[0mkey\u001b[0m\u001b[0;34m)\u001b[0m\u001b[0;34m\u001b[0m\u001b[0m\n\u001b[0m\u001b[1;32m   1965\u001b[0m \u001b[0;34m\u001b[0m\u001b[0m\n\u001b[1;32m   1966\u001b[0m     \u001b[0;32mdef\u001b[0m \u001b[0m_getitem_column\u001b[0m\u001b[0;34m(\u001b[0m\u001b[0mself\u001b[0m\u001b[0;34m,\u001b[0m \u001b[0mkey\u001b[0m\u001b[0;34m)\u001b[0m\u001b[0;34m:\u001b[0m\u001b[0;34m\u001b[0m\u001b[0m\n",
      "\u001b[0;32m/Users/fangjie/Workspace/virtual-environments/new/lib/python2.7/site-packages/pandas/core/frame.pyc\u001b[0m in \u001b[0;36m_getitem_column\u001b[0;34m(self, key)\u001b[0m\n\u001b[1;32m   1969\u001b[0m         \u001b[0;31m# get column\u001b[0m\u001b[0;34m\u001b[0m\u001b[0;34m\u001b[0m\u001b[0m\n\u001b[1;32m   1970\u001b[0m         \u001b[0;32mif\u001b[0m \u001b[0mself\u001b[0m\u001b[0;34m.\u001b[0m\u001b[0mcolumns\u001b[0m\u001b[0;34m.\u001b[0m\u001b[0mis_unique\u001b[0m\u001b[0;34m:\u001b[0m\u001b[0;34m\u001b[0m\u001b[0m\n\u001b[0;32m-> 1971\u001b[0;31m             \u001b[0;32mreturn\u001b[0m \u001b[0mself\u001b[0m\u001b[0;34m.\u001b[0m\u001b[0m_get_item_cache\u001b[0m\u001b[0;34m(\u001b[0m\u001b[0mkey\u001b[0m\u001b[0;34m)\u001b[0m\u001b[0;34m\u001b[0m\u001b[0m\n\u001b[0m\u001b[1;32m   1972\u001b[0m \u001b[0;34m\u001b[0m\u001b[0m\n\u001b[1;32m   1973\u001b[0m         \u001b[0;31m# duplicate columns & possible reduce dimensionality\u001b[0m\u001b[0;34m\u001b[0m\u001b[0;34m\u001b[0m\u001b[0m\n",
      "\u001b[0;32m/Users/fangjie/Workspace/virtual-environments/new/lib/python2.7/site-packages/pandas/core/generic.pyc\u001b[0m in \u001b[0;36m_get_item_cache\u001b[0;34m(self, item)\u001b[0m\n\u001b[1;32m   1641\u001b[0m         \u001b[0;34m\"\"\"Return the cached item, item represents a label indexer.\"\"\"\u001b[0m\u001b[0;34m\u001b[0m\u001b[0m\n\u001b[1;32m   1642\u001b[0m         \u001b[0mcache\u001b[0m \u001b[0;34m=\u001b[0m \u001b[0mself\u001b[0m\u001b[0;34m.\u001b[0m\u001b[0m_item_cache\u001b[0m\u001b[0;34m\u001b[0m\u001b[0m\n\u001b[0;32m-> 1643\u001b[0;31m         \u001b[0mres\u001b[0m \u001b[0;34m=\u001b[0m \u001b[0mcache\u001b[0m\u001b[0;34m.\u001b[0m\u001b[0mget\u001b[0m\u001b[0;34m(\u001b[0m\u001b[0mitem\u001b[0m\u001b[0;34m)\u001b[0m\u001b[0;34m\u001b[0m\u001b[0m\n\u001b[0m\u001b[1;32m   1644\u001b[0m         \u001b[0;32mif\u001b[0m \u001b[0mres\u001b[0m \u001b[0;32mis\u001b[0m \u001b[0mNone\u001b[0m\u001b[0;34m:\u001b[0m\u001b[0;34m\u001b[0m\u001b[0m\n\u001b[1;32m   1645\u001b[0m             \u001b[0mvalues\u001b[0m \u001b[0;34m=\u001b[0m \u001b[0mself\u001b[0m\u001b[0;34m.\u001b[0m\u001b[0m_data\u001b[0m\u001b[0;34m.\u001b[0m\u001b[0mget\u001b[0m\u001b[0;34m(\u001b[0m\u001b[0mitem\u001b[0m\u001b[0;34m)\u001b[0m\u001b[0;34m\u001b[0m\u001b[0m\n",
      "\u001b[0;31mTypeError\u001b[0m: unhashable type: 'set'"
     ]
    }
   ],
   "source": [
    "# for numeric variables, fill with a big negative number\n",
    "df[feats_numeric] = df[feats_numeric].fillna(-999)\n",
    "\n",
    "feats_numeric_not_contain_timeseries = [x for x in feats_numeric if \"_logerror\" not in x and \"f_num_month\" not in x and \"f_num_quarter\" not in x]\n",
    "\n",
    "df_pred_2016[feats_numeric_not_contain_timeseries] = df_pred_2016[feats_numeric_not_contain_timeseries].fillna(-999)\n",
    "df_pred_2017[feats_numeric_not_contain_timeseries] = df_pred_2017[feats_numeric_not_contain_timeseries].fillna(-999)\n",
    "\n",
    "# imp =  Imputer(missing_values=np.nan, strategy=\"median\", axis=0)\n",
    "# # df[feats_numeric] = imp.fit_transform(df[feats_numeric])\n",
    "# for feat in feats_numeric:\n",
    "#     if df[feat].isnull().sum() < df.shape[0]:\n",
    "#         df[[feat]] = imp.fit_transform(df[[feat]])\n",
    "#     else:\n",
    "#         df[feat] = 0"
   ]
  },
  {
   "cell_type": "markdown",
   "metadata": {},
   "source": [
    "<a id=\"section_4_d\"></a>\n",
    "<a id=\"section_4_d_1\"></a>\n",
    "## 4d. check importance of features\n"
   ]
  },
  {
   "cell_type": "code",
   "execution_count": 422,
   "metadata": {
    "scrolled": false
   },
   "outputs": [
    {
     "ename": "ValueError",
     "evalue": "feature_names must have the same length as data",
     "output_type": "error",
     "traceback": [
      "\u001b[0;31m---------------------------------------------------------------------------\u001b[0m",
      "\u001b[0;31mValueError\u001b[0m                                Traceback (most recent call last)",
      "\u001b[0;32m<ipython-input-422-4fe3c6e7345a>\u001b[0m in \u001b[0;36m<module>\u001b[0;34m()\u001b[0m\n\u001b[1;32m     12\u001b[0m     \u001b[0;34m'seed'\u001b[0m \u001b[0;34m:\u001b[0m \u001b[0;36m0\u001b[0m\u001b[0;34m\u001b[0m\u001b[0m\n\u001b[1;32m     13\u001b[0m }\n\u001b[0;32m---> 14\u001b[0;31m \u001b[0mdtrain\u001b[0m \u001b[0;34m=\u001b[0m \u001b[0mxgb\u001b[0m\u001b[0;34m.\u001b[0m\u001b[0mDMatrix\u001b[0m\u001b[0;34m(\u001b[0m\u001b[0mdf_tmp\u001b[0m\u001b[0;34m,\u001b[0m \u001b[0mtrain_y\u001b[0m\u001b[0;34m,\u001b[0m \u001b[0mfeature_names\u001b[0m\u001b[0;34m=\u001b[0m\u001b[0mdf\u001b[0m\u001b[0;34m.\u001b[0m\u001b[0mcolumns\u001b[0m\u001b[0;34m.\u001b[0m\u001b[0mvalues\u001b[0m\u001b[0;34m)\u001b[0m\u001b[0;34m\u001b[0m\u001b[0m\n\u001b[0m\u001b[1;32m     15\u001b[0m \u001b[0mmodel\u001b[0m \u001b[0;34m=\u001b[0m \u001b[0mxgb\u001b[0m\u001b[0;34m.\u001b[0m\u001b[0mtrain\u001b[0m\u001b[0;34m(\u001b[0m\u001b[0mdict\u001b[0m\u001b[0;34m(\u001b[0m\u001b[0mxgb_params\u001b[0m\u001b[0;34m,\u001b[0m \u001b[0msilent\u001b[0m\u001b[0;34m=\u001b[0m\u001b[0;36m0\u001b[0m\u001b[0;34m)\u001b[0m\u001b[0;34m,\u001b[0m \u001b[0mdtrain\u001b[0m\u001b[0;34m,\u001b[0m \u001b[0mnum_boost_round\u001b[0m\u001b[0;34m=\u001b[0m\u001b[0;36m50\u001b[0m\u001b[0;34m)\u001b[0m\u001b[0;34m\u001b[0m\u001b[0m\n\u001b[1;32m     16\u001b[0m \u001b[0;31m# plot the important features #\u001b[0m\u001b[0;34m\u001b[0m\u001b[0;34m\u001b[0m\u001b[0m\n",
      "\u001b[0;32m/Users/fangjie/Workspace/virtual-environments/new/lib/python2.7/site-packages/xgboost-0.6-py2.7.egg/xgboost/core.pyc\u001b[0m in \u001b[0;36m__init__\u001b[0;34m(self, data, label, missing, weight, silent, feature_names, feature_types, nthread)\u001b[0m\n\u001b[1;32m    294\u001b[0m                 \u001b[0mself\u001b[0m\u001b[0;34m.\u001b[0m\u001b[0mset_weight\u001b[0m\u001b[0;34m(\u001b[0m\u001b[0mweight\u001b[0m\u001b[0;34m)\u001b[0m\u001b[0;34m\u001b[0m\u001b[0m\n\u001b[1;32m    295\u001b[0m \u001b[0;34m\u001b[0m\u001b[0m\n\u001b[0;32m--> 296\u001b[0;31m         \u001b[0mself\u001b[0m\u001b[0;34m.\u001b[0m\u001b[0mfeature_names\u001b[0m \u001b[0;34m=\u001b[0m \u001b[0mfeature_names\u001b[0m\u001b[0;34m\u001b[0m\u001b[0m\n\u001b[0m\u001b[1;32m    297\u001b[0m         \u001b[0mself\u001b[0m\u001b[0;34m.\u001b[0m\u001b[0mfeature_types\u001b[0m \u001b[0;34m=\u001b[0m \u001b[0mfeature_types\u001b[0m\u001b[0;34m\u001b[0m\u001b[0m\n\u001b[1;32m    298\u001b[0m \u001b[0;34m\u001b[0m\u001b[0m\n",
      "\u001b[0;32m/Users/fangjie/Workspace/virtual-environments/new/lib/python2.7/site-packages/xgboost-0.6-py2.7.egg/xgboost/core.pyc\u001b[0m in \u001b[0;36mfeature_names\u001b[0;34m(self, feature_names)\u001b[0m\n\u001b[1;32m    658\u001b[0m             \u001b[0;32mif\u001b[0m \u001b[0mlen\u001b[0m\u001b[0;34m(\u001b[0m\u001b[0mfeature_names\u001b[0m\u001b[0;34m)\u001b[0m \u001b[0;34m!=\u001b[0m \u001b[0mself\u001b[0m\u001b[0;34m.\u001b[0m\u001b[0mnum_col\u001b[0m\u001b[0;34m(\u001b[0m\u001b[0;34m)\u001b[0m\u001b[0;34m:\u001b[0m\u001b[0;34m\u001b[0m\u001b[0m\n\u001b[1;32m    659\u001b[0m                 \u001b[0mmsg\u001b[0m \u001b[0;34m=\u001b[0m \u001b[0;34m'feature_names must have the same length as data'\u001b[0m\u001b[0;34m\u001b[0m\u001b[0m\n\u001b[0;32m--> 660\u001b[0;31m                 \u001b[0;32mraise\u001b[0m \u001b[0mValueError\u001b[0m\u001b[0;34m(\u001b[0m\u001b[0mmsg\u001b[0m\u001b[0;34m)\u001b[0m\u001b[0;34m\u001b[0m\u001b[0m\n\u001b[0m\u001b[1;32m    661\u001b[0m             \u001b[0;31m# prohibit to use symbols may affect to parse. e.g. []<\u001b[0m\u001b[0;34m\u001b[0m\u001b[0;34m\u001b[0m\u001b[0m\n\u001b[1;32m    662\u001b[0m             if not all(isinstance(f, STRING_TYPES) and\n",
      "\u001b[0;31mValueError\u001b[0m: feature_names must have the same length as data"
     ]
    }
   ],
   "source": [
    "df_tmp = df_train\n",
    "train_y = df_tmp['logerror'].values\n",
    "df_tmp = df_train.drop(['parcelid', 'logerror', 'transactiondate', 'transaction_month',\"hashottuborspa\", \"propertycountylandusecode\", \"propertyzoningdesc\", \"fireplaceflag\", \"taxdelinquencyflag\"], axis=1)\n",
    "\n",
    "xgb_params = {\n",
    "    'eta': 0.05,\n",
    "    'max_depth': 8,\n",
    "    'subsample': 0.7,\n",
    "    'colsample_bytree': 0.7,\n",
    "    'objective': 'reg:linear',\n",
    "    'silent': 1,\n",
    "    'seed' : 0\n",
    "}\n",
    "dtrain = xgb.DMatrix(df_tmp, train_y, feature_names=df.columns.values)\n",
    "model = xgb.train(dict(xgb_params, silent=0), dtrain, num_boost_round=50)\n",
    "# plot the important features #\n",
    "fig, ax = plt.subplots(figsize=(10,15))\n",
    "xgb.plot_importance(model, max_num_features=40, height=0.8, ax=ax)\n",
    "plt.show()"
   ]
  },
  {
   "cell_type": "markdown",
   "metadata": {},
   "source": [
    "<a id=\"section_4_d_2\"></a>\n",
    "### take a peak at  tax amount, temporal, spatial features "
   ]
  },
  {
   "cell_type": "markdown",
   "metadata": {},
   "source": [
    "### check tax amount\n",
    "tax seems to have very high importance, check it first"
   ]
  },
  {
   "cell_type": "code",
   "execution_count": 156,
   "metadata": {
    "scrolled": true
   },
   "outputs": [
    {
     "data": {
      "text/plain": [
       "<matplotlib.axes._subplots.AxesSubplot at 0x114e47bd0>"
      ]
     },
     "execution_count": 156,
     "metadata": {},
     "output_type": "execute_result"
    },
    {
     "data": {
      "image/png": "[encoded data removed]",
      "text/plain": [
       "<matplotlib.figure.Figure at 0x13071e150>"
      ]
     },
     "metadata": {},
     "output_type": "display_data"
    }
   ],
   "source": [
    "df_properties.taxamount.hist()\n",
    "# it seems to be hugely skewed on the long tail end\n",
    "# let me apply a log and look at it again"
   ]
  },
  {
   "cell_type": "code",
   "execution_count": 157,
   "metadata": {},
   "outputs": [
    {
     "data": {
      "text/plain": [
       "<matplotlib.axes._subplots.AxesSubplot at 0x114b0ad90>"
      ]
     },
     "execution_count": 157,
     "metadata": {},
     "output_type": "execute_result"
    },
    {
     "data": {
      "image/png": "[encoded data removed]",
      "text/plain": [
       "<matplotlib.figure.Figure at 0x114b15110>"
      ]
     },
     "metadata": {},
     "output_type": "display_data"
    }
   ],
   "source": [
    "np.log(df_properties.taxamount+1).hist(bins=15)\n",
    "# this looks much more reasonable"
   ]
  },
  {
   "cell_type": "markdown",
   "metadata": {},
   "source": [
    "### check temporal behavior"
   ]
  },
  {
   "cell_type": "code",
   "execution_count": 440,
   "metadata": {},
   "outputs": [
    {
     "data": {
      "image/png": "[encoded data removed]",
      "text/plain": [
       "<matplotlib.figure.Figure at 0x13a618b10>"
      ]
     },
     "metadata": {},
     "output_type": "display_data"
    }
   ],
   "source": [
    "df['transaction_month'] = df['transactiondate'].dt.month\n",
    "df['transaction_year'] = df['transactiondate'].dt.year\n",
    "df['transaction_year_and_month'] = df['transactiondate'].astype('str').str[:7]\n",
    "\n",
    "# train.set_index(pd.to_datetime(train.transactiondate), inplace = True)\n",
    "df['transactiondate'] = pd.to_datetime(df.transactiondate)\n",
    "\n",
    "mask = (df['transactiondate'] < '2017-10-01')\n",
    "df1=df.loc[mask]\n",
    "\n",
    "# first visualize the data\n",
    "plt.figure(figsize=(20, 6))\n",
    "mean_group = df1[['transactiondate','logerror']].groupby(['transactiondate'])['logerror'].mean()\n",
    "plt.plot(mean_group)\n",
    "plt.xlabel('Date', fontsize=15)\n",
    "plt.ylabel('Log error', fontsize=15)\n",
    "plt.title('Time Series - Average')\n",
    "plt.show() \n"
   ]
  },
  {
   "cell_type": "markdown",
   "metadata": {},
   "source": [
    "##### ARIMA Model"
   ]
  },
  {
   "cell_type": "code",
   "execution_count": 441,
   "metadata": {},
   "outputs": [
    {
     "name": "stdout",
     "output_type": "stream",
     "text": [
      "Examples of parameter combinations for Seasonal ARIMA...\n",
      "SARIMAX: (0, 0, 1) x (0, 0, 1, 3)\n",
      "SARIMAX: (0, 0, 1) x (0, 1, 0, 3)\n",
      "SARIMAX: (0, 1, 0) x (0, 1, 1, 3)\n",
      "SARIMAX: (0, 1, 0) x (1, 0, 0, 3)\n"
     ]
    }
   ],
   "source": [
    "# Define the p, d and q parameters to take any value between 0 and 2\n",
    "p = d = q = range(0, 2)\n",
    "\n",
    "# Generate all different combinations of p, q and q triplets\n",
    "pdq = list(itertools.product(p, d, q))\n",
    "\n",
    "# Generate all different combinations of seasonal p, q and q triplets\n",
    "seasonal_pdq = [(x[0], x[1], x[2], 3) for x in list(itertools.product(p, d, q))]\n",
    "# 12 months, 3, quarter\n",
    "print('Examples of parameter combinations for Seasonal ARIMA...')\n",
    "print('SARIMAX: {} x {}'.format(pdq[1], seasonal_pdq[1]))\n",
    "print('SARIMAX: {} x {}'.format(pdq[1], seasonal_pdq[2]))\n",
    "print('SARIMAX: {} x {}'.format(pdq[2], seasonal_pdq[3]))\n",
    "print('SARIMAX: {} x {}'.format(pdq[2], seasonal_pdq[4]))"
   ]
  },
  {
   "cell_type": "code",
   "execution_count": 442,
   "metadata": {},
   "outputs": [
    {
     "name": "stdout",
     "output_type": "stream",
     "text": [
      "ARIMA(0, 0, 0)x(0, 0, 1, 3)12 - AIC:-2731.4595108\n",
      "ARIMA(0, 0, 0)x(0, 1, 1, 3)12 - AIC:-2836.54814083\n",
      "ARIMA(0, 0, 0)x(1, 0, 0, 3)12 - AIC:-2748.04993648\n",
      "ARIMA(0, 0, 0)x(1, 0, 1, 3)12 - AIC:-2851.40159948\n",
      "ARIMA(0, 0, 0)x(1, 1, 0, 3)12 - AIC:-2618.80077034\n",
      "ARIMA(0, 0, 0)x(1, 1, 1, 3)12 - AIC:-2833.38938562\n",
      "ARIMA(0, 0, 1)x(0, 0, 0, 3)12 - AIC:-2747.98290652\n",
      "ARIMA(0, 0, 1)x(0, 0, 1, 3)12 - AIC:-2747.16420371\n",
      "ARIMA(0, 0, 1)x(0, 1, 0, 3)12 - AIC:-2454.19993605\n",
      "ARIMA(0, 0, 1)x(0, 1, 1, 3)12 - AIC:-2830.07375238\n",
      "ARIMA(0, 0, 1)x(1, 0, 0, 3)12 - AIC:-2764.19480911\n",
      "ARIMA(0, 0, 1)x(1, 0, 1, 3)12 - AIC:-2845.01455268\n",
      "ARIMA(0, 0, 1)x(1, 1, 0, 3)12 - AIC:-2618.59967262\n",
      "ARIMA(0, 0, 1)x(1, 1, 1, 3)12 - AIC:-2827.46804071\n",
      "ARIMA(0, 1, 0)x(0, 0, 1, 3)12 - AIC:-2463.8584728\n",
      "ARIMA(0, 1, 0)x(0, 1, 1, 3)12 - AIC:-2435.45436737\n",
      "ARIMA(0, 1, 0)x(1, 0, 0, 3)12 - AIC:-2468.84719629\n",
      "ARIMA(0, 1, 0)x(1, 0, 1, 3)12 - AIC:-2461.99686394\n",
      "ARIMA(0, 1, 0)x(1, 1, 0, 3)12 - AIC:-2224.67214254\n",
      "ARIMA(0, 1, 0)x(1, 1, 1, 3)12 - AIC:-2433.66278316\n",
      "ARIMA(0, 1, 1)x(0, 0, 0, 3)12 - AIC:-2869.02156821\n",
      "ARIMA(0, 1, 1)x(0, 0, 1, 3)12 - AIC:-2850.72960748\n",
      "ARIMA(0, 1, 1)x(0, 1, 0, 3)12 - AIC:-2440.09951696\n",
      "ARIMA(0, 1, 1)x(0, 1, 1, 3)12 - AIC:-2817.39131559\n",
      "ARIMA(0, 1, 1)x(1, 0, 0, 3)12 - AIC:-2861.25538204\n",
      "ARIMA(0, 1, 1)x(1, 0, 1, 3)12 - AIC:-2848.71385294\n",
      "ARIMA(0, 1, 1)x(1, 1, 0, 3)12 - AIC:-2605.09795019\n",
      "ARIMA(0, 1, 1)x(1, 1, 1, 3)12 - AIC:-2815.38701258\n",
      "ARIMA(1, 0, 0)x(0, 0, 0, 3)12 - AIC:-2763.94057948\n",
      "ARIMA(1, 0, 0)x(0, 0, 1, 3)12 - AIC:-2759.35716177\n",
      "ARIMA(1, 0, 0)x(0, 1, 0, 3)12 - AIC:-2458.80512208\n",
      "ARIMA(1, 0, 0)x(0, 1, 1, 3)12 - AIC:-2835.61121272\n",
      "ARIMA(1, 0, 0)x(1, 0, 0, 3)12 - AIC:-2764.00468281\n",
      "ARIMA(1, 0, 0)x(1, 0, 1, 3)12 - AIC:-2850.27830116\n",
      "ARIMA(1, 0, 0)x(1, 1, 0, 3)12 - AIC:-2613.96081471\n",
      "ARIMA(1, 0, 0)x(1, 1, 1, 3)12 - AIC:-2832.41168762\n",
      "ARIMA(1, 0, 1)x(0, 0, 0, 3)12 - AIC:-2873.15252256\n",
      "ARIMA(1, 0, 1)x(0, 0, 1, 3)12 - AIC:-2854.79316136\n",
      "ARIMA(1, 0, 1)x(0, 1, 0, 3)12 - AIC:-2450.53717149\n",
      "ARIMA(1, 0, 1)x(0, 1, 1, 3)12 - AIC:-2827.62179824\n",
      "ARIMA(1, 0, 1)x(1, 0, 0, 3)12 - AIC:-2860.41723633\n",
      "ARIMA(1, 0, 1)x(1, 0, 1, 3)12 - AIC:-2843.43542897\n",
      "ARIMA(1, 0, 1)x(1, 1, 0, 3)12 - AIC:-2610.98074181\n",
      "ARIMA(1, 0, 1)x(1, 1, 1, 3)12 - AIC:-2649.07687063\n",
      "ARIMA(1, 1, 0)x(0, 0, 0, 3)12 - AIC:-2627.68827433\n",
      "ARIMA(1, 1, 0)x(0, 0, 1, 3)12 - AIC:-2611.61453194\n",
      "ARIMA(1, 1, 0)x(0, 1, 0, 3)12 - AIC:-2200.67520689\n",
      "ARIMA(1, 1, 0)x(0, 1, 1, 3)12 - AIC:-2582.90942569\n",
      "ARIMA(1, 1, 0)x(1, 0, 0, 3)12 - AIC:-2611.62488782\n",
      "ARIMA(1, 1, 0)x(1, 0, 1, 3)12 - AIC:-2609.65178432\n",
      "ARIMA(1, 1, 0)x(1, 1, 0, 3)12 - AIC:-2356.50740279\n",
      "ARIMA(1, 1, 0)x(1, 1, 1, 3)12 - AIC:-2580.57972508\n",
      "ARIMA(1, 1, 1)x(0, 0, 0, 3)12 - AIC:-2867.40087393\n",
      "ARIMA(1, 1, 1)x(0, 0, 1, 3)12 - AIC:-2849.01223576\n",
      "ARIMA(1, 1, 1)x(0, 1, 0, 3)12 - AIC:-2441.09623789\n",
      "ARIMA(1, 1, 1)x(0, 1, 1, 3)12 - AIC:-2815.77383027\n",
      "ARIMA(1, 1, 1)x(1, 0, 0, 3)12 - AIC:-2854.62410992\n",
      "ARIMA(1, 1, 1)x(1, 0, 1, 3)12 - AIC:-2846.99548978\n",
      "ARIMA(1, 1, 1)x(1, 1, 0, 3)12 - AIC:-2600.41470799\n",
      "ARIMA(1, 1, 1)x(1, 1, 1, 3)12 - AIC:-2813.7589622\n"
     ]
    }
   ],
   "source": [
    "# Akaike Information Criter AIC test\n",
    "warnings.filterwarnings(\"ignore\") # specify to ignore warning messages\n",
    "\n",
    "for param in pdq:\n",
    "    for param_seasonal in seasonal_pdq:\n",
    "        try:\n",
    "            mod = sm.tsa.statespace.SARIMAX(mean_group,\n",
    "                                            order=param,\n",
    "                                            seasonal_order=param_seasonal,\n",
    "                                            enforce_stationarity=False,\n",
    "                                            enforce_invertibility=False)\n",
    "\n",
    "            results = mod.fit()\n",
    "\n",
    "            print('ARIMA{}x{}12 - AIC:{}'.format(param, param_seasonal, results.aic))\n",
    "        except:\n",
    "            continue"
   ]
  },
  {
   "cell_type": "code",
   "execution_count": 443,
   "metadata": {
    "scrolled": true
   },
   "outputs": [
    {
     "name": "stdout",
     "output_type": "stream",
     "text": [
      "==============================================================================\n",
      "                 coef    std err          z      P>|z|      [0.025      0.975]\n",
      "------------------------------------------------------------------------------\n",
      "ar.L1          0.0383      0.053      0.728      0.467      -0.065       0.141\n",
      "ar.L2         -0.1326      0.042     -3.147      0.002      -0.215      -0.050\n",
      "ma.L1         -1.9981      0.058    -34.271      0.000      -2.112      -1.884\n",
      "ma.L2          0.9985      0.058     17.132      0.000       0.884       1.113\n",
      "ar.S.L12      -0.4318      0.171     -2.518      0.012      -0.768      -0.096\n",
      "ar.S.L24      -0.1320      0.093     -1.421      0.155      -0.314       0.050\n",
      "ma.S.L12      -1.1726      0.165     -7.125      0.000      -1.495      -0.850\n",
      "ma.S.L24       0.1837      0.177      1.039      0.299      -0.163       0.530\n",
      "sigma2         0.0008   9.11e-05      8.622      0.000       0.001       0.001\n",
      "==============================================================================\n"
     ]
    },
    {
     "data": {
      "image/png": "[encoded data removed]",
      "text/plain": [
       "<matplotlib.figure.Figure at 0x163461110>"
      ]
     },
     "metadata": {},
     "output_type": "display_data"
    }
   ],
   "source": [
    "mod = sm.tsa.statespace.SARIMAX(mean_group.values,\n",
    "                                order=(2, 2, 2),\n",
    "                                seasonal_order=(2, 2, 2, 12),\n",
    "                                enforce_stationarity=False,\n",
    "                                enforce_invertibility=False)\n",
    "\n",
    "results = mod.fit()\n",
    "\n",
    "print(results.summary().tables[1])\n",
    "results.plot_diagnostics(figsize=(10, 6))\n",
    "plt.show()"
   ]
  },
  {
   "cell_type": "markdown",
   "metadata": {},
   "source": [
    "##### ARIMA Prediction"
   ]
  },
  {
   "cell_type": "code",
   "execution_count": 444,
   "metadata": {},
   "outputs": [
    {
     "name": "stdout",
     "output_type": "stream",
     "text": [
      "The Mean Squared Error of our forecasts is 0.00109\n"
     ]
    }
   ],
   "source": [
    "pred = results.get_prediction(start=0,dynamic=False)\n",
    "y_forecasted = pred.predicted_mean\n",
    "y_truth = mean_group[0:]\n",
    "\n",
    "mse = ((y_forecasted - y_truth) ** 2).mean()\n",
    "print('The Mean Squared Error of our forecasts is {}'.format(round(mse, 5)))"
   ]
  },
  {
   "cell_type": "code",
   "execution_count": 445,
   "metadata": {},
   "outputs": [
    {
     "data": {
      "text/html": [
       "<div>\n",
       "<style>\n",
       "    .dataframe thead tr:only-child th {\n",
       "        text-align: right;\n",
       "    }\n",
       "\n",
       "    .dataframe thead th {\n",
       "        text-align: left;\n",
       "    }\n",
       "\n",
       "    .dataframe tbody tr th {\n",
       "        vertical-align: top;\n",
       "    }\n",
       "</style>\n",
       "<table border=\"1\" class=\"dataframe\">\n",
       "  <thead>\n",
       "    <tr style=\"text-align: right;\">\n",
       "      <th></th>\n",
       "      <th>transactiondate</th>\n",
       "      <th>logerror</th>\n",
       "    </tr>\n",
       "  </thead>\n",
       "  <tbody>\n",
       "    <tr>\n",
       "      <th>0</th>\n",
       "      <td>2016-01-01</td>\n",
       "      <td>0.000000</td>\n",
       "    </tr>\n",
       "    <tr>\n",
       "      <th>1</th>\n",
       "      <td>2016-01-02</td>\n",
       "      <td>-0.087249</td>\n",
       "    </tr>\n",
       "    <tr>\n",
       "      <th>2</th>\n",
       "      <td>2016-01-03</td>\n",
       "      <td>0.033399</td>\n",
       "    </tr>\n",
       "    <tr>\n",
       "      <th>3</th>\n",
       "      <td>2016-01-04</td>\n",
       "      <td>0.020659</td>\n",
       "    </tr>\n",
       "    <tr>\n",
       "      <th>4</th>\n",
       "      <td>2016-01-05</td>\n",
       "      <td>-0.001623</td>\n",
       "    </tr>\n",
       "  </tbody>\n",
       "</table>\n",
       "</div>"
      ],
      "text/plain": [
       "  transactiondate  logerror\n",
       "0      2016-01-01  0.000000\n",
       "1      2016-01-02 -0.087249\n",
       "2      2016-01-03  0.033399\n",
       "3      2016-01-04  0.020659\n",
       "4      2016-01-05 -0.001623"
      ]
     },
     "execution_count": 445,
     "metadata": {},
     "output_type": "execute_result"
    }
   ],
   "source": [
    "pred_uc=results.get_forecast(steps=97)\n",
    "forcast = pd.DataFrame( pred_uc.predicted_mean ) \n",
    "new_transactiondate = pd.date_range('2017-09-26', periods=97, freq='1D')\n",
    "columns=[['transactiondate','logerror']]\n",
    "forcast_from_oct17=pd.DataFrame(columns=columns)\n",
    "\n",
    "forcast_from_oct17['transactiondate']=new_transactiondate\n",
    "forcast_from_oct17['logerror']=forcast\n",
    "forcast_from_oct17.dropna()\n",
    "forcast_from_oct17.tail()\n",
    "\n",
    "logerrors=pd.DataFrame( pred.predicted_mean ) \n",
    "\n",
    "prediction=pd.DataFrame(columns=columns)\n",
    "\n",
    "prediction['transactiondate']=pd.to_datetime(mean_group.index)\n",
    "\n",
    "prediction['logerror'] = logerrors\n",
    "\n",
    "prediction.head()\n",
    "\n",
    "data=pd.concat([prediction, forcast_from_oct17])\n",
    "data.head()"
   ]
  },
  {
   "cell_type": "markdown",
   "metadata": {},
   "source": [
    "##### ARIMA Forcasting"
   ]
  },
  {
   "cell_type": "code",
   "execution_count": 448,
   "metadata": {},
   "outputs": [
    {
     "data": {
      "text/plain": [
       "[<matplotlib.lines.Line2D at 0x162135a90>]"
      ]
     },
     "execution_count": 448,
     "metadata": {},
     "output_type": "execute_result"
    },
    {
     "data": {
      "image/png": "[encoded data removed]",
      "text/plain": [
       "<matplotlib.figure.Figure at 0x163ee8610>"
      ]
     },
     "metadata": {},
     "output_type": "display_data"
    }
   ],
   "source": [
    "plt.figure(figsize=(20, 6))\n",
    "xx=data.transactiondate\n",
    "yy=data.logerror\n",
    "plt.plot(xx, yy)\n",
    "plt.plot(mean_group)"
   ]
  },
  {
   "cell_type": "code",
   "execution_count": 449,
   "metadata": {},
   "outputs": [],
   "source": [
    "data.to_csv('/Users/fangjie/Workspace/data-science/competitions/arima_model_month.csv', index=False, float_format='%.6f') "
   ]
  },
  {
   "cell_type": "markdown",
   "metadata": {},
   "source": [
    "## Spatial feature"
   ]
  },
  {
   "cell_type": "code",
   "execution_count": 450,
   "metadata": {},
   "outputs": [
    {
     "data": {
      "image/png": "[encoded data removed]",
      "text/plain": [
       "<matplotlib.figure.Figure at 0x1564c4490>"
      ]
     },
     "metadata": {},
     "output_type": "display_data"
    },
    {
     "data": {
      "text/plain": [
       "<ggplot: (373233801)>"
      ]
     },
     "execution_count": 450,
     "metadata": {},
     "output_type": "execute_result"
    }
   ],
   "source": [
    "# geographical logerror distribution\n",
    "from ggplot import *\n",
    "ggplot(aes(x='latitude', y='longitude', color='logerror'), data=df) + \\\n",
    "    geom_point() + \\\n",
    "    scale_color_gradient(low = 'yellow', high = 'blue')"
   ]
  },
  {
   "cell_type": "markdown",
   "metadata": {},
   "source": [
    "<a id=\"section_4_e\"></a>\n",
    "## 4e.  generate training testing sets"
   ]
  },
  {
   "cell_type": "code",
   "execution_count": 425,
   "metadata": {},
   "outputs": [
    {
     "ename": "ValueError",
     "evalue": "list.remove(x): x not in list",
     "output_type": "error",
     "traceback": [
      "\u001b[0;31m---------------------------------------------------------------------------\u001b[0m",
      "\u001b[0;31mValueError\u001b[0m                                Traceback (most recent call last)",
      "\u001b[0;32m<ipython-input-425-f156904dca72>\u001b[0m in \u001b[0;36m<module>\u001b[0;34m()\u001b[0m\n\u001b[1;32m      2\u001b[0m \u001b[0mmask_test\u001b[0m\u001b[0;34m.\u001b[0m\u001b[0mreset_index\u001b[0m\u001b[0;34m(\u001b[0m\u001b[0mdrop\u001b[0m\u001b[0;34m=\u001b[0m\u001b[0mTrue\u001b[0m\u001b[0;34m,\u001b[0m \u001b[0minplace\u001b[0m \u001b[0;34m=\u001b[0m \u001b[0mTrue\u001b[0m\u001b[0;34m)\u001b[0m\u001b[0;34m\u001b[0m\u001b[0m\n\u001b[1;32m      3\u001b[0m \u001b[0;34m\u001b[0m\u001b[0m\n\u001b[0;32m----> 4\u001b[0;31m \u001b[0mfeats\u001b[0m\u001b[0;34m.\u001b[0m\u001b[0mremove\u001b[0m\u001b[0;34m(\u001b[0m\u001b[0;34m'f_num_stddev_logerror'\u001b[0m\u001b[0;34m)\u001b[0m\u001b[0;34m\u001b[0m\u001b[0m\n\u001b[0m\u001b[1;32m      5\u001b[0m \u001b[0mfeats\u001b[0m\u001b[0;34m.\u001b[0m\u001b[0mremove\u001b[0m\u001b[0;34m(\u001b[0m\u001b[0;34m'f_num_avg_logerror'\u001b[0m\u001b[0;34m)\u001b[0m\u001b[0;34m\u001b[0m\u001b[0m\n",
      "\u001b[0;31mValueError\u001b[0m: list.remove(x): x not in list"
     ]
    }
   ],
   "source": [
    "mask_train.reset_index(drop=True, inplace = True)\n",
    "mask_test.reset_index(drop=True, inplace = True)\n",
    "\n",
    "feats.remove('f_num_stddev_logerror')\n",
    "feats.remove('f_num_avg_logerror')"
   ]
  },
  {
   "cell_type": "code",
   "execution_count": 420,
   "metadata": {},
   "outputs": [
    {
     "ename": "ValueError",
     "evalue": "cannot reindex from a duplicate axis",
     "output_type": "error",
     "traceback": [
      "\u001b[0;31m---------------------------------------------------------------------------\u001b[0m",
      "\u001b[0;31mValueError\u001b[0m                                Traceback (most recent call last)",
      "\u001b[0;32m<ipython-input-420-92d45928ea87>\u001b[0m in \u001b[0;36m<module>\u001b[0;34m()\u001b[0m\n\u001b[1;32m      3\u001b[0m \u001b[0;31m# mask_outlier = df.logerror > 999\u001b[0m\u001b[0;34m\u001b[0m\u001b[0;34m\u001b[0m\u001b[0m\n\u001b[1;32m      4\u001b[0m \u001b[0;34m\u001b[0m\u001b[0m\n\u001b[0;32m----> 5\u001b[0;31m \u001b[0mX_train\u001b[0m \u001b[0;34m=\u001b[0m \u001b[0mdf\u001b[0m\u001b[0;34m.\u001b[0m\u001b[0mloc\u001b[0m\u001b[0;34m[\u001b[0m\u001b[0;34m(\u001b[0m\u001b[0mmask_train\u001b[0m \u001b[0;34m&\u001b[0m \u001b[0;34m~\u001b[0m\u001b[0mmask_outlier\u001b[0m\u001b[0;34m)\u001b[0m\u001b[0;34m,\u001b[0m \u001b[0mfeats\u001b[0m\u001b[0;34m]\u001b[0m\u001b[0;34m.\u001b[0m\u001b[0mastype\u001b[0m\u001b[0;34m(\u001b[0m\u001b[0mfloat\u001b[0m\u001b[0;34m)\u001b[0m\u001b[0;34m.\u001b[0m\u001b[0mvalues\u001b[0m\u001b[0;34m\u001b[0m\u001b[0m\n\u001b[0m\u001b[1;32m      6\u001b[0m \u001b[0mX_test\u001b[0m \u001b[0;34m=\u001b[0m \u001b[0mdf\u001b[0m\u001b[0;34m.\u001b[0m\u001b[0mloc\u001b[0m\u001b[0;34m[\u001b[0m\u001b[0mmask_test\u001b[0m\u001b[0;34m,\u001b[0m \u001b[0mfeats\u001b[0m\u001b[0;34m]\u001b[0m\u001b[0;34m.\u001b[0m\u001b[0mastype\u001b[0m\u001b[0;34m(\u001b[0m\u001b[0mfloat\u001b[0m\u001b[0;34m)\u001b[0m\u001b[0;34m.\u001b[0m\u001b[0mvalues\u001b[0m\u001b[0;34m\u001b[0m\u001b[0m\n\u001b[1;32m      7\u001b[0m \u001b[0;34m\u001b[0m\u001b[0m\n",
      "\u001b[0;32m/Users/fangjie/Workspace/virtual-environments/new/lib/python2.7/site-packages/pandas/core/indexing.pyc\u001b[0m in \u001b[0;36m__getitem__\u001b[0;34m(self, key)\u001b[0m\n\u001b[1;32m   1323\u001b[0m             \u001b[0;32mexcept\u001b[0m \u001b[0;34m(\u001b[0m\u001b[0mKeyError\u001b[0m\u001b[0;34m,\u001b[0m \u001b[0mIndexError\u001b[0m\u001b[0;34m)\u001b[0m\u001b[0;34m:\u001b[0m\u001b[0;34m\u001b[0m\u001b[0m\n\u001b[1;32m   1324\u001b[0m                 \u001b[0;32mpass\u001b[0m\u001b[0;34m\u001b[0m\u001b[0m\n\u001b[0;32m-> 1325\u001b[0;31m             \u001b[0;32mreturn\u001b[0m \u001b[0mself\u001b[0m\u001b[0;34m.\u001b[0m\u001b[0m_getitem_tuple\u001b[0m\u001b[0;34m(\u001b[0m\u001b[0mkey\u001b[0m\u001b[0;34m)\u001b[0m\u001b[0;34m\u001b[0m\u001b[0m\n\u001b[0m\u001b[1;32m   1326\u001b[0m         \u001b[0;32melse\u001b[0m\u001b[0;34m:\u001b[0m\u001b[0;34m\u001b[0m\u001b[0m\n\u001b[1;32m   1327\u001b[0m             \u001b[0mkey\u001b[0m \u001b[0;34m=\u001b[0m \u001b[0mcom\u001b[0m\u001b[0;34m.\u001b[0m\u001b[0m_apply_if_callable\u001b[0m\u001b[0;34m(\u001b[0m\u001b[0mkey\u001b[0m\u001b[0;34m,\u001b[0m \u001b[0mself\u001b[0m\u001b[0;34m.\u001b[0m\u001b[0mobj\u001b[0m\u001b[0;34m)\u001b[0m\u001b[0;34m\u001b[0m\u001b[0m\n",
      "\u001b[0;32m/Users/fangjie/Workspace/virtual-environments/new/lib/python2.7/site-packages/pandas/core/indexing.pyc\u001b[0m in \u001b[0;36m_getitem_tuple\u001b[0;34m(self, tup)\u001b[0m\n\u001b[1;32m    854\u001b[0m                 \u001b[0;32mcontinue\u001b[0m\u001b[0;34m\u001b[0m\u001b[0m\n\u001b[1;32m    855\u001b[0m \u001b[0;34m\u001b[0m\u001b[0m\n\u001b[0;32m--> 856\u001b[0;31m             \u001b[0mretval\u001b[0m \u001b[0;34m=\u001b[0m \u001b[0mgetattr\u001b[0m\u001b[0;34m(\u001b[0m\u001b[0mretval\u001b[0m\u001b[0;34m,\u001b[0m \u001b[0mself\u001b[0m\u001b[0;34m.\u001b[0m\u001b[0mname\u001b[0m\u001b[0;34m)\u001b[0m\u001b[0;34m.\u001b[0m\u001b[0m_getitem_axis\u001b[0m\u001b[0;34m(\u001b[0m\u001b[0mkey\u001b[0m\u001b[0;34m,\u001b[0m \u001b[0maxis\u001b[0m\u001b[0;34m=\u001b[0m\u001b[0mi\u001b[0m\u001b[0;34m)\u001b[0m\u001b[0;34m\u001b[0m\u001b[0m\n\u001b[0m\u001b[1;32m    857\u001b[0m \u001b[0;34m\u001b[0m\u001b[0m\n\u001b[1;32m    858\u001b[0m         \u001b[0;32mreturn\u001b[0m \u001b[0mretval\u001b[0m\u001b[0;34m\u001b[0m\u001b[0m\n",
      "\u001b[0;32m/Users/fangjie/Workspace/virtual-environments/new/lib/python2.7/site-packages/pandas/core/indexing.pyc\u001b[0m in \u001b[0;36m_getitem_axis\u001b[0;34m(self, key, axis)\u001b[0m\n\u001b[1;32m   1506\u001b[0m             \u001b[0;32mreturn\u001b[0m \u001b[0mself\u001b[0m\u001b[0;34m.\u001b[0m\u001b[0m_get_slice_axis\u001b[0m\u001b[0;34m(\u001b[0m\u001b[0mkey\u001b[0m\u001b[0;34m,\u001b[0m \u001b[0maxis\u001b[0m\u001b[0;34m=\u001b[0m\u001b[0maxis\u001b[0m\u001b[0;34m)\u001b[0m\u001b[0;34m\u001b[0m\u001b[0m\n\u001b[1;32m   1507\u001b[0m         \u001b[0;32melif\u001b[0m \u001b[0mis_bool_indexer\u001b[0m\u001b[0;34m(\u001b[0m\u001b[0mkey\u001b[0m\u001b[0;34m)\u001b[0m\u001b[0;34m:\u001b[0m\u001b[0;34m\u001b[0m\u001b[0m\n\u001b[0;32m-> 1508\u001b[0;31m             \u001b[0;32mreturn\u001b[0m \u001b[0mself\u001b[0m\u001b[0;34m.\u001b[0m\u001b[0m_getbool_axis\u001b[0m\u001b[0;34m(\u001b[0m\u001b[0mkey\u001b[0m\u001b[0;34m,\u001b[0m \u001b[0maxis\u001b[0m\u001b[0;34m=\u001b[0m\u001b[0maxis\u001b[0m\u001b[0;34m)\u001b[0m\u001b[0;34m\u001b[0m\u001b[0m\n\u001b[0m\u001b[1;32m   1509\u001b[0m         \u001b[0;32melif\u001b[0m \u001b[0mis_list_like_indexer\u001b[0m\u001b[0;34m(\u001b[0m\u001b[0mkey\u001b[0m\u001b[0;34m)\u001b[0m\u001b[0;34m:\u001b[0m\u001b[0;34m\u001b[0m\u001b[0m\n\u001b[1;32m   1510\u001b[0m \u001b[0;34m\u001b[0m\u001b[0m\n",
      "\u001b[0;32m/Users/fangjie/Workspace/virtual-environments/new/lib/python2.7/site-packages/pandas/core/indexing.pyc\u001b[0m in \u001b[0;36m_getbool_axis\u001b[0;34m(self, key, axis)\u001b[0m\n\u001b[1;32m   1339\u001b[0m     \u001b[0;32mdef\u001b[0m \u001b[0m_getbool_axis\u001b[0m\u001b[0;34m(\u001b[0m\u001b[0mself\u001b[0m\u001b[0;34m,\u001b[0m \u001b[0mkey\u001b[0m\u001b[0;34m,\u001b[0m \u001b[0maxis\u001b[0m\u001b[0;34m=\u001b[0m\u001b[0;36m0\u001b[0m\u001b[0;34m)\u001b[0m\u001b[0;34m:\u001b[0m\u001b[0;34m\u001b[0m\u001b[0m\n\u001b[1;32m   1340\u001b[0m         \u001b[0mlabels\u001b[0m \u001b[0;34m=\u001b[0m \u001b[0mself\u001b[0m\u001b[0;34m.\u001b[0m\u001b[0mobj\u001b[0m\u001b[0;34m.\u001b[0m\u001b[0m_get_axis\u001b[0m\u001b[0;34m(\u001b[0m\u001b[0maxis\u001b[0m\u001b[0;34m)\u001b[0m\u001b[0;34m\u001b[0m\u001b[0m\n\u001b[0;32m-> 1341\u001b[0;31m         \u001b[0mkey\u001b[0m \u001b[0;34m=\u001b[0m \u001b[0mcheck_bool_indexer\u001b[0m\u001b[0;34m(\u001b[0m\u001b[0mlabels\u001b[0m\u001b[0;34m,\u001b[0m \u001b[0mkey\u001b[0m\u001b[0;34m)\u001b[0m\u001b[0;34m\u001b[0m\u001b[0m\n\u001b[0m\u001b[1;32m   1342\u001b[0m         \u001b[0minds\u001b[0m\u001b[0;34m,\u001b[0m \u001b[0;34m=\u001b[0m \u001b[0mkey\u001b[0m\u001b[0;34m.\u001b[0m\u001b[0mnonzero\u001b[0m\u001b[0;34m(\u001b[0m\u001b[0;34m)\u001b[0m\u001b[0;34m\u001b[0m\u001b[0m\n\u001b[1;32m   1343\u001b[0m         \u001b[0;32mtry\u001b[0m\u001b[0;34m:\u001b[0m\u001b[0;34m\u001b[0m\u001b[0m\n",
      "\u001b[0;32m/Users/fangjie/Workspace/virtual-environments/new/lib/python2.7/site-packages/pandas/core/indexing.pyc\u001b[0m in \u001b[0;36mcheck_bool_indexer\u001b[0;34m(ax, key)\u001b[0m\n\u001b[1;32m   1934\u001b[0m     \u001b[0mresult\u001b[0m \u001b[0;34m=\u001b[0m \u001b[0mkey\u001b[0m\u001b[0;34m\u001b[0m\u001b[0m\n\u001b[1;32m   1935\u001b[0m     \u001b[0;32mif\u001b[0m \u001b[0misinstance\u001b[0m\u001b[0;34m(\u001b[0m\u001b[0mkey\u001b[0m\u001b[0;34m,\u001b[0m \u001b[0mABCSeries\u001b[0m\u001b[0;34m)\u001b[0m \u001b[0;32mand\u001b[0m \u001b[0;32mnot\u001b[0m \u001b[0mkey\u001b[0m\u001b[0;34m.\u001b[0m\u001b[0mindex\u001b[0m\u001b[0;34m.\u001b[0m\u001b[0mequals\u001b[0m\u001b[0;34m(\u001b[0m\u001b[0max\u001b[0m\u001b[0;34m)\u001b[0m\u001b[0;34m:\u001b[0m\u001b[0;34m\u001b[0m\u001b[0m\n\u001b[0;32m-> 1936\u001b[0;31m         \u001b[0mresult\u001b[0m \u001b[0;34m=\u001b[0m \u001b[0mresult\u001b[0m\u001b[0;34m.\u001b[0m\u001b[0mreindex\u001b[0m\u001b[0;34m(\u001b[0m\u001b[0max\u001b[0m\u001b[0;34m)\u001b[0m\u001b[0;34m\u001b[0m\u001b[0m\n\u001b[0m\u001b[1;32m   1937\u001b[0m         \u001b[0mmask\u001b[0m \u001b[0;34m=\u001b[0m \u001b[0misnull\u001b[0m\u001b[0;34m(\u001b[0m\u001b[0mresult\u001b[0m\u001b[0;34m.\u001b[0m\u001b[0m_values\u001b[0m\u001b[0;34m)\u001b[0m\u001b[0;34m\u001b[0m\u001b[0m\n\u001b[1;32m   1938\u001b[0m         \u001b[0;32mif\u001b[0m \u001b[0mmask\u001b[0m\u001b[0;34m.\u001b[0m\u001b[0many\u001b[0m\u001b[0;34m(\u001b[0m\u001b[0;34m)\u001b[0m\u001b[0;34m:\u001b[0m\u001b[0;34m\u001b[0m\u001b[0m\n",
      "\u001b[0;32m/Users/fangjie/Workspace/virtual-environments/new/lib/python2.7/site-packages/pandas/core/series.pyc\u001b[0m in \u001b[0;36mreindex\u001b[0;34m(self, index, **kwargs)\u001b[0m\n\u001b[1;32m   2424\u001b[0m     \u001b[0;34m@\u001b[0m\u001b[0mAppender\u001b[0m\u001b[0;34m(\u001b[0m\u001b[0mgeneric\u001b[0m\u001b[0;34m.\u001b[0m\u001b[0m_shared_docs\u001b[0m\u001b[0;34m[\u001b[0m\u001b[0;34m'reindex'\u001b[0m\u001b[0;34m]\u001b[0m \u001b[0;34m%\u001b[0m \u001b[0m_shared_doc_kwargs\u001b[0m\u001b[0;34m)\u001b[0m\u001b[0;34m\u001b[0m\u001b[0m\n\u001b[1;32m   2425\u001b[0m     \u001b[0;32mdef\u001b[0m \u001b[0mreindex\u001b[0m\u001b[0;34m(\u001b[0m\u001b[0mself\u001b[0m\u001b[0;34m,\u001b[0m \u001b[0mindex\u001b[0m\u001b[0;34m=\u001b[0m\u001b[0mNone\u001b[0m\u001b[0;34m,\u001b[0m \u001b[0;34m**\u001b[0m\u001b[0mkwargs\u001b[0m\u001b[0;34m)\u001b[0m\u001b[0;34m:\u001b[0m\u001b[0;34m\u001b[0m\u001b[0m\n\u001b[0;32m-> 2426\u001b[0;31m         \u001b[0;32mreturn\u001b[0m \u001b[0msuper\u001b[0m\u001b[0;34m(\u001b[0m\u001b[0mSeries\u001b[0m\u001b[0;34m,\u001b[0m \u001b[0mself\u001b[0m\u001b[0;34m)\u001b[0m\u001b[0;34m.\u001b[0m\u001b[0mreindex\u001b[0m\u001b[0;34m(\u001b[0m\u001b[0mindex\u001b[0m\u001b[0;34m=\u001b[0m\u001b[0mindex\u001b[0m\u001b[0;34m,\u001b[0m \u001b[0;34m**\u001b[0m\u001b[0mkwargs\u001b[0m\u001b[0;34m)\u001b[0m\u001b[0;34m\u001b[0m\u001b[0m\n\u001b[0m\u001b[1;32m   2427\u001b[0m \u001b[0;34m\u001b[0m\u001b[0m\n\u001b[1;32m   2428\u001b[0m     \u001b[0;34m@\u001b[0m\u001b[0mAppender\u001b[0m\u001b[0;34m(\u001b[0m\u001b[0mgeneric\u001b[0m\u001b[0;34m.\u001b[0m\u001b[0m_shared_docs\u001b[0m\u001b[0;34m[\u001b[0m\u001b[0;34m'fillna'\u001b[0m\u001b[0;34m]\u001b[0m \u001b[0;34m%\u001b[0m \u001b[0m_shared_doc_kwargs\u001b[0m\u001b[0;34m)\u001b[0m\u001b[0;34m\u001b[0m\u001b[0m\n",
      "\u001b[0;32m/Users/fangjie/Workspace/virtual-environments/new/lib/python2.7/site-packages/pandas/core/generic.pyc\u001b[0m in \u001b[0;36mreindex\u001b[0;34m(self, *args, **kwargs)\u001b[0m\n\u001b[1;32m   2513\u001b[0m         \u001b[0;31m# perform the reindex on the axes\u001b[0m\u001b[0;34m\u001b[0m\u001b[0;34m\u001b[0m\u001b[0m\n\u001b[1;32m   2514\u001b[0m         return self._reindex_axes(axes, level, limit, tolerance, method,\n\u001b[0;32m-> 2515\u001b[0;31m                                   fill_value, copy).__finalize__(self)\n\u001b[0m\u001b[1;32m   2516\u001b[0m \u001b[0;34m\u001b[0m\u001b[0m\n\u001b[1;32m   2517\u001b[0m     def _reindex_axes(self, axes, level, limit, tolerance, method, fill_value,\n",
      "\u001b[0;32m/Users/fangjie/Workspace/virtual-environments/new/lib/python2.7/site-packages/pandas/core/generic.pyc\u001b[0m in \u001b[0;36m_reindex_axes\u001b[0;34m(self, axes, level, limit, tolerance, method, fill_value, copy)\u001b[0m\n\u001b[1;32m   2531\u001b[0m             obj = obj._reindex_with_indexers({axis: [new_index, indexer]},\n\u001b[1;32m   2532\u001b[0m                                              \u001b[0mfill_value\u001b[0m\u001b[0;34m=\u001b[0m\u001b[0mfill_value\u001b[0m\u001b[0;34m,\u001b[0m\u001b[0;34m\u001b[0m\u001b[0m\n\u001b[0;32m-> 2533\u001b[0;31m                                              copy=copy, allow_dups=False)\n\u001b[0m\u001b[1;32m   2534\u001b[0m \u001b[0;34m\u001b[0m\u001b[0m\n\u001b[1;32m   2535\u001b[0m         \u001b[0;32mreturn\u001b[0m \u001b[0mobj\u001b[0m\u001b[0;34m\u001b[0m\u001b[0m\n",
      "\u001b[0;32m/Users/fangjie/Workspace/virtual-environments/new/lib/python2.7/site-packages/pandas/core/generic.pyc\u001b[0m in \u001b[0;36m_reindex_with_indexers\u001b[0;34m(self, reindexers, fill_value, copy, allow_dups)\u001b[0m\n\u001b[1;32m   2625\u001b[0m                                                 \u001b[0mfill_value\u001b[0m\u001b[0;34m=\u001b[0m\u001b[0mfill_value\u001b[0m\u001b[0;34m,\u001b[0m\u001b[0;34m\u001b[0m\u001b[0m\n\u001b[1;32m   2626\u001b[0m                                                 \u001b[0mallow_dups\u001b[0m\u001b[0;34m=\u001b[0m\u001b[0mallow_dups\u001b[0m\u001b[0;34m,\u001b[0m\u001b[0;34m\u001b[0m\u001b[0m\n\u001b[0;32m-> 2627\u001b[0;31m                                                 copy=copy)\n\u001b[0m\u001b[1;32m   2628\u001b[0m \u001b[0;34m\u001b[0m\u001b[0m\n\u001b[1;32m   2629\u001b[0m         \u001b[0;32mif\u001b[0m \u001b[0mcopy\u001b[0m \u001b[0;32mand\u001b[0m \u001b[0mnew_data\u001b[0m \u001b[0;32mis\u001b[0m \u001b[0mself\u001b[0m\u001b[0;34m.\u001b[0m\u001b[0m_data\u001b[0m\u001b[0;34m:\u001b[0m\u001b[0;34m\u001b[0m\u001b[0m\n",
      "\u001b[0;32m/Users/fangjie/Workspace/virtual-environments/new/lib/python2.7/site-packages/pandas/core/internals.pyc\u001b[0m in \u001b[0;36mreindex_indexer\u001b[0;34m(self, new_axis, indexer, axis, fill_value, allow_dups, copy)\u001b[0m\n\u001b[1;32m   3884\u001b[0m         \u001b[0;31m# some axes don't allow reindexing with dups\u001b[0m\u001b[0;34m\u001b[0m\u001b[0;34m\u001b[0m\u001b[0m\n\u001b[1;32m   3885\u001b[0m         \u001b[0;32mif\u001b[0m \u001b[0;32mnot\u001b[0m \u001b[0mallow_dups\u001b[0m\u001b[0;34m:\u001b[0m\u001b[0;34m\u001b[0m\u001b[0m\n\u001b[0;32m-> 3886\u001b[0;31m             \u001b[0mself\u001b[0m\u001b[0;34m.\u001b[0m\u001b[0maxes\u001b[0m\u001b[0;34m[\u001b[0m\u001b[0maxis\u001b[0m\u001b[0;34m]\u001b[0m\u001b[0;34m.\u001b[0m\u001b[0m_can_reindex\u001b[0m\u001b[0;34m(\u001b[0m\u001b[0mindexer\u001b[0m\u001b[0;34m)\u001b[0m\u001b[0;34m\u001b[0m\u001b[0m\n\u001b[0m\u001b[1;32m   3887\u001b[0m \u001b[0;34m\u001b[0m\u001b[0m\n\u001b[1;32m   3888\u001b[0m         \u001b[0;32mif\u001b[0m \u001b[0maxis\u001b[0m \u001b[0;34m>=\u001b[0m \u001b[0mself\u001b[0m\u001b[0;34m.\u001b[0m\u001b[0mndim\u001b[0m\u001b[0;34m:\u001b[0m\u001b[0;34m\u001b[0m\u001b[0m\n",
      "\u001b[0;32m/Users/fangjie/Workspace/virtual-environments/new/lib/python2.7/site-packages/pandas/core/indexes/base.pyc\u001b[0m in \u001b[0;36m_can_reindex\u001b[0;34m(self, indexer)\u001b[0m\n\u001b[1;32m   2834\u001b[0m         \u001b[0;31m# trying to reindex on an axis with duplicates\u001b[0m\u001b[0;34m\u001b[0m\u001b[0;34m\u001b[0m\u001b[0m\n\u001b[1;32m   2835\u001b[0m         \u001b[0;32mif\u001b[0m \u001b[0;32mnot\u001b[0m \u001b[0mself\u001b[0m\u001b[0;34m.\u001b[0m\u001b[0mis_unique\u001b[0m \u001b[0;32mand\u001b[0m \u001b[0mlen\u001b[0m\u001b[0;34m(\u001b[0m\u001b[0mindexer\u001b[0m\u001b[0;34m)\u001b[0m\u001b[0;34m:\u001b[0m\u001b[0;34m\u001b[0m\u001b[0m\n\u001b[0;32m-> 2836\u001b[0;31m             \u001b[0;32mraise\u001b[0m \u001b[0mValueError\u001b[0m\u001b[0;34m(\u001b[0m\u001b[0;34m\"cannot reindex from a duplicate axis\"\u001b[0m\u001b[0;34m)\u001b[0m\u001b[0;34m\u001b[0m\u001b[0m\n\u001b[0m\u001b[1;32m   2837\u001b[0m \u001b[0;34m\u001b[0m\u001b[0m\n\u001b[1;32m   2838\u001b[0m     def reindex(self, target, method=None, level=None, limit=None,\n",
      "\u001b[0;31mValueError\u001b[0m: cannot reindex from a duplicate axis"
     ]
    }
   ],
   "source": [
    "# some extra filtering to remove outliers\n",
    "mask_outlier = (df.logerror > 0.4) | (df.logerror < -0.4)\n",
    "# mask_outlier = df.logerror > 999\n",
    "\n",
    "X_train = df.loc[(mask_train & ~mask_outlier), feats].astype(float).values\n",
    "X_test = df.loc[mask_test, feats].astype(float).values\n",
    "\n",
    "y_train = np.array(df.loc[(mask_train & ~mask_outlier), 'logerror'].tolist())\n",
    "y_test = np.array(df.loc[mask_test, 'logerror'].tolist())"
   ]
  },
  {
   "cell_type": "code",
   "execution_count": 421,
   "metadata": {},
   "outputs": [
    {
     "ename": "ValueError",
     "evalue": "list.remove(x): x not in list",
     "output_type": "error",
     "traceback": [
      "\u001b[0;31m---------------------------------------------------------------------------\u001b[0m",
      "\u001b[0;31mValueError\u001b[0m                                Traceback (most recent call last)",
      "\u001b[0;32m<ipython-input-421-035570f5288a>\u001b[0m in \u001b[0;36m<module>\u001b[0;34m()\u001b[0m\n\u001b[1;32m     12\u001b[0m \u001b[0mmask_train\u001b[0m\u001b[0;34m.\u001b[0m\u001b[0mreset_index\u001b[0m\u001b[0;34m(\u001b[0m\u001b[0mdrop\u001b[0m\u001b[0;34m=\u001b[0m\u001b[0mTrue\u001b[0m\u001b[0;34m,\u001b[0m \u001b[0minplace\u001b[0m \u001b[0;34m=\u001b[0m \u001b[0mTrue\u001b[0m\u001b[0;34m)\u001b[0m\u001b[0;34m\u001b[0m\u001b[0m\n\u001b[1;32m     13\u001b[0m \u001b[0mmask_test\u001b[0m\u001b[0;34m.\u001b[0m\u001b[0mreset_index\u001b[0m\u001b[0;34m(\u001b[0m\u001b[0mdrop\u001b[0m\u001b[0;34m=\u001b[0m\u001b[0mTrue\u001b[0m\u001b[0;34m,\u001b[0m \u001b[0minplace\u001b[0m \u001b[0;34m=\u001b[0m \u001b[0mTrue\u001b[0m\u001b[0;34m)\u001b[0m\u001b[0;34m\u001b[0m\u001b[0m\n\u001b[0;32m---> 14\u001b[0;31m \u001b[0mfeats\u001b[0m\u001b[0;34m.\u001b[0m\u001b[0mremove\u001b[0m\u001b[0;34m(\u001b[0m\u001b[0;34m'f_num_stddev_logerror'\u001b[0m\u001b[0;34m)\u001b[0m\u001b[0;34m\u001b[0m\u001b[0m\n\u001b[0m\u001b[1;32m     15\u001b[0m \u001b[0mfeats\u001b[0m\u001b[0;34m.\u001b[0m\u001b[0mremove\u001b[0m\u001b[0;34m(\u001b[0m\u001b[0;34m'f_num_avg_logerror'\u001b[0m\u001b[0;34m)\u001b[0m\u001b[0;34m\u001b[0m\u001b[0m\n\u001b[1;32m     16\u001b[0m \u001b[0;31m# X_train = df.loc[mask_train, feats].astype(float).values\u001b[0m\u001b[0;34m\u001b[0m\u001b[0;34m\u001b[0m\u001b[0m\n",
      "\u001b[0;31mValueError\u001b[0m: list.remove(x): x not in list"
     ]
    }
   ],
   "source": []
  },
  {
   "cell_type": "code",
   "execution_count": 198,
   "metadata": {},
   "outputs": [],
   "source": [
    "X_train = df.loc[mask_train, feats].astype(float).values\n",
    "X_test = df.loc[mask_test, feats].astype(float).values\n",
    "\n",
    "y_train = np.array(df.loc[mask_train, 'logerror'].tolist())\n",
    "y_test = np.array(df.loc[mask_test, 'logerror'].tolist())\n",
    "\n",
    "data = (X_train, X_test, y_train, y_test)"
   ]
  },
  {
   "cell_type": "code",
   "execution_count": 200,
   "metadata": {},
   "outputs": [],
   "source": [
    "# save data\n",
    "pickle.dump(data, open('/Users/fangjie/Workspace/data-science/competitions/zillow/training_and_testing_data.pkl', 'w'))"
   ]
  },
  {
   "cell_type": "code",
   "execution_count": null,
   "metadata": {},
   "outputs": [],
   "source": [
    "mask_train.reset_index(drop=True, inplace = True)\n",
    "mask_test.reset_index(drop=True, inplace = True)\n",
    "feats.remove('f_num_stddev_logerror')\n",
    "feats.remove('f_num_avg_logerror')\n",
    "# X_train = df.loc[mask_train, feats].astype(float).values\n",
    "# X_test = df.loc[mask_test, feats].astype(float).values\n"
   ]
  },
  {
   "cell_type": "markdown",
   "metadata": {},
   "source": [
    "<a id=\"section_5\"></a>\n",
    "# 5. Train models"
   ]
  },
  {
   "cell_type": "code",
   "execution_count": null,
   "metadata": {},
   "outputs": [],
   "source": [
    "np.random.seed(42)\n",
    "random.seed(42)"
   ]
  },
  {
   "cell_type": "markdown",
   "metadata": {},
   "source": [
    "<a id=\"section_5_a\"></a>\n",
    "## 5a. LightGBM"
   ]
  },
  {
   "cell_type": "code",
   "execution_count": null,
   "metadata": {},
   "outputs": [],
   "source": [
    "params = {\n",
    "    # 'max_bin': [10],\n",
    "    'max_depth': [100],\n",
    "    'num_leaves': [32],\n",
    "    'feature_fraction': [0.85],\n",
    "    'bagging_fraction': [0.95],\n",
    "    'bagging_freq': [8],\n",
    "    'learning_rate': [0.0025],\n",
    "}"
   ]
  },
  {
   "cell_type": "code",
   "execution_count": null,
   "metadata": {},
   "outputs": [],
   "source": [
    "start = time.time()\n",
    "scorer = make_scorer(mean_absolute_error)\n",
    "model = lgb.LGBMRegressor(boosting_type = 'gbdt', \n",
    "                          metric='mae', \n",
    "                          verbosity=0, \n",
    "                          #verbose_eval=200, \n",
    "                          num_boost_round=200,\n",
    "                          #bagging_seed=42, \n",
    "                          #feature_fraction_seed=42,\n",
    "                          n_jobs = 6\n",
    "                          )\n",
    "grid = GridSearchCV(model, params, scoring=scorer,\n",
    "                          cv=3, verbose=2, n_jobs=6)\n",
    "grid.fit(X_train, y_train)\n",
    "print(\"[INFO] randomized search took {:.2f} seconds\".format(\n",
    "    time.time() - start))"
   ]
  },
  {
   "cell_type": "code",
   "execution_count": null,
   "metadata": {},
   "outputs": [],
   "source": [
    "# prediction for test set and prediction set\n",
    "y_pred = grid.predict(X_test)\n",
    "# pred_lgb = grid.predict(X_pred_2016)"
   ]
  },
  {
   "cell_type": "code",
   "execution_count": null,
   "metadata": {},
   "outputs": [],
   "source": [
    "mae = grid.score(X_test, y_test)\n",
    "print(\"[INFO] grid search MAE: {:.6f}\".format(mae))\n",
    "print(\"[INFO] randomized search best parameters: {}\".format(\n",
    "    grid.best_params_))"
   ]
  },
  {
   "cell_type": "code",
   "execution_count": null,
   "metadata": {},
   "outputs": [],
   "source": [
    "mae = grid.score(X_test, y_test)\n",
    "print(\"[INFO] grid search MAE: {:.6f}\".format(mae))\n",
    "print(\"[INFO] randomized search best parameters: {}\".format(\n",
    "    grid.best_params_))"
   ]
  },
  {
   "cell_type": "markdown",
   "metadata": {},
   "source": [
    "### make prediction"
   ]
  },
  {
   "cell_type": "code",
   "execution_count": null,
   "metadata": {},
   "outputs": [],
   "source": [
    "results = pd.DataFrame()\n",
    "results['ParcelId'] = df_pred_2016['ParcelId']"
   ]
  },
  {
   "cell_type": "code",
   "execution_count": null,
   "metadata": {},
   "outputs": [],
   "source": [
    "df_train = df\n",
    "#for m in [201610]:\n",
    "for m in [201610, 201611, 201612, 201710, 201711, 201712]:\n",
    "    print \"now doing prediction for {} ...\".format(str(m))\n",
    "    year = str(m)[:4]\n",
    "    month = str(m)[4:]\n",
    "    \n",
    "    # avg log error, monthly\n",
    "    group = df_train.groupby(df_train.f_num_month)['logerror'].aggregate('mean').to_dict()\n",
    "    eval('df_pred_'+year)['f_num_monthly_avg_logerror'] = group[int(month)]\n",
    "                                   \n",
    "    # std dev log error, monthly\n",
    "    group = df_train.groupby(df_train.f_num_month)['logerror'].aggregate('std').to_dict()\n",
    "    eval('df_pred_'+year)['f_num_monthly_stddev_logerror'] = group[int(month)]\n",
    "\n",
    "    # avg log error, quarterly\n",
    "    group = df_train.groupby(df_train.f_num_month)['logerror'].aggregate('mean').to_dict()\n",
    "    eval('df_pred_'+year)['f_num_quarterly_avg_logerror'] = group[4]\n",
    "    \n",
    "    # std dev log error, monthly\n",
    "    group = df_train.groupby(df_train.f_num_month)['logerror'].aggregate('std').to_dict()\n",
    "    eval('df_pred_'+year)['f_num_quarterly_stddev_logerror'] = group[4]\n",
    "    \n",
    "    \n",
    "    eval('df_pred_'+year)['f_num_month'] = int(month)\n",
    "    eval('df_pred_'+year)['f_num_quarter'] = 4\n",
    "    \n",
    "    pred = grid.predict(eval('df_pred_'+year)[feats].astype(float).values)\n",
    "    results[str(m)] = pred\n",
    "    "
   ]
  },
  {
   "cell_type": "code",
   "execution_count": null,
   "metadata": {},
   "outputs": [],
   "source": [
    "results.shape[0] == 2985217"
   ]
  },
  {
   "cell_type": "code",
   "execution_count": null,
   "metadata": {},
   "outputs": [],
   "source": [
    "results.to_csv('/Users/fangjie/Workspace/data-science/competitions/zillow/submission_{}.csv'.format(datetime.datetime.now().strftime('%Y%m%d_%H%M%S')), index=False, float_format = '%.5f')"
   ]
  },
  {
   "cell_type": "markdown",
   "metadata": {},
   "source": [
    "<a id=\"section_5_b\"></a>\n",
    "## 5b. XgBoost"
   ]
  },
  {
   "cell_type": "code",
   "execution_count": null,
   "metadata": {},
   "outputs": [],
   "source": [
    "# xgboost params\n",
    "params = {\n",
    "    'eta': 0.037,\n",
    "    'max_depth': 5,\n",
    "    'subsample': 0.80,\n",
    "    'objective': 'reg:linear',\n",
    "    'eval_metric': 'mae',\n",
    "    'lambda': 0.8,   \n",
    "    'alpha': 0.4, \n",
    "    'base_score': np.mean(y_train),\n",
    "    'silent': 1\n",
    "}"
   ]
  },
  {
   "cell_type": "code",
   "execution_count": null,
   "metadata": {},
   "outputs": [],
   "source": [
    "d_train = xgb.DMatrix(X_train, y_train)\n",
    "d_test = xgb.DMatrix(X_test)\n",
    "d_pred = xgb.DMatrix(X_pred)"
   ]
  },
  {
   "cell_type": "code",
   "execution_count": null,
   "metadata": {},
   "outputs": [],
   "source": [
    "num_boost_rounds = 150\n",
    "fit = xgb.train(dict(params, silent=1), d_train, num_boost_round=num_boost_rounds)"
   ]
  },
  {
   "cell_type": "code",
   "execution_count": null,
   "metadata": {},
   "outputs": [],
   "source": [
    "# prediction for test set and prediction set\n",
    "y_pred = fit.predict(d_test)\n",
    "pred_xgb = fit.predict(d_pred)"
   ]
  },
  {
   "cell_type": "code",
   "execution_count": null,
   "metadata": {},
   "outputs": [],
   "source": [
    "report_test_set_performance()"
   ]
  },
  {
   "cell_type": "code",
   "execution_count": null,
   "metadata": {},
   "outputs": [],
   "source": [
    "# when not using oct data\n",
    "report_test_set_performance()"
   ]
  },
  {
   "cell_type": "markdown",
   "metadata": {},
   "source": [
    "<a id=\"section_5_c\"></a>\n",
    "## 5c. Random Forest"
   ]
  },
  {
   "cell_type": "code",
   "execution_count": null,
   "metadata": {},
   "outputs": [],
   "source": [
    "params = {\n",
    "    \"max_depth\": 10,\n",
    "    \"min_samples_split\": 50,\n",
    "    \"n_estimators\": 200\n",
    "}"
   ]
  },
  {
   "cell_type": "code",
   "execution_count": null,
   "metadata": {},
   "outputs": [],
   "source": [
    "fit = RandomForestRegressor(random_state=42, n_jobs=-1, verbose=1, **params)\n",
    "fit.fit(X_train, y_train)"
   ]
  },
  {
   "cell_type": "code",
   "execution_count": null,
   "metadata": {},
   "outputs": [],
   "source": [
    "# prediction for test set and prediction set\n",
    "y_pred = fit.predict(X_test)\n",
    "pred_rf = fit.predict(X_pred)"
   ]
  },
  {
   "cell_type": "code",
   "execution_count": null,
   "metadata": {},
   "outputs": [],
   "source": [
    "report_test_set_performance()"
   ]
  },
  {
   "cell_type": "markdown",
   "metadata": {},
   "source": [
    "<a id=\"section_5_d\"></a>\n",
    "## 5d. Elastic Net\n",
    "For linear model, need to have different missing value imputation strategy."
   ]
  },
  {
   "cell_type": "code",
   "execution_count": null,
   "metadata": {},
   "outputs": [],
   "source": [
    "params = {\n",
    "    'l1_ratio':0.7, \n",
    "}"
   ]
  },
  {
   "cell_type": "code",
   "execution_count": null,
   "metadata": {},
   "outputs": [],
   "source": [
    "fit = ElasticNetCV(cv=5, random_state=42)\n",
    "fit.fit(X_train, y_train)\n",
    "ElasticNetCV(alphas=None, copy_X=True, cv=5, eps=0.001, fit_intercept=True,\n",
    "       l1_ratio=0.5, max_iter=1000, n_alphas=100, n_jobs=-1,\n",
    "       normalize=False, positive=False, precompute='auto', random_state=0,\n",
    "       selection='cyclic', tol=0.0001, verbose=0)"
   ]
  },
  {
   "cell_type": "code",
   "execution_count": null,
   "metadata": {},
   "outputs": [],
   "source": [
    "# prediction for test set and prediction set\n",
    "y_pred = fit.predict(X_test)\n",
    "#pred_enet = fit.predict(X_pred)"
   ]
  },
  {
   "cell_type": "code",
   "execution_count": null,
   "metadata": {},
   "outputs": [],
   "source": [
    "def report_test_set_performance():\n",
    "    #explained_variance_score(y_pred=y_pred, y_true=y_test)\n",
    "    print 'MAE:{}'.format(round(mean_absolute_error(y_pred=y_pred, y_true=y_test),6))\n",
    "    # pd.Series(pred_lgb_test).hist()"
   ]
  },
  {
   "cell_type": "code",
   "execution_count": null,
   "metadata": {},
   "outputs": [],
   "source": [
    "report_test_set_performance()"
   ]
  },
  {
   "cell_type": "markdown",
   "metadata": {},
   "source": [
    "<a id=\"section_5_e\"></a>\n",
    "## 5e. CatBoost"
   ]
  },
  {
   "cell_type": "code",
   "execution_count": null,
   "metadata": {},
   "outputs": [],
   "source": [
    "cat_feature_inds = []\n",
    "cat_unique_thresh = 1000\n",
    "for i, c in enumerate(feats_categorical):\n",
    "    num_uniques = len(df[c].unique())\n",
    "    if num_uniques < cat_unique_thresh \\\n",
    "       and not 'sqft' in c \\\n",
    "       and not 'cnt' in c \\\n",
    "       and not 'nbr' in c \\\n",
    "       and not 'number' in c:\n",
    "        cat_feature_inds.append(i)"
   ]
  },
  {
   "cell_type": "code",
   "execution_count": null,
   "metadata": {},
   "outputs": [],
   "source": [
    "num_ensembles = 5\n",
    "y_pred = 0.0\n",
    "for i in tqdm(range(num_ensembles)):\n",
    "    model = CatBoostRegressor(\n",
    "        iterations=300, learning_rate=0.03,\n",
    "        depth=6, l2_leaf_reg=3,\n",
    "        loss_function='MAE',\n",
    "        eval_metric='MAE',\n",
    "        random_seed=i)\n",
    "    \n",
    "    model.fit(\n",
    "        X_train, y_train,\n",
    "        #cat_features=cat_feature_inds\n",
    "    )\n",
    "    y_pred += model.predict(X_test)\n",
    "y_pred /= num_ensembles\n"
   ]
  },
  {
   "cell_type": "code",
   "execution_count": null,
   "metadata": {},
   "outputs": [],
   "source": [
    "report_test_set_performance()"
   ]
  },
  {
   "cell_type": "markdown",
   "metadata": {},
   "source": [
    "<a id=\"section_6\"></a>\n",
    "# 6. Visualizations"
   ]
  },
  {
   "cell_type": "code",
   "execution_count": null,
   "metadata": {},
   "outputs": [],
   "source": []
  },
  {
   "cell_type": "markdown",
   "metadata": {},
   "source": [
    "<a id=\"section_7_a\"></a>\n",
    "# 7. Ensenmble - stacking"
   ]
  },
  {
   "cell_type": "code",
   "execution_count": null,
   "metadata": {},
   "outputs": [],
   "source": [
    "model_weights = {\n",
    "    'lgb': 1,\n",
    "    'xgb': 0.00,\n",
    "    'rf': 0.00,\n",
    "    'enet': 0,\n",
    "    'baseline': 0,\n",
    "}"
   ]
  },
  {
   "cell_type": "markdown",
   "metadata": {},
   "source": [
    "## Make predictions first for each model"
   ]
  },
  {
   "cell_type": "code",
   "execution_count": null,
   "metadata": {},
   "outputs": [],
   "source": [
    "pred_all = 0\n",
    "pred_baseline = df.logerror.mean()\n",
    "for model_name, model_weight in model_weights.iteritems():\n",
    "    pred_all += eval('pred_'+model_name) * model_weight\n",
    "pred_all = pred_all / sum(model_weights.values())"
   ]
  },
  {
   "cell_type": "markdown",
   "metadata": {},
   "source": [
    "# generate submission file"
   ]
  },
  {
   "cell_type": "code",
   "execution_count": null,
   "metadata": {},
   "outputs": [],
   "source": [
    "df_submission = df[['parcelid','logerror']]\n",
    "df_submission['pred'] = pred_all"
   ]
  },
  {
   "cell_type": "code",
   "execution_count": null,
   "metadata": {},
   "outputs": [],
   "source": [
    "# df_submission['201610'] = df_submission['logerror'].combine_first(df_submission['pred'])\n",
    "df_submission['201610'] = df_submission['pred']\n",
    "df_submission['201611'] = df_submission['pred']\n",
    "df_submission['201612'] = df_submission['pred']\n",
    "df_submission['201710'] = df_submission['pred']\n",
    "df_submission['201711'] = df_submission['pred']\n",
    "df_submission['201712'] = df_submission['pred']"
   ]
  },
  {
   "cell_type": "code",
   "execution_count": null,
   "metadata": {},
   "outputs": [],
   "source": [
    "df_submission.drop_duplicates(subset = ['parcelid'], keep='first', inplace = True)"
   ]
  },
  {
   "cell_type": "code",
   "execution_count": null,
   "metadata": {},
   "outputs": [],
   "source": [
    "del df_submission['logerror']\n",
    "del df_submission['pred']"
   ]
  },
  {
   "cell_type": "code",
   "execution_count": null,
   "metadata": {},
   "outputs": [],
   "source": []
  }
 ],
 "metadata": {
  "kernelspec": {
   "display_name": "Python 2",
   "language": "python",
   "name": "python2"
  },
  "language_info": {
   "codemirror_mode": {
    "name": "ipython",
    "version": 2
   },
   "file_extension": ".py",
   "mimetype": "text/x-python",
   "name": "python",
   "nbconvert_exporter": "python",
   "pygments_lexer": "ipython2",
   "version": "2.7.10"
  }
 },
 "nbformat": 4,
 "nbformat_minor": 2
}
